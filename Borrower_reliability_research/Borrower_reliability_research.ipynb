{
 "cells": [
  {
   "cell_type": "markdown",
   "id": "763f7083-0e6e-4ee0-b71e-26b36dcfa6ae",
   "metadata": {},
   "source": [
    "**Исследование надёжности заёмщиков**\n",
    "_____\n",
    "**Описание исследования**\n",
    "\n",
    "Заказчик — кредитный отдел банка.\n",
    "Результаты исследования будут учтены при построении модели кредитного скоринга — специальной системы, которая оценивает способность потенциального заёмщика вернуть кредит банку.\n",
    "_____\n",
    "**Цель исследования**\n",
    "    \n",
    "Нужно разобраться, влияет ли семейное положение и количество детей клиента на факт погашения кредита в срок. \n",
    "_____\n",
    "**Исходные данные**\n",
    "   \n",
    "Входные данные от банка — статистика о платёжеспособности клиентов. \n",
    "* `children` — количество детей в семье\n",
    "* `days_employed` — общий трудовой стаж в днях\n",
    "* `dob_years` — возраст клиента в годах\n",
    "* `education` — уровень образования клиента\n",
    "* `education_id` — идентификатор уровня образования\n",
    "* `family_status` — семейное положение\n",
    "* `family_status_id` — идентификатор семейного положения\n",
    "* `gender` — пол клиента\n",
    "* `income_type` — тип занятости\n",
    "* `debt` — имел ли задолженность по возврату кредитов\n",
    "* `total_income` — ежемесячный доход\n",
    "* `purpose` — цель получения  кредита\n",
    "______\n",
    "\n",
    "**Данное исследование разделим на несколько частей:**\n",
    "\n",
    "*ссылки на заголовки не работают в github*\n",
    "\n",
    "[**Часть 1. Изучение общей информации**](#Изучим-общую-информацию-о-данных)\n",
    "\n",
    "[**Часть 2. Предобработка данных**](#Предобработка-данных)\n",
    "\n",
    "[**Часть 3. Исследовательский анализ данных**](#Исследование-данных)\n",
    "\n",
    "[**Часть 4. Общий вывод**](#Общий-вывод)"
   ]
  },
  {
   "cell_type": "markdown",
   "id": "386f2ae7",
   "metadata": {
    "deletable": false,
    "editable": false,
    "id": "386f2ae7"
   },
   "source": [
    "# Исследование надежности заемщиков\n"
   ]
  },
  {
   "cell_type": "markdown",
   "id": "26613308",
   "metadata": {
    "deletable": false,
    "id": "26613308"
   },
   "source": [
    "## Изучим общую информацию о данных"
   ]
  },
  {
   "cell_type": "markdown",
   "id": "3c9f838e",
   "metadata": {
    "deletable": false,
    "id": "3c9f838e",
    "slideshow": {
     "slide_type": ""
    },
    "tags": []
   },
   "source": [
    "**Импортируем библиотеку pandas. Считаем данные из csv-файла в датафрейм и сохраним в переменную `data`.**"
   ]
  },
  {
   "cell_type": "code",
   "execution_count": 64,
   "id": "32436358-14b9-4960-ae18-19fd4c4742b5",
   "metadata": {},
   "outputs": [],
   "source": [
    "# Загрузка библиотек\n",
    "!pip install jupyter-black -q\n",
    "import jupyter_black\n",
    "\n",
    "jupyter_black.load()\n",
    "import pandas as pd\n",
    "import warnings\n",
    "\n",
    "warnings.filterwarnings(\"ignore\")"
   ]
  },
  {
   "cell_type": "code",
   "execution_count": 65,
   "id": "77a68a90",
   "metadata": {
    "deletable": false,
    "id": "77a68a90"
   },
   "outputs": [],
   "source": [
    "try:\n",
    "    data = pd.read_csv(\"/datasets/data.csv\")\n",
    "except:\n",
    "    data = pd.read_csv(\"https://code.s3.yandex.net/datasets/data.csv\")"
   ]
  },
  {
   "cell_type": "markdown",
   "id": "45365635",
   "metadata": {
    "deletable": false,
    "id": "45365635"
   },
   "source": [
    "**Выведем первые 20 строчек датафрейма `data` на экран.**"
   ]
  },
  {
   "cell_type": "code",
   "execution_count": 67,
   "id": "b0451a9a",
   "metadata": {
    "deletable": false,
    "id": "b0451a9a",
    "outputId": "1a8f3ef2-d323-4ec2-ddf7-89670b5944c4"
   },
   "outputs": [
    {
     "data": {
      "text/html": [
       "<div>\n",
       "<style scoped>\n",
       "    .dataframe tbody tr th:only-of-type {\n",
       "        vertical-align: middle;\n",
       "    }\n",
       "\n",
       "    .dataframe tbody tr th {\n",
       "        vertical-align: top;\n",
       "    }\n",
       "\n",
       "    .dataframe thead th {\n",
       "        text-align: right;\n",
       "    }\n",
       "</style>\n",
       "<table border=\"1\" class=\"dataframe\">\n",
       "  <thead>\n",
       "    <tr style=\"text-align: right;\">\n",
       "      <th></th>\n",
       "      <th>children</th>\n",
       "      <th>days_employed</th>\n",
       "      <th>dob_years</th>\n",
       "      <th>education</th>\n",
       "      <th>education_id</th>\n",
       "      <th>family_status</th>\n",
       "      <th>family_status_id</th>\n",
       "      <th>gender</th>\n",
       "      <th>income_type</th>\n",
       "      <th>debt</th>\n",
       "      <th>total_income</th>\n",
       "      <th>purpose</th>\n",
       "    </tr>\n",
       "  </thead>\n",
       "  <tbody>\n",
       "    <tr>\n",
       "      <th>0</th>\n",
       "      <td>1</td>\n",
       "      <td>-8437.673028</td>\n",
       "      <td>42</td>\n",
       "      <td>высшее</td>\n",
       "      <td>0</td>\n",
       "      <td>женат / замужем</td>\n",
       "      <td>0</td>\n",
       "      <td>F</td>\n",
       "      <td>сотрудник</td>\n",
       "      <td>0</td>\n",
       "      <td>253875.639453</td>\n",
       "      <td>покупка жилья</td>\n",
       "    </tr>\n",
       "    <tr>\n",
       "      <th>1</th>\n",
       "      <td>1</td>\n",
       "      <td>-4024.803754</td>\n",
       "      <td>36</td>\n",
       "      <td>среднее</td>\n",
       "      <td>1</td>\n",
       "      <td>женат / замужем</td>\n",
       "      <td>0</td>\n",
       "      <td>F</td>\n",
       "      <td>сотрудник</td>\n",
       "      <td>0</td>\n",
       "      <td>112080.014102</td>\n",
       "      <td>приобретение автомобиля</td>\n",
       "    </tr>\n",
       "    <tr>\n",
       "      <th>2</th>\n",
       "      <td>0</td>\n",
       "      <td>-5623.422610</td>\n",
       "      <td>33</td>\n",
       "      <td>Среднее</td>\n",
       "      <td>1</td>\n",
       "      <td>женат / замужем</td>\n",
       "      <td>0</td>\n",
       "      <td>M</td>\n",
       "      <td>сотрудник</td>\n",
       "      <td>0</td>\n",
       "      <td>145885.952297</td>\n",
       "      <td>покупка жилья</td>\n",
       "    </tr>\n",
       "    <tr>\n",
       "      <th>3</th>\n",
       "      <td>3</td>\n",
       "      <td>-4124.747207</td>\n",
       "      <td>32</td>\n",
       "      <td>среднее</td>\n",
       "      <td>1</td>\n",
       "      <td>женат / замужем</td>\n",
       "      <td>0</td>\n",
       "      <td>M</td>\n",
       "      <td>сотрудник</td>\n",
       "      <td>0</td>\n",
       "      <td>267628.550329</td>\n",
       "      <td>дополнительное образование</td>\n",
       "    </tr>\n",
       "    <tr>\n",
       "      <th>4</th>\n",
       "      <td>0</td>\n",
       "      <td>340266.072047</td>\n",
       "      <td>53</td>\n",
       "      <td>среднее</td>\n",
       "      <td>1</td>\n",
       "      <td>гражданский брак</td>\n",
       "      <td>1</td>\n",
       "      <td>F</td>\n",
       "      <td>пенсионер</td>\n",
       "      <td>0</td>\n",
       "      <td>158616.077870</td>\n",
       "      <td>сыграть свадьбу</td>\n",
       "    </tr>\n",
       "    <tr>\n",
       "      <th>5</th>\n",
       "      <td>0</td>\n",
       "      <td>-926.185831</td>\n",
       "      <td>27</td>\n",
       "      <td>высшее</td>\n",
       "      <td>0</td>\n",
       "      <td>гражданский брак</td>\n",
       "      <td>1</td>\n",
       "      <td>M</td>\n",
       "      <td>компаньон</td>\n",
       "      <td>0</td>\n",
       "      <td>255763.565419</td>\n",
       "      <td>покупка жилья</td>\n",
       "    </tr>\n",
       "    <tr>\n",
       "      <th>6</th>\n",
       "      <td>0</td>\n",
       "      <td>-2879.202052</td>\n",
       "      <td>43</td>\n",
       "      <td>высшее</td>\n",
       "      <td>0</td>\n",
       "      <td>женат / замужем</td>\n",
       "      <td>0</td>\n",
       "      <td>F</td>\n",
       "      <td>компаньон</td>\n",
       "      <td>0</td>\n",
       "      <td>240525.971920</td>\n",
       "      <td>операции с жильем</td>\n",
       "    </tr>\n",
       "    <tr>\n",
       "      <th>7</th>\n",
       "      <td>0</td>\n",
       "      <td>-152.779569</td>\n",
       "      <td>50</td>\n",
       "      <td>СРЕДНЕЕ</td>\n",
       "      <td>1</td>\n",
       "      <td>женат / замужем</td>\n",
       "      <td>0</td>\n",
       "      <td>M</td>\n",
       "      <td>сотрудник</td>\n",
       "      <td>0</td>\n",
       "      <td>135823.934197</td>\n",
       "      <td>образование</td>\n",
       "    </tr>\n",
       "    <tr>\n",
       "      <th>8</th>\n",
       "      <td>2</td>\n",
       "      <td>-6929.865299</td>\n",
       "      <td>35</td>\n",
       "      <td>ВЫСШЕЕ</td>\n",
       "      <td>0</td>\n",
       "      <td>гражданский брак</td>\n",
       "      <td>1</td>\n",
       "      <td>F</td>\n",
       "      <td>сотрудник</td>\n",
       "      <td>0</td>\n",
       "      <td>95856.832424</td>\n",
       "      <td>на проведение свадьбы</td>\n",
       "    </tr>\n",
       "    <tr>\n",
       "      <th>9</th>\n",
       "      <td>0</td>\n",
       "      <td>-2188.756445</td>\n",
       "      <td>41</td>\n",
       "      <td>среднее</td>\n",
       "      <td>1</td>\n",
       "      <td>женат / замужем</td>\n",
       "      <td>0</td>\n",
       "      <td>M</td>\n",
       "      <td>сотрудник</td>\n",
       "      <td>0</td>\n",
       "      <td>144425.938277</td>\n",
       "      <td>покупка жилья для семьи</td>\n",
       "    </tr>\n",
       "    <tr>\n",
       "      <th>10</th>\n",
       "      <td>2</td>\n",
       "      <td>-4171.483647</td>\n",
       "      <td>36</td>\n",
       "      <td>высшее</td>\n",
       "      <td>0</td>\n",
       "      <td>женат / замужем</td>\n",
       "      <td>0</td>\n",
       "      <td>M</td>\n",
       "      <td>компаньон</td>\n",
       "      <td>0</td>\n",
       "      <td>113943.491460</td>\n",
       "      <td>покупка недвижимости</td>\n",
       "    </tr>\n",
       "    <tr>\n",
       "      <th>11</th>\n",
       "      <td>0</td>\n",
       "      <td>-792.701887</td>\n",
       "      <td>40</td>\n",
       "      <td>среднее</td>\n",
       "      <td>1</td>\n",
       "      <td>женат / замужем</td>\n",
       "      <td>0</td>\n",
       "      <td>F</td>\n",
       "      <td>сотрудник</td>\n",
       "      <td>0</td>\n",
       "      <td>77069.234271</td>\n",
       "      <td>покупка коммерческой недвижимости</td>\n",
       "    </tr>\n",
       "    <tr>\n",
       "      <th>12</th>\n",
       "      <td>0</td>\n",
       "      <td>NaN</td>\n",
       "      <td>65</td>\n",
       "      <td>среднее</td>\n",
       "      <td>1</td>\n",
       "      <td>гражданский брак</td>\n",
       "      <td>1</td>\n",
       "      <td>M</td>\n",
       "      <td>пенсионер</td>\n",
       "      <td>0</td>\n",
       "      <td>NaN</td>\n",
       "      <td>сыграть свадьбу</td>\n",
       "    </tr>\n",
       "    <tr>\n",
       "      <th>13</th>\n",
       "      <td>0</td>\n",
       "      <td>-1846.641941</td>\n",
       "      <td>54</td>\n",
       "      <td>неоконченное высшее</td>\n",
       "      <td>2</td>\n",
       "      <td>женат / замужем</td>\n",
       "      <td>0</td>\n",
       "      <td>F</td>\n",
       "      <td>сотрудник</td>\n",
       "      <td>0</td>\n",
       "      <td>130458.228857</td>\n",
       "      <td>приобретение автомобиля</td>\n",
       "    </tr>\n",
       "    <tr>\n",
       "      <th>14</th>\n",
       "      <td>0</td>\n",
       "      <td>-1844.956182</td>\n",
       "      <td>56</td>\n",
       "      <td>высшее</td>\n",
       "      <td>0</td>\n",
       "      <td>гражданский брак</td>\n",
       "      <td>1</td>\n",
       "      <td>F</td>\n",
       "      <td>компаньон</td>\n",
       "      <td>1</td>\n",
       "      <td>165127.911772</td>\n",
       "      <td>покупка жилой недвижимости</td>\n",
       "    </tr>\n",
       "    <tr>\n",
       "      <th>15</th>\n",
       "      <td>1</td>\n",
       "      <td>-972.364419</td>\n",
       "      <td>26</td>\n",
       "      <td>среднее</td>\n",
       "      <td>1</td>\n",
       "      <td>женат / замужем</td>\n",
       "      <td>0</td>\n",
       "      <td>F</td>\n",
       "      <td>сотрудник</td>\n",
       "      <td>0</td>\n",
       "      <td>116820.904450</td>\n",
       "      <td>строительство собственной недвижимости</td>\n",
       "    </tr>\n",
       "    <tr>\n",
       "      <th>16</th>\n",
       "      <td>0</td>\n",
       "      <td>-1719.934226</td>\n",
       "      <td>35</td>\n",
       "      <td>среднее</td>\n",
       "      <td>1</td>\n",
       "      <td>женат / замужем</td>\n",
       "      <td>0</td>\n",
       "      <td>F</td>\n",
       "      <td>сотрудник</td>\n",
       "      <td>0</td>\n",
       "      <td>289202.704229</td>\n",
       "      <td>недвижимость</td>\n",
       "    </tr>\n",
       "    <tr>\n",
       "      <th>17</th>\n",
       "      <td>0</td>\n",
       "      <td>-2369.999720</td>\n",
       "      <td>33</td>\n",
       "      <td>высшее</td>\n",
       "      <td>0</td>\n",
       "      <td>гражданский брак</td>\n",
       "      <td>1</td>\n",
       "      <td>M</td>\n",
       "      <td>сотрудник</td>\n",
       "      <td>0</td>\n",
       "      <td>90410.586745</td>\n",
       "      <td>строительство недвижимости</td>\n",
       "    </tr>\n",
       "    <tr>\n",
       "      <th>18</th>\n",
       "      <td>0</td>\n",
       "      <td>400281.136913</td>\n",
       "      <td>53</td>\n",
       "      <td>среднее</td>\n",
       "      <td>1</td>\n",
       "      <td>вдовец / вдова</td>\n",
       "      <td>2</td>\n",
       "      <td>F</td>\n",
       "      <td>пенсионер</td>\n",
       "      <td>0</td>\n",
       "      <td>56823.777243</td>\n",
       "      <td>на покупку подержанного автомобиля</td>\n",
       "    </tr>\n",
       "    <tr>\n",
       "      <th>19</th>\n",
       "      <td>0</td>\n",
       "      <td>-10038.818549</td>\n",
       "      <td>48</td>\n",
       "      <td>СРЕДНЕЕ</td>\n",
       "      <td>1</td>\n",
       "      <td>в разводе</td>\n",
       "      <td>3</td>\n",
       "      <td>F</td>\n",
       "      <td>сотрудник</td>\n",
       "      <td>0</td>\n",
       "      <td>242831.107982</td>\n",
       "      <td>на покупку своего автомобиля</td>\n",
       "    </tr>\n",
       "  </tbody>\n",
       "</table>\n",
       "</div>"
      ],
      "text/plain": [
       "    children  days_employed  dob_years            education  education_id  \\\n",
       "0          1   -8437.673028         42               высшее             0   \n",
       "1          1   -4024.803754         36              среднее             1   \n",
       "2          0   -5623.422610         33              Среднее             1   \n",
       "3          3   -4124.747207         32              среднее             1   \n",
       "4          0  340266.072047         53              среднее             1   \n",
       "5          0    -926.185831         27               высшее             0   \n",
       "6          0   -2879.202052         43               высшее             0   \n",
       "7          0    -152.779569         50              СРЕДНЕЕ             1   \n",
       "8          2   -6929.865299         35               ВЫСШЕЕ             0   \n",
       "9          0   -2188.756445         41              среднее             1   \n",
       "10         2   -4171.483647         36               высшее             0   \n",
       "11         0    -792.701887         40              среднее             1   \n",
       "12         0            NaN         65              среднее             1   \n",
       "13         0   -1846.641941         54  неоконченное высшее             2   \n",
       "14         0   -1844.956182         56               высшее             0   \n",
       "15         1    -972.364419         26              среднее             1   \n",
       "16         0   -1719.934226         35              среднее             1   \n",
       "17         0   -2369.999720         33               высшее             0   \n",
       "18         0  400281.136913         53              среднее             1   \n",
       "19         0  -10038.818549         48              СРЕДНЕЕ             1   \n",
       "\n",
       "       family_status  family_status_id gender income_type  debt  \\\n",
       "0    женат / замужем                 0      F   сотрудник     0   \n",
       "1    женат / замужем                 0      F   сотрудник     0   \n",
       "2    женат / замужем                 0      M   сотрудник     0   \n",
       "3    женат / замужем                 0      M   сотрудник     0   \n",
       "4   гражданский брак                 1      F   пенсионер     0   \n",
       "5   гражданский брак                 1      M   компаньон     0   \n",
       "6    женат / замужем                 0      F   компаньон     0   \n",
       "7    женат / замужем                 0      M   сотрудник     0   \n",
       "8   гражданский брак                 1      F   сотрудник     0   \n",
       "9    женат / замужем                 0      M   сотрудник     0   \n",
       "10   женат / замужем                 0      M   компаньон     0   \n",
       "11   женат / замужем                 0      F   сотрудник     0   \n",
       "12  гражданский брак                 1      M   пенсионер     0   \n",
       "13   женат / замужем                 0      F   сотрудник     0   \n",
       "14  гражданский брак                 1      F   компаньон     1   \n",
       "15   женат / замужем                 0      F   сотрудник     0   \n",
       "16   женат / замужем                 0      F   сотрудник     0   \n",
       "17  гражданский брак                 1      M   сотрудник     0   \n",
       "18    вдовец / вдова                 2      F   пенсионер     0   \n",
       "19         в разводе                 3      F   сотрудник     0   \n",
       "\n",
       "     total_income                                 purpose  \n",
       "0   253875.639453                           покупка жилья  \n",
       "1   112080.014102                 приобретение автомобиля  \n",
       "2   145885.952297                           покупка жилья  \n",
       "3   267628.550329              дополнительное образование  \n",
       "4   158616.077870                         сыграть свадьбу  \n",
       "5   255763.565419                           покупка жилья  \n",
       "6   240525.971920                       операции с жильем  \n",
       "7   135823.934197                             образование  \n",
       "8    95856.832424                   на проведение свадьбы  \n",
       "9   144425.938277                 покупка жилья для семьи  \n",
       "10  113943.491460                    покупка недвижимости  \n",
       "11   77069.234271       покупка коммерческой недвижимости  \n",
       "12            NaN                         сыграть свадьбу  \n",
       "13  130458.228857                 приобретение автомобиля  \n",
       "14  165127.911772              покупка жилой недвижимости  \n",
       "15  116820.904450  строительство собственной недвижимости  \n",
       "16  289202.704229                            недвижимость  \n",
       "17   90410.586745              строительство недвижимости  \n",
       "18   56823.777243      на покупку подержанного автомобиля  \n",
       "19  242831.107982            на покупку своего автомобиля  "
      ]
     },
     "execution_count": 67,
     "metadata": {},
     "output_type": "execute_result"
    }
   ],
   "source": [
    "data.head(20)"
   ]
  },
  {
   "cell_type": "markdown",
   "id": "0ed8f27f",
   "metadata": {
    "deletable": false,
    "id": "0ed8f27f"
   },
   "source": [
    "**Выведем основную информацию о датафрейме с помощью метода `info()`.**"
   ]
  },
  {
   "cell_type": "code",
   "execution_count": 69,
   "id": "ab3f863b",
   "metadata": {
    "deletable": false,
    "id": "ab3f863b",
    "outputId": "15376089-8dad-46c9-b520-c05248d43158"
   },
   "outputs": [
    {
     "name": "stdout",
     "output_type": "stream",
     "text": [
      "<class 'pandas.core.frame.DataFrame'>\n",
      "RangeIndex: 21525 entries, 0 to 21524\n",
      "Data columns (total 12 columns):\n",
      " #   Column            Non-Null Count  Dtype  \n",
      "---  ------            --------------  -----  \n",
      " 0   children          21525 non-null  int64  \n",
      " 1   days_employed     19351 non-null  float64\n",
      " 2   dob_years         21525 non-null  int64  \n",
      " 3   education         21525 non-null  object \n",
      " 4   education_id      21525 non-null  int64  \n",
      " 5   family_status     21525 non-null  object \n",
      " 6   family_status_id  21525 non-null  int64  \n",
      " 7   gender            21525 non-null  object \n",
      " 8   income_type       21525 non-null  object \n",
      " 9   debt              21525 non-null  int64  \n",
      " 10  total_income      19351 non-null  float64\n",
      " 11  purpose           21525 non-null  object \n",
      "dtypes: float64(2), int64(5), object(5)\n",
      "memory usage: 2.0+ MB\n"
     ]
    }
   ],
   "source": [
    "data.info()"
   ]
  },
  {
   "cell_type": "markdown",
   "id": "60e3e22d",
   "metadata": {
    "deletable": false,
    "editable": false,
    "id": "60e3e22d"
   },
   "source": [
    "## Предобработка данных"
   ]
  },
  {
   "cell_type": "markdown",
   "id": "03dc170c",
   "metadata": {
    "deletable": false,
    "editable": false,
    "id": "03dc170c"
   },
   "source": [
    "### Удаление пропусков"
   ]
  },
  {
   "cell_type": "markdown",
   "id": "a4f54eef",
   "metadata": {
    "deletable": false,
    "id": "a4f54eef"
   },
   "source": [
    "**Выведем количество пропущенных значений для каждого столбца.**"
   ]
  },
  {
   "cell_type": "code",
   "execution_count": 71,
   "id": "2dc372b2",
   "metadata": {
    "deletable": false,
    "id": "2dc372b2",
    "outputId": "81f4d817-781c-465c-ed15-91ce4446810d"
   },
   "outputs": [
    {
     "data": {
      "text/plain": [
       "children               0\n",
       "days_employed       2174\n",
       "dob_years              0\n",
       "education              0\n",
       "education_id           0\n",
       "family_status          0\n",
       "family_status_id       0\n",
       "gender                 0\n",
       "income_type            0\n",
       "debt                   0\n",
       "total_income        2174\n",
       "purpose                0\n",
       "dtype: int64"
      ]
     },
     "execution_count": 71,
     "metadata": {},
     "output_type": "execute_result"
    }
   ],
   "source": [
    "data.isna().sum()"
   ]
  },
  {
   "cell_type": "markdown",
   "id": "14f011b1",
   "metadata": {
    "deletable": false,
    "id": "14f011b1"
   },
   "source": [
    "**В двух столбцах есть пропущенные значения. Один из них — `days_employed`. Пропуски в этом столбце мы обработаем на следующем этапе. Другой столбец с пропущенными значениями — `total_income` — хранит данные о доходах. На сумму дохода сильнее всего влияет тип занятости, поэтому заполнить пропуски в этом столбце нужно медианным значением по каждому типу из столбца `income_type`. Например, у человека с типом занятости `сотрудник` пропуск в столбце `total_income` должен быть заполнен медианным доходом среди всех записей с тем же типом.**"
   ]
  },
  {
   "cell_type": "code",
   "execution_count": 73,
   "id": "bdabfb6e",
   "metadata": {
    "deletable": false,
    "id": "bdabfb6e"
   },
   "outputs": [],
   "source": [
    "for t in data[\"income_type\"].unique():\n",
    "    data.loc[\n",
    "        (data[\"income_type\"] == t) & (data[\"total_income\"].isna()), \"total_income\"\n",
    "    ] = data.loc[(data[\"income_type\"] == t), \"total_income\"].median()"
   ]
  },
  {
   "cell_type": "markdown",
   "id": "5be34059",
   "metadata": {
    "deletable": false,
    "editable": false,
    "id": "5be34059"
   },
   "source": [
    "### Обработка аномальных значений"
   ]
  },
  {
   "cell_type": "markdown",
   "id": "a87606cb",
   "metadata": {
    "deletable": false,
    "id": "a87606cb"
   },
   "source": [
    "**В данных могут встречаться артефакты (аномалии) — значения, которые не отражают действительность и появились по какой-то ошибке. Таким артефактом будет отрицательное количество дней трудового стажа в столбце `days_employed`. Для реальных данных это нормально. Обработаем значения в этом столбце: заменим все отрицательные значения положительными с помощью метода `abs()`.**"
   ]
  },
  {
   "cell_type": "code",
   "execution_count": 75,
   "id": "020c46cc",
   "metadata": {
    "deletable": false,
    "id": "020c46cc"
   },
   "outputs": [],
   "source": [
    "data[\"days_employed\"] = data[\"days_employed\"].abs()"
   ]
  },
  {
   "cell_type": "markdown",
   "id": "45538a3a",
   "metadata": {
    "deletable": false,
    "id": "45538a3a"
   },
   "source": [
    "**Для каждого типа занятости выведем медианное значение трудового стажа `days_employed` в днях.**"
   ]
  },
  {
   "cell_type": "code",
   "execution_count": 77,
   "id": "cd3e6328",
   "metadata": {
    "deletable": false,
    "id": "cd3e6328",
    "outputId": "801ef80e-522b-4668-f34e-565af7432bcf"
   },
   "outputs": [
    {
     "data": {
      "text/plain": [
       "income_type\n",
       "безработный        366413.652744\n",
       "в декрете            3296.759962\n",
       "госслужащий          2689.368353\n",
       "компаньон            1547.382223\n",
       "пенсионер          365213.306266\n",
       "предприниматель       520.848083\n",
       "сотрудник            1574.202821\n",
       "студент               578.751554\n",
       "Name: days_employed, dtype: float64"
      ]
     },
     "execution_count": 77,
     "metadata": {},
     "output_type": "execute_result"
    }
   ],
   "source": [
    "data.groupby(\"income_type\")[\"days_employed\"].agg(\"median\")"
   ]
  },
  {
   "cell_type": "markdown",
   "id": "90c5f058",
   "metadata": {
    "deletable": false,
    "id": "90c5f058"
   },
   "source": [
    "**У двух типов (безработные и пенсионеры) получатся аномально большие значения. Исправить такие значения сложно, поэтому оставим их как есть.**"
   ]
  },
  {
   "cell_type": "markdown",
   "id": "9652e50d",
   "metadata": {
    "deletable": false,
    "id": "9652e50d"
   },
   "source": [
    "**Выведем перечень уникальных значений столбца `children`.**"
   ]
  },
  {
   "cell_type": "code",
   "execution_count": 79,
   "id": "dbb37b8e",
   "metadata": {
    "deletable": false,
    "id": "dbb37b8e",
    "outputId": "6975b15c-7f95-4697-d16d-a0c79b657b03"
   },
   "outputs": [
    {
     "data": {
      "text/plain": [
       "array([ 1,  0,  3,  2, -1,  4, 20,  5], dtype=int64)"
      ]
     },
     "execution_count": 79,
     "metadata": {},
     "output_type": "execute_result"
    }
   ],
   "source": [
    "data[\"children\"].unique()"
   ]
  },
  {
   "cell_type": "markdown",
   "id": "2b8b0715",
   "metadata": {
    "deletable": false,
    "id": "2b8b0715"
   },
   "source": [
    "**В столбце `children` есть два аномальных значения. Удалим строки, в которых встречаются такие аномальные значения из датафрейма `data`.**"
   ]
  },
  {
   "cell_type": "code",
   "execution_count": 81,
   "id": "20009df8",
   "metadata": {
    "deletable": false,
    "id": "20009df8"
   },
   "outputs": [],
   "source": [
    "data = data[(data[\"children\"] != -1) & (data[\"children\"] != 20)]"
   ]
  },
  {
   "cell_type": "markdown",
   "id": "8c6ac9f1",
   "metadata": {
    "deletable": false,
    "id": "8c6ac9f1"
   },
   "source": [
    "**Ещё раз выведем перечень уникальных значений столбца `children`, чтобы убедиться, что артефакты удалены.**"
   ]
  },
  {
   "cell_type": "code",
   "execution_count": 83,
   "id": "07337b81",
   "metadata": {
    "deletable": false,
    "id": "07337b81",
    "outputId": "b2097101-d49d-44d9-901b-32a65c9463d1"
   },
   "outputs": [
    {
     "data": {
      "text/plain": [
       "array([1, 0, 3, 2, 4, 5], dtype=int64)"
      ]
     },
     "execution_count": 83,
     "metadata": {},
     "output_type": "execute_result"
    }
   ],
   "source": [
    "data[\"children\"].unique()"
   ]
  },
  {
   "cell_type": "markdown",
   "id": "ee3f52d4",
   "metadata": {
    "deletable": false,
    "editable": false,
    "id": "ee3f52d4"
   },
   "source": [
    "### Удаление пропусков (продолжение)"
   ]
  },
  {
   "cell_type": "markdown",
   "id": "a700b0e4",
   "metadata": {
    "deletable": false,
    "id": "a700b0e4"
   },
   "source": [
    "**Заполним пропуски в столбце `days_employed` медианными значениями по каждого типа занятости `income_type`.**"
   ]
  },
  {
   "cell_type": "code",
   "execution_count": 85,
   "id": "61946b83",
   "metadata": {
    "deletable": false,
    "id": "61946b83"
   },
   "outputs": [],
   "source": [
    "for t in data[\"income_type\"].unique():\n",
    "    data.loc[\n",
    "        (data[\"income_type\"] == t) & (data[\"days_employed\"].isna()), \"days_employed\"\n",
    "    ] = data.loc[(data[\"income_type\"] == t), \"days_employed\"].median()"
   ]
  },
  {
   "cell_type": "markdown",
   "id": "550dcd9b",
   "metadata": {
    "deletable": false,
    "id": "550dcd9b"
   },
   "source": [
    "**Убедимся, что все пропуски заполнены. Проверим себя и ещё раз выведем количество пропущенных значений для каждого столбца с помощью двух методов.**"
   ]
  },
  {
   "cell_type": "code",
   "execution_count": 87,
   "id": "937c7014",
   "metadata": {
    "deletable": false,
    "id": "937c7014",
    "outputId": "8da1e4e1-358e-4e87-98c9-f261bce0a7b2"
   },
   "outputs": [
    {
     "data": {
      "text/plain": [
       "children            0\n",
       "days_employed       0\n",
       "dob_years           0\n",
       "education           0\n",
       "education_id        0\n",
       "family_status       0\n",
       "family_status_id    0\n",
       "gender              0\n",
       "income_type         0\n",
       "debt                0\n",
       "total_income        0\n",
       "purpose             0\n",
       "dtype: int64"
      ]
     },
     "execution_count": 87,
     "metadata": {},
     "output_type": "execute_result"
    }
   ],
   "source": [
    "data.isna().sum()"
   ]
  },
  {
   "cell_type": "markdown",
   "id": "d522e295",
   "metadata": {
    "deletable": false,
    "editable": false,
    "id": "d522e295"
   },
   "source": [
    "### Изменение типов данных"
   ]
  },
  {
   "cell_type": "markdown",
   "id": "c229c581",
   "metadata": {
    "deletable": false,
    "id": "c229c581"
   },
   "source": [
    "**Заменим вещественный тип данных в столбце `total_income` на целочисленный с помощью метода `astype()`.**"
   ]
  },
  {
   "cell_type": "code",
   "execution_count": 89,
   "id": "31036462",
   "metadata": {
    "deletable": false,
    "id": "31036462"
   },
   "outputs": [],
   "source": [
    "data[\"total_income\"] = data[\"total_income\"].astype(int)"
   ]
  },
  {
   "cell_type": "markdown",
   "id": "b8e3d1d9",
   "metadata": {
    "deletable": false,
    "editable": false,
    "id": "b8e3d1d9"
   },
   "source": [
    "### Обработка дубликатов"
   ]
  },
  {
   "cell_type": "markdown",
   "id": "9be53c49",
   "metadata": {
    "deletable": false,
    "id": "9be53c49"
   },
   "source": [
    "**Обработаем неявные дубликаты в столбце `education`. В этом столбце есть одни и те же значения, но записанные по-разному: с использованием заглавных и строчных букв. Приведём их к нижнему регистру.**"
   ]
  },
  {
   "cell_type": "code",
   "execution_count": 91,
   "id": "d89e73e1",
   "metadata": {
    "deletable": false,
    "id": "d89e73e1"
   },
   "outputs": [],
   "source": [
    "data[\"education\"] = data[\"education\"].str.lower()"
   ]
  },
  {
   "cell_type": "markdown",
   "id": "01d4500e",
   "metadata": {
    "deletable": false,
    "id": "01d4500e"
   },
   "source": [
    "Выведем на экран количество строк-дубликатов в данных. Если такие строки присутствуют, удалим их."
   ]
  },
  {
   "cell_type": "code",
   "execution_count": 93,
   "id": "e10efb23",
   "metadata": {
    "deletable": false,
    "id": "e10efb23",
    "outputId": "9684deba-1934-42d1-99e1-cda61740f822"
   },
   "outputs": [
    {
     "data": {
      "text/plain": [
       "71"
      ]
     },
     "execution_count": 93,
     "metadata": {},
     "output_type": "execute_result"
    }
   ],
   "source": [
    "data.duplicated().sum()"
   ]
  },
  {
   "cell_type": "code",
   "execution_count": 95,
   "id": "df853f20",
   "metadata": {
    "deletable": false,
    "id": "df853f20"
   },
   "outputs": [],
   "source": [
    "data = data.drop_duplicates()"
   ]
  },
  {
   "cell_type": "markdown",
   "id": "627be38f",
   "metadata": {
    "deletable": false,
    "editable": false,
    "id": "627be38f"
   },
   "source": [
    "### Категоризация данных"
   ]
  },
  {
   "cell_type": "markdown",
   "id": "4684c3e0",
   "metadata": {
    "deletable": false,
    "id": "4684c3e0"
   },
   "source": [
    "**На основании диапазонов, указанных ниже, создадим в датафрейме `data` столбец `total_income_category` с категориями:**\n",
    "\n",
    "- 0–30000 — `'E'`;\n",
    "- 30001–50000 — `'D'`;\n",
    "- 50001–200000 — `'C'`;\n",
    "- 200001–1000000 — `'B'`;\n",
    "- 1000001 и выше — `'A'`.\n",
    "\n",
    "\n",
    "**Например, кредитополучателю с доходом 25000 нужно назначить категорию `'E'`, а клиенту, получающему 235000, — `'B'`. Используем собственную функцию с именем `categorize_income()` и метод `apply()`.**"
   ]
  },
  {
   "cell_type": "code",
   "execution_count": 97,
   "id": "78965238",
   "metadata": {
    "deletable": false,
    "id": "78965238"
   },
   "outputs": [],
   "source": [
    "def categorize_income(income):\n",
    "    try:\n",
    "        if 0 <= income <= 30000:\n",
    "            return \"E\"\n",
    "        elif 30001 <= income <= 50000:\n",
    "            return \"D\"\n",
    "        elif 50001 <= income <= 200000:\n",
    "            return \"C\"\n",
    "        elif 200001 <= income <= 1000000:\n",
    "            return \"B\"\n",
    "        elif income >= 1000001:\n",
    "            return \"A\"\n",
    "    except:\n",
    "        pass"
   ]
  },
  {
   "cell_type": "code",
   "execution_count": 99,
   "id": "0980ada1",
   "metadata": {
    "deletable": false,
    "id": "0980ada1"
   },
   "outputs": [],
   "source": [
    "data[\"total_income_category\"] = data[\"total_income\"].apply(categorize_income)"
   ]
  },
  {
   "cell_type": "markdown",
   "id": "9917bba0",
   "metadata": {
    "deletable": false,
    "id": "9917bba0"
   },
   "source": [
    "**Выведем на экран перечень уникальных целей взятия кредита из столбца `purpose`.**"
   ]
  },
  {
   "cell_type": "code",
   "execution_count": 101,
   "id": "ee07b65e",
   "metadata": {
    "deletable": false,
    "id": "ee07b65e",
    "outputId": "673c12d9-7d7e-4ae0-9812-c622c89dd244"
   },
   "outputs": [
    {
     "data": {
      "text/plain": [
       "array(['покупка жилья', 'приобретение автомобиля',\n",
       "       'дополнительное образование', 'сыграть свадьбу',\n",
       "       'операции с жильем', 'образование', 'на проведение свадьбы',\n",
       "       'покупка жилья для семьи', 'покупка недвижимости',\n",
       "       'покупка коммерческой недвижимости', 'покупка жилой недвижимости',\n",
       "       'строительство собственной недвижимости', 'недвижимость',\n",
       "       'строительство недвижимости', 'на покупку подержанного автомобиля',\n",
       "       'на покупку своего автомобиля',\n",
       "       'операции с коммерческой недвижимостью',\n",
       "       'строительство жилой недвижимости', 'жилье',\n",
       "       'операции со своей недвижимостью', 'автомобили',\n",
       "       'заняться образованием', 'сделка с подержанным автомобилем',\n",
       "       'получение образования', 'автомобиль', 'свадьба',\n",
       "       'получение дополнительного образования', 'покупка своего жилья',\n",
       "       'операции с недвижимостью', 'получение высшего образования',\n",
       "       'свой автомобиль', 'сделка с автомобилем',\n",
       "       'профильное образование', 'высшее образование',\n",
       "       'покупка жилья для сдачи', 'на покупку автомобиля', 'ремонт жилью',\n",
       "       'заняться высшим образованием'], dtype=object)"
      ]
     },
     "execution_count": 101,
     "metadata": {},
     "output_type": "execute_result"
    }
   ],
   "source": [
    "data[\"purpose\"].unique()"
   ]
  },
  {
   "cell_type": "markdown",
   "id": "52b79d56",
   "metadata": {
    "deletable": false,
    "id": "52b79d56"
   },
   "source": [
    "**Создадим функцию, которая на основании данных из столбца `purpose` сформирует новый столбец `purpose_category`, в который войдут следующие категории:**\n",
    "\n",
    "- `'операции с автомобилем'`,\n",
    "- `'операции с недвижимостью'`,\n",
    "- `'проведение свадьбы'`,\n",
    "- `'получение образования'`.\n",
    "\n",
    "**Например, если в столбце `purpose` находится подстрока `'на покупку автомобиля'`, то в столбце `purpose_category` должна появиться строка `'операции с автомобилем'`.**\n",
    "\n",
    "**Используем собственную функцию с именем `categorize_purpose()` и метод `apply()`. Изучим данные в столбце `purpose` и определим, какие подстроки помогут правильно определить категорию.**"
   ]
  },
  {
   "cell_type": "code",
   "execution_count": 103,
   "id": "be41da5d",
   "metadata": {
    "deletable": false,
    "id": "be41da5d"
   },
   "outputs": [],
   "source": [
    "def categorize_purpose(row):\n",
    "    try:\n",
    "        if \"автом\" in row:\n",
    "            return \"операции с автомобилем\"\n",
    "        elif \"жил\" in row or \"недвиж\" in row:\n",
    "            return \"операции с недвижимостью\"\n",
    "        elif \"свад\" in row:\n",
    "            return \"проведение свадьбы\"\n",
    "        elif \"образов\" in row:\n",
    "            return \"получение образования\"\n",
    "    except:\n",
    "        return \"нет категории\""
   ]
  },
  {
   "cell_type": "code",
   "execution_count": 105,
   "id": "94c4a19a",
   "metadata": {
    "deletable": false,
    "id": "94c4a19a"
   },
   "outputs": [],
   "source": [
    "data[\"purpose_category\"] = data[\"purpose\"].apply(categorize_purpose)"
   ]
  },
  {
   "cell_type": "markdown",
   "id": "3d596c34",
   "metadata": {
    "deletable": true,
    "id": "3d596c34"
   },
   "source": [
    "## Исследование данных"
   ]
  },
  {
   "cell_type": "markdown",
   "id": "648db036",
   "metadata": {
    "deletable": false,
    "id": "648db036"
   },
   "source": [
    "### Есть ли зависимость между количеством детей и возвратом кредита в срок?"
   ]
  },
  {
   "cell_type": "markdown",
   "id": "ab2a8305-4e0a-47e0-aa44-daa8298eb0ad",
   "metadata": {},
   "source": [
    "Сделаем таблицу с сортировкой по кол-ву проценту должников:"
   ]
  },
  {
   "cell_type": "code",
   "execution_count": 107,
   "id": "7fcff25e",
   "metadata": {
    "deletable": false,
    "id": "7fcff25e",
    "scrolled": true
   },
   "outputs": [
    {
     "data": {
      "text/html": [
       "<div>\n",
       "<style scoped>\n",
       "    .dataframe tbody tr th:only-of-type {\n",
       "        vertical-align: middle;\n",
       "    }\n",
       "\n",
       "    .dataframe tbody tr th {\n",
       "        vertical-align: top;\n",
       "    }\n",
       "\n",
       "    .dataframe thead th {\n",
       "        text-align: right;\n",
       "    }\n",
       "</style>\n",
       "<table border=\"1\" class=\"dataframe\">\n",
       "  <thead>\n",
       "    <tr style=\"text-align: right;\">\n",
       "      <th></th>\n",
       "      <th>Заёмщиков</th>\n",
       "      <th>Должников</th>\n",
       "      <th>Процент должников</th>\n",
       "    </tr>\n",
       "    <tr>\n",
       "      <th>children</th>\n",
       "      <th></th>\n",
       "      <th></th>\n",
       "      <th></th>\n",
       "    </tr>\n",
       "  </thead>\n",
       "  <tbody>\n",
       "    <tr>\n",
       "      <th>5</th>\n",
       "      <td>9</td>\n",
       "      <td>0</td>\n",
       "      <td>0.00%</td>\n",
       "    </tr>\n",
       "    <tr>\n",
       "      <th>0</th>\n",
       "      <td>14091</td>\n",
       "      <td>1063</td>\n",
       "      <td>7.54%</td>\n",
       "    </tr>\n",
       "    <tr>\n",
       "      <th>3</th>\n",
       "      <td>330</td>\n",
       "      <td>27</td>\n",
       "      <td>8.18%</td>\n",
       "    </tr>\n",
       "    <tr>\n",
       "      <th>1</th>\n",
       "      <td>4808</td>\n",
       "      <td>444</td>\n",
       "      <td>9.23%</td>\n",
       "    </tr>\n",
       "    <tr>\n",
       "      <th>2</th>\n",
       "      <td>2052</td>\n",
       "      <td>194</td>\n",
       "      <td>9.45%</td>\n",
       "    </tr>\n",
       "    <tr>\n",
       "      <th>4</th>\n",
       "      <td>41</td>\n",
       "      <td>4</td>\n",
       "      <td>9.76%</td>\n",
       "    </tr>\n",
       "  </tbody>\n",
       "</table>\n",
       "</div>"
      ],
      "text/plain": [
       "          Заёмщиков  Должников Процент должников\n",
       "children                                        \n",
       "5                 9          0             0.00%\n",
       "0             14091       1063             7.54%\n",
       "3               330         27             8.18%\n",
       "1              4808        444             9.23%\n",
       "2              2052        194             9.45%\n",
       "4                41          4             9.76%"
      ]
     },
     "execution_count": 107,
     "metadata": {},
     "output_type": "execute_result"
    }
   ],
   "source": [
    "# Группируем по количеству детей столбец debt и применяем функции\n",
    "# count() - кол-во клиентов и sum() - кол-во долгов\n",
    "children_grouped = data.groupby(\"children\")[\"debt\"].agg([\"count\", \"sum\"])\n",
    "# добавляем в этот датафрейм столбец соотношения столбцов sum и count\n",
    "children_grouped[\"ratio\"] = children_grouped[\"sum\"] / children_grouped[\"count\"]\n",
    "# переводим соотношение в %\n",
    "children_grouped[\"ratio\"] = children_grouped[\"ratio\"].apply(\"{:.2%}\".format)\n",
    "# переименовываем столбцы\n",
    "children_grouped = children_grouped.rename(\n",
    "    columns={\"count\": \"Заёмщиков\", \"sum\": \"Должников\", \"ratio\": \"Процент должников\"}\n",
    ")\n",
    "# выводим таблицу с сортировкой по кол-ву проценту должников\n",
    "children_grouped.sort_values(by=\"Процент должников\")"
   ]
  },
  {
   "cell_type": "markdown",
   "id": "72894f19",
   "metadata": {},
   "source": [
    "Можно сделать вот так, через функцию, с сортировкой по кол-ву детей:"
   ]
  },
  {
   "cell_type": "code",
   "execution_count": 109,
   "id": "380a6c14",
   "metadata": {},
   "outputs": [
    {
     "data": {
      "text/html": [
       "<style type=\"text/css\">\n",
       "#T_06335_row0_col0, #T_06335_row0_col1, #T_06335_row4_col2 {\n",
       "  background-color: #08306b;\n",
       "  color: #f1f1f1;\n",
       "}\n",
       "#T_06335_row0_col2 {\n",
       "  background-color: #1c6bb0;\n",
       "  color: #f1f1f1;\n",
       "}\n",
       "#T_06335_row1_col0 {\n",
       "  background-color: #a9cfe5;\n",
       "  color: #000000;\n",
       "}\n",
       "#T_06335_row1_col1 {\n",
       "  background-color: #8dc1dd;\n",
       "  color: #000000;\n",
       "}\n",
       "#T_06335_row1_col2 {\n",
       "  background-color: #083d7f;\n",
       "  color: #f1f1f1;\n",
       "}\n",
       "#T_06335_row2_col0 {\n",
       "  background-color: #dae8f6;\n",
       "  color: #000000;\n",
       "}\n",
       "#T_06335_row2_col1 {\n",
       "  background-color: #d3e4f3;\n",
       "  color: #000000;\n",
       "}\n",
       "#T_06335_row2_col2 {\n",
       "  background-color: #083776;\n",
       "  color: #f1f1f1;\n",
       "}\n",
       "#T_06335_row3_col0 {\n",
       "  background-color: #f3f8fe;\n",
       "  color: #000000;\n",
       "}\n",
       "#T_06335_row3_col1 {\n",
       "  background-color: #f2f8fd;\n",
       "  color: #000000;\n",
       "}\n",
       "#T_06335_row3_col2 {\n",
       "  background-color: #0f5aa3;\n",
       "  color: #f1f1f1;\n",
       "}\n",
       "#T_06335_row4_col0, #T_06335_row4_col1, #T_06335_row5_col0, #T_06335_row5_col1, #T_06335_row5_col2 {\n",
       "  background-color: #f7fbff;\n",
       "  color: #000000;\n",
       "}\n",
       "</style>\n",
       "<table id=\"T_06335\">\n",
       "  <thead>\n",
       "    <tr>\n",
       "      <th class=\"blank level0\" >&nbsp;</th>\n",
       "      <th id=\"T_06335_level0_col0\" class=\"col_heading level0 col0\" >Всего кредитополучателей</th>\n",
       "      <th id=\"T_06335_level0_col1\" class=\"col_heading level0 col1\" >Всего должников</th>\n",
       "      <th id=\"T_06335_level0_col2\" class=\"col_heading level0 col2\" >Доля должников</th>\n",
       "    </tr>\n",
       "    <tr>\n",
       "      <th class=\"index_name level0\" >children</th>\n",
       "      <th class=\"blank col0\" >&nbsp;</th>\n",
       "      <th class=\"blank col1\" >&nbsp;</th>\n",
       "      <th class=\"blank col2\" >&nbsp;</th>\n",
       "    </tr>\n",
       "  </thead>\n",
       "  <tbody>\n",
       "    <tr>\n",
       "      <th id=\"T_06335_level0_row0\" class=\"row_heading level0 row0\" >0</th>\n",
       "      <td id=\"T_06335_row0_col0\" class=\"data row0 col0\" >14091</td>\n",
       "      <td id=\"T_06335_row0_col1\" class=\"data row0 col1\" >1063</td>\n",
       "      <td id=\"T_06335_row0_col2\" class=\"data row0 col2\" >7.54%</td>\n",
       "    </tr>\n",
       "    <tr>\n",
       "      <th id=\"T_06335_level0_row1\" class=\"row_heading level0 row1\" >1</th>\n",
       "      <td id=\"T_06335_row1_col0\" class=\"data row1 col0\" >4808</td>\n",
       "      <td id=\"T_06335_row1_col1\" class=\"data row1 col1\" >444</td>\n",
       "      <td id=\"T_06335_row1_col2\" class=\"data row1 col2\" >9.23%</td>\n",
       "    </tr>\n",
       "    <tr>\n",
       "      <th id=\"T_06335_level0_row2\" class=\"row_heading level0 row2\" >2</th>\n",
       "      <td id=\"T_06335_row2_col0\" class=\"data row2 col0\" >2052</td>\n",
       "      <td id=\"T_06335_row2_col1\" class=\"data row2 col1\" >194</td>\n",
       "      <td id=\"T_06335_row2_col2\" class=\"data row2 col2\" >9.45%</td>\n",
       "    </tr>\n",
       "    <tr>\n",
       "      <th id=\"T_06335_level0_row3\" class=\"row_heading level0 row3\" >3</th>\n",
       "      <td id=\"T_06335_row3_col0\" class=\"data row3 col0\" >330</td>\n",
       "      <td id=\"T_06335_row3_col1\" class=\"data row3 col1\" >27</td>\n",
       "      <td id=\"T_06335_row3_col2\" class=\"data row3 col2\" >8.18%</td>\n",
       "    </tr>\n",
       "    <tr>\n",
       "      <th id=\"T_06335_level0_row4\" class=\"row_heading level0 row4\" >4</th>\n",
       "      <td id=\"T_06335_row4_col0\" class=\"data row4 col0\" >41</td>\n",
       "      <td id=\"T_06335_row4_col1\" class=\"data row4 col1\" >4</td>\n",
       "      <td id=\"T_06335_row4_col2\" class=\"data row4 col2\" >9.76%</td>\n",
       "    </tr>\n",
       "    <tr>\n",
       "      <th id=\"T_06335_level0_row5\" class=\"row_heading level0 row5\" >5</th>\n",
       "      <td id=\"T_06335_row5_col0\" class=\"data row5 col0\" >9</td>\n",
       "      <td id=\"T_06335_row5_col1\" class=\"data row5 col1\" >0</td>\n",
       "      <td id=\"T_06335_row5_col2\" class=\"data row5 col2\" >0.00%</td>\n",
       "    </tr>\n",
       "  </tbody>\n",
       "</table>\n"
      ],
      "text/plain": [
       "<pandas.io.formats.style.Styler at 0x1e3f2076270>"
      ]
     },
     "metadata": {},
     "output_type": "display_data"
    }
   ],
   "source": [
    "# Комментарий ревьюера\n",
    "# Создаем копию датасета, что бы не работать с исходным\n",
    "temp = data.copy()\n",
    "\n",
    "\n",
    "# Напишем функцию, так как все задачи аналогичны\n",
    "def que(category):\n",
    "    data_temp = temp.pivot_table(\n",
    "        index=category, values=\"debt\", aggfunc=[\"count\", \"sum\", \"mean\"]\n",
    "    )\n",
    "    data_temp.columns = [\n",
    "        \"Всего кредитополучателей\",\n",
    "        \"Всего должников\",\n",
    "        \"Доля должников\",\n",
    "    ]\n",
    "    # Оформим таблицу цветным градиентом, но можно ее вывести и просто display(data_temp)\n",
    "    # display(data_temp.style.format(\"{:.3f}\").background_gradient(cmap='Blues', axis=0))\n",
    "    display(\n",
    "        data_temp.style.format(\n",
    "            {\n",
    "                \"Всего кредитополучателей\": \"{:.0f}\",\n",
    "                \"Всего должников\": \"{:.0f}\",\n",
    "                \"Доля должников\": \"{:.2%}\",\n",
    "            }\n",
    "        ).background_gradient(cmap=\"Blues\", axis=0)\n",
    "    )\n",
    "\n",
    "\n",
    "que(\"children\")"
   ]
  },
  {
   "cell_type": "markdown",
   "id": "2eb9088e",
   "metadata": {
    "deletable": false,
    "id": "2eb9088e"
   },
   "source": [
    "**Вывод: Судя по данным таблицы, зависимость между количеством детей и возвратом кредита в срок присутствует. Среди заёмщиков без детей процент должников меньше - 7.54%. Семьи без детей не несут дополнительных расходов и своевременно обслуживают свой кредит. У клиентов с детьми более высокая расходная часть семейного бюджета, поэтому и возникают сложности со своевременной выплатой по кредитным обязательствам. Выборки заёмщиков с 3-5 детьми слишком малы для принятия решений, объединим её с соседней.**"
   ]
  },
  {
   "cell_type": "code",
   "execution_count": 111,
   "id": "b27b1ccb",
   "metadata": {},
   "outputs": [
    {
     "data": {
      "text/html": [
       "<style type=\"text/css\">\n",
       "#T_7856d_row0_col0, #T_7856d_row0_col1, #T_7856d_row2_col2 {\n",
       "  background-color: #08306b;\n",
       "  color: #f1f1f1;\n",
       "}\n",
       "#T_7856d_row0_col2, #T_7856d_row2_col0, #T_7856d_row2_col1 {\n",
       "  background-color: #f7fbff;\n",
       "  color: #000000;\n",
       "}\n",
       "#T_7856d_row1_col0 {\n",
       "  background-color: #cfe1f2;\n",
       "  color: #000000;\n",
       "}\n",
       "#T_7856d_row1_col1 {\n",
       "  background-color: #c3daee;\n",
       "  color: #000000;\n",
       "}\n",
       "#T_7856d_row1_col2 {\n",
       "  background-color: #08326e;\n",
       "  color: #f1f1f1;\n",
       "}\n",
       "</style>\n",
       "<table id=\"T_7856d\">\n",
       "  <thead>\n",
       "    <tr>\n",
       "      <th class=\"blank level0\" >&nbsp;</th>\n",
       "      <th id=\"T_7856d_level0_col0\" class=\"col_heading level0 col0\" >Всего кредитополучателей</th>\n",
       "      <th id=\"T_7856d_level0_col1\" class=\"col_heading level0 col1\" >Всего должников</th>\n",
       "      <th id=\"T_7856d_level0_col2\" class=\"col_heading level0 col2\" >Доля должников</th>\n",
       "    </tr>\n",
       "    <tr>\n",
       "      <th class=\"index_name level0\" >children</th>\n",
       "      <th class=\"blank col0\" >&nbsp;</th>\n",
       "      <th class=\"blank col1\" >&nbsp;</th>\n",
       "      <th class=\"blank col2\" >&nbsp;</th>\n",
       "    </tr>\n",
       "  </thead>\n",
       "  <tbody>\n",
       "    <tr>\n",
       "      <th id=\"T_7856d_level0_row0\" class=\"row_heading level0 row0\" >0</th>\n",
       "      <td id=\"T_7856d_row0_col0\" class=\"data row0 col0\" >14091</td>\n",
       "      <td id=\"T_7856d_row0_col1\" class=\"data row0 col1\" >1063</td>\n",
       "      <td id=\"T_7856d_row0_col2\" class=\"data row0 col2\" >7.54%</td>\n",
       "    </tr>\n",
       "    <tr>\n",
       "      <th id=\"T_7856d_level0_row1\" class=\"row_heading level0 row1\" >1</th>\n",
       "      <td id=\"T_7856d_row1_col0\" class=\"data row1 col0\" >4808</td>\n",
       "      <td id=\"T_7856d_row1_col1\" class=\"data row1 col1\" >444</td>\n",
       "      <td id=\"T_7856d_row1_col2\" class=\"data row1 col2\" >9.23%</td>\n",
       "    </tr>\n",
       "    <tr>\n",
       "      <th id=\"T_7856d_level0_row2\" class=\"row_heading level0 row2\" >2</th>\n",
       "      <td id=\"T_7856d_row2_col0\" class=\"data row2 col0\" >2432</td>\n",
       "      <td id=\"T_7856d_row2_col1\" class=\"data row2 col1\" >225</td>\n",
       "      <td id=\"T_7856d_row2_col2\" class=\"data row2 col2\" >9.25%</td>\n",
       "    </tr>\n",
       "  </tbody>\n",
       "</table>\n"
      ],
      "text/plain": [
       "<pandas.io.formats.style.Styler at 0x1e3f4f652b0>"
      ]
     },
     "metadata": {},
     "output_type": "display_data"
    }
   ],
   "source": [
    "# Заменяем значения\n",
    "replace_values = [3, 4, 5]\n",
    "replace_with = 2\n",
    "# data['children'] = data['children'].replace(replace_values, replace_with)\n",
    "temp[\"children\"] = temp[\"children\"].replace(replace_values, replace_with)\n",
    "que(\"children\")"
   ]
  },
  {
   "cell_type": "markdown",
   "id": "ae9543cf",
   "metadata": {},
   "source": [
    "**Между клиентами без детей и клиентами с 1-2 детьми есть значимая разница в контексте возврата кредита.**"
   ]
  },
  {
   "cell_type": "markdown",
   "id": "74c9b3a7",
   "metadata": {
    "deletable": false,
    "id": "74c9b3a7"
   },
   "source": [
    "### Есть ли зависимость между семейным положением и возвратом кредита в срок?"
   ]
  },
  {
   "cell_type": "code",
   "execution_count": 113,
   "id": "8098ab3b",
   "metadata": {
    "deletable": false,
    "id": "8098ab3b"
   },
   "outputs": [
    {
     "data": {
      "text/html": [
       "<style type=\"text/css\">\n",
       "#T_dfea0_row0_col0 {\n",
       "  background-color: #dcf2d7;\n",
       "  color: #000000;\n",
       "}\n",
       "#T_dfea0_row0_col1 {\n",
       "  background-color: #c9eac2;\n",
       "  color: #000000;\n",
       "}\n",
       "#T_dfea0_row0_col2, #T_dfea0_row4_col0, #T_dfea0_row4_col1 {\n",
       "  background-color: #00441b;\n",
       "  color: #f1f1f1;\n",
       "}\n",
       "#T_dfea0_row1_col0 {\n",
       "  background-color: #f4fbf2;\n",
       "  color: #000000;\n",
       "}\n",
       "#T_dfea0_row1_col1 {\n",
       "  background-color: #f4fbf1;\n",
       "  color: #000000;\n",
       "}\n",
       "#T_dfea0_row1_col2 {\n",
       "  background-color: #e2f4dd;\n",
       "  color: #000000;\n",
       "}\n",
       "#T_dfea0_row2_col0, #T_dfea0_row2_col1, #T_dfea0_row2_col2 {\n",
       "  background-color: #f7fcf5;\n",
       "  color: #000000;\n",
       "}\n",
       "#T_dfea0_row3_col0 {\n",
       "  background-color: #bde5b6;\n",
       "  color: #000000;\n",
       "}\n",
       "#T_dfea0_row3_col1 {\n",
       "  background-color: #a2d99c;\n",
       "  color: #000000;\n",
       "}\n",
       "#T_dfea0_row3_col2 {\n",
       "  background-color: #05712f;\n",
       "  color: #f1f1f1;\n",
       "}\n",
       "#T_dfea0_row4_col2 {\n",
       "  background-color: #b8e3b2;\n",
       "  color: #000000;\n",
       "}\n",
       "</style>\n",
       "<table id=\"T_dfea0\">\n",
       "  <thead>\n",
       "    <tr>\n",
       "      <th class=\"blank level0\" >&nbsp;</th>\n",
       "      <th id=\"T_dfea0_level0_col0\" class=\"col_heading level0 col0\" >Всего кредитополучателей</th>\n",
       "      <th id=\"T_dfea0_level0_col1\" class=\"col_heading level0 col1\" >Всего должников</th>\n",
       "      <th id=\"T_dfea0_level0_col2\" class=\"col_heading level0 col2\" >Доля должников</th>\n",
       "    </tr>\n",
       "    <tr>\n",
       "      <th class=\"index_name level0\" >family_status</th>\n",
       "      <th class=\"blank col0\" >&nbsp;</th>\n",
       "      <th class=\"blank col1\" >&nbsp;</th>\n",
       "      <th class=\"blank col2\" >&nbsp;</th>\n",
       "    </tr>\n",
       "  </thead>\n",
       "  <tbody>\n",
       "    <tr>\n",
       "      <th id=\"T_dfea0_level0_row0\" class=\"row_heading level0 row0\" >Не женат / не замужем</th>\n",
       "      <td id=\"T_dfea0_row0_col0\" class=\"data row0 col0\" >2796</td>\n",
       "      <td id=\"T_dfea0_row0_col1\" class=\"data row0 col1\" >273</td>\n",
       "      <td id=\"T_dfea0_row0_col2\" class=\"data row0 col2\" >9.76%</td>\n",
       "    </tr>\n",
       "    <tr>\n",
       "      <th id=\"T_dfea0_level0_row1\" class=\"row_heading level0 row1\" >в разводе</th>\n",
       "      <td id=\"T_dfea0_row1_col0\" class=\"data row1 col0\" >1189</td>\n",
       "      <td id=\"T_dfea0_row1_col1\" class=\"data row1 col1\" >84</td>\n",
       "      <td id=\"T_dfea0_row1_col2\" class=\"data row1 col2\" >7.06%</td>\n",
       "    </tr>\n",
       "    <tr>\n",
       "      <th id=\"T_dfea0_level0_row2\" class=\"row_heading level0 row2\" >вдовец / вдова</th>\n",
       "      <td id=\"T_dfea0_row2_col0\" class=\"data row2 col0\" >951</td>\n",
       "      <td id=\"T_dfea0_row2_col1\" class=\"data row2 col1\" >63</td>\n",
       "      <td id=\"T_dfea0_row2_col2\" class=\"data row2 col2\" >6.62%</td>\n",
       "    </tr>\n",
       "    <tr>\n",
       "      <th id=\"T_dfea0_level0_row3\" class=\"row_heading level0 row3\" >гражданский брак</th>\n",
       "      <td id=\"T_dfea0_row3_col0\" class=\"data row3 col0\" >4134</td>\n",
       "      <td id=\"T_dfea0_row3_col1\" class=\"data row3 col1\" >385</td>\n",
       "      <td id=\"T_dfea0_row3_col2\" class=\"data row3 col2\" >9.31%</td>\n",
       "    </tr>\n",
       "    <tr>\n",
       "      <th id=\"T_dfea0_level0_row4\" class=\"row_heading level0 row4\" >женат / замужем</th>\n",
       "      <td id=\"T_dfea0_row4_col0\" class=\"data row4 col0\" >12261</td>\n",
       "      <td id=\"T_dfea0_row4_col1\" class=\"data row4 col1\" >927</td>\n",
       "      <td id=\"T_dfea0_row4_col2\" class=\"data row4 col2\" >7.56%</td>\n",
       "    </tr>\n",
       "  </tbody>\n",
       "</table>\n"
      ],
      "text/plain": [
       "<pandas.io.formats.style.Styler at 0x1e3f51f2c60>"
      ]
     },
     "metadata": {},
     "output_type": "display_data"
    }
   ],
   "source": [
    "def que(category):\n",
    "    data_temp = temp.pivot_table(\n",
    "        index=category, values=\"debt\", aggfunc=[\"count\", \"sum\", \"mean\"]\n",
    "    )\n",
    "    data_temp.columns = [\n",
    "        \"Всего кредитополучателей\",\n",
    "        \"Всего должников\",\n",
    "        \"Доля должников\",\n",
    "    ]\n",
    "    display(\n",
    "        data_temp.style.format(\n",
    "            {\n",
    "                \"Всего кредитополучателей\": \"{:.0f}\",\n",
    "                \"Всего должников\": \"{:.0f}\",\n",
    "                \"Доля должников\": \"{:.2%}\",\n",
    "            }\n",
    "        ).background_gradient(cmap=\"Greens\", axis=0)\n",
    "    )\n",
    "\n",
    "\n",
    "que(\"family_status\")"
   ]
  },
  {
   "cell_type": "markdown",
   "id": "c389ca63",
   "metadata": {
    "deletable": false,
    "id": "c389ca63"
   },
   "source": [
    "**Вывод: Зависимость между семейным положением и возвратом кредита в срок есть. Наиболее редко должниками являются вдовцы/вдовы - 6.62%. Наиболее часто - клиенты категории Не женат/не замужем\t- 9.76%. Прошлый опыт семейных отношений или оформленные отношения накладывают определенную ответственность и приучают к финансовой дисциплине.** "
   ]
  },
  {
   "cell_type": "markdown",
   "id": "9529de68",
   "metadata": {
    "deletable": false,
    "id": "9529de68"
   },
   "source": [
    "### Есть ли зависимость между уровнем дохода и возвратом кредита в срок?"
   ]
  },
  {
   "cell_type": "code",
   "execution_count": 115,
   "id": "8787f44a",
   "metadata": {
    "deletable": false,
    "id": "8787f44a"
   },
   "outputs": [
    {
     "data": {
      "text/html": [
       "<div>\n",
       "<style scoped>\n",
       "    .dataframe tbody tr th:only-of-type {\n",
       "        vertical-align: middle;\n",
       "    }\n",
       "\n",
       "    .dataframe tbody tr th {\n",
       "        vertical-align: top;\n",
       "    }\n",
       "\n",
       "    .dataframe thead th {\n",
       "        text-align: right;\n",
       "    }\n",
       "</style>\n",
       "<table border=\"1\" class=\"dataframe\">\n",
       "  <thead>\n",
       "    <tr style=\"text-align: right;\">\n",
       "      <th></th>\n",
       "      <th>Заёмщиков</th>\n",
       "      <th>Должников</th>\n",
       "      <th>Процент должников</th>\n",
       "    </tr>\n",
       "    <tr>\n",
       "      <th>total_income_category</th>\n",
       "      <th></th>\n",
       "      <th></th>\n",
       "      <th></th>\n",
       "    </tr>\n",
       "  </thead>\n",
       "  <tbody>\n",
       "    <tr>\n",
       "      <th>D</th>\n",
       "      <td>349</td>\n",
       "      <td>21</td>\n",
       "      <td>6.02%</td>\n",
       "    </tr>\n",
       "    <tr>\n",
       "      <th>B</th>\n",
       "      <td>5014</td>\n",
       "      <td>354</td>\n",
       "      <td>7.06%</td>\n",
       "    </tr>\n",
       "    <tr>\n",
       "      <th>A</th>\n",
       "      <td>25</td>\n",
       "      <td>2</td>\n",
       "      <td>8.00%</td>\n",
       "    </tr>\n",
       "    <tr>\n",
       "      <th>C</th>\n",
       "      <td>15921</td>\n",
       "      <td>1353</td>\n",
       "      <td>8.50%</td>\n",
       "    </tr>\n",
       "    <tr>\n",
       "      <th>E</th>\n",
       "      <td>22</td>\n",
       "      <td>2</td>\n",
       "      <td>9.09%</td>\n",
       "    </tr>\n",
       "  </tbody>\n",
       "</table>\n",
       "</div>"
      ],
      "text/plain": [
       "                       Заёмщиков  Должников Процент должников\n",
       "total_income_category                                        \n",
       "D                            349         21             6.02%\n",
       "B                           5014        354             7.06%\n",
       "A                             25          2             8.00%\n",
       "C                          15921       1353             8.50%\n",
       "E                             22          2             9.09%"
      ]
     },
     "execution_count": 115,
     "metadata": {},
     "output_type": "execute_result"
    }
   ],
   "source": [
    "income_grouped = data.groupby(\"total_income_category\")[\"debt\"].agg([\"count\", \"sum\"])\n",
    "income_grouped[\"ratio\"] = income_grouped[\"sum\"] / income_grouped[\"count\"]\n",
    "income_grouped[\"ratio\"] = income_grouped[\"ratio\"].apply(\"{:.2%}\".format)\n",
    "income_grouped = income_grouped.rename(\n",
    "    columns={\"count\": \"Заёмщиков\", \"sum\": \"Должников\", \"ratio\": \"Процент должников\"}\n",
    ")\n",
    "income_grouped.sort_values(by=\"Процент должников\")"
   ]
  },
  {
   "cell_type": "markdown",
   "id": "6dd14b57",
   "metadata": {
    "deletable": false,
    "id": "6dd14b57"
   },
   "source": [
    "**Категория D довольно мала, а категории E и C вообще статистически ничтожны, объединим их с соседними:** "
   ]
  },
  {
   "cell_type": "code",
   "execution_count": 117,
   "id": "cc288dd6",
   "metadata": {},
   "outputs": [
    {
     "data": {
      "text/html": [
       "<div>\n",
       "<style scoped>\n",
       "    .dataframe tbody tr th:only-of-type {\n",
       "        vertical-align: middle;\n",
       "    }\n",
       "\n",
       "    .dataframe tbody tr th {\n",
       "        vertical-align: top;\n",
       "    }\n",
       "\n",
       "    .dataframe thead th {\n",
       "        text-align: right;\n",
       "    }\n",
       "</style>\n",
       "<table border=\"1\" class=\"dataframe\">\n",
       "  <thead>\n",
       "    <tr style=\"text-align: right;\">\n",
       "      <th></th>\n",
       "      <th>Заёмщиков</th>\n",
       "      <th>Должников</th>\n",
       "      <th>Процент должников</th>\n",
       "    </tr>\n",
       "    <tr>\n",
       "      <th>total_income_category</th>\n",
       "      <th></th>\n",
       "      <th></th>\n",
       "      <th></th>\n",
       "    </tr>\n",
       "  </thead>\n",
       "  <tbody>\n",
       "    <tr>\n",
       "      <th>B</th>\n",
       "      <td>5039</td>\n",
       "      <td>356</td>\n",
       "      <td>7.06%</td>\n",
       "    </tr>\n",
       "    <tr>\n",
       "      <th>C</th>\n",
       "      <td>16292</td>\n",
       "      <td>1376</td>\n",
       "      <td>8.45%</td>\n",
       "    </tr>\n",
       "  </tbody>\n",
       "</table>\n",
       "</div>"
      ],
      "text/plain": [
       "                       Заёмщиков  Должников Процент должников\n",
       "total_income_category                                        \n",
       "B                           5039        356             7.06%\n",
       "C                          16292       1376             8.45%"
      ]
     },
     "execution_count": 117,
     "metadata": {},
     "output_type": "execute_result"
    }
   ],
   "source": [
    "replace_values = [\"D\", \"E\"]\n",
    "replace_with = \"C\"\n",
    "data[\"total_income_category\"] = data[\"total_income_category\"].replace(\n",
    "    replace_values, replace_with\n",
    ")\n",
    "data[\"total_income_category\"] = data[\"total_income_category\"].replace(\"A\", \"B\")\n",
    "\n",
    "income_grouped = data.groupby(\"total_income_category\")[\"debt\"].agg([\"count\", \"sum\"])\n",
    "income_grouped[\"ratio\"] = income_grouped[\"sum\"] / income_grouped[\"count\"]\n",
    "income_grouped[\"ratio\"] = income_grouped[\"ratio\"].apply(\"{:.2%}\".format)\n",
    "income_grouped = income_grouped.rename(\n",
    "    columns={\"count\": \"Заёмщиков\", \"sum\": \"Должников\", \"ratio\": \"Процент должников\"}\n",
    ")\n",
    "income_grouped.sort_values(by=\"Процент должников\")"
   ]
  },
  {
   "cell_type": "markdown",
   "id": "926e8b54",
   "metadata": {},
   "source": [
    "**Вывод: Зависимость между уровнем дохода и возвратом кредита в срок присутствует. Заёмщики с более высоким доходом имеют меньше долгов по кредиту.** "
   ]
  },
  {
   "cell_type": "markdown",
   "id": "85c404e0",
   "metadata": {},
   "source": [
    "В задачах, где требуется анализировать несбалансированные выборки можно, делать дополнительный анализ, разбив данные на равные выборки методом `.qcut`."
   ]
  },
  {
   "cell_type": "code",
   "execution_count": 119,
   "id": "3ed25f9a",
   "metadata": {},
   "outputs": [
    {
     "data": {
      "text/html": [
       "<style type=\"text/css\">\n",
       "#T_cef98_row0_col0, #T_cef98_row0_col1, #T_cef98_row0_col2, #T_cef98_row1_col0, #T_cef98_row2_col0, #T_cef98_row3_col0 {\n",
       "  background-color: #f7fcf5;\n",
       "  color: #000000;\n",
       "}\n",
       "#T_cef98_row1_col1, #T_cef98_row1_col2, #T_cef98_row3_col1, #T_cef98_row3_col2 {\n",
       "  background-color: #157f3b;\n",
       "  color: #f1f1f1;\n",
       "}\n",
       "#T_cef98_row2_col1, #T_cef98_row2_col2, #T_cef98_row4_col0 {\n",
       "  background-color: #00441b;\n",
       "  color: #f1f1f1;\n",
       "}\n",
       "#T_cef98_row4_col1, #T_cef98_row4_col2 {\n",
       "  background-color: #48ae60;\n",
       "  color: #f1f1f1;\n",
       "}\n",
       "</style>\n",
       "<table id=\"T_cef98\">\n",
       "  <thead>\n",
       "    <tr>\n",
       "      <th class=\"blank level0\" >&nbsp;</th>\n",
       "      <th id=\"T_cef98_level0_col0\" class=\"col_heading level0 col0\" >Всего кредитополучателей</th>\n",
       "      <th id=\"T_cef98_level0_col1\" class=\"col_heading level0 col1\" >Всего должников</th>\n",
       "      <th id=\"T_cef98_level0_col2\" class=\"col_heading level0 col2\" >Доля должников</th>\n",
       "    </tr>\n",
       "    <tr>\n",
       "      <th class=\"index_name level0\" >custom_income_category</th>\n",
       "      <th class=\"blank col0\" >&nbsp;</th>\n",
       "      <th class=\"blank col1\" >&nbsp;</th>\n",
       "      <th class=\"blank col2\" >&nbsp;</th>\n",
       "    </tr>\n",
       "  </thead>\n",
       "  <tbody>\n",
       "    <tr>\n",
       "      <th id=\"T_cef98_level0_row0\" class=\"row_heading level0 row0\" >A</th>\n",
       "      <td id=\"T_cef98_row0_col0\" class=\"data row0 col0\" >4266</td>\n",
       "      <td id=\"T_cef98_row0_col1\" class=\"data row0 col1\" >299</td>\n",
       "      <td id=\"T_cef98_row0_col2\" class=\"data row0 col2\" >7.01%</td>\n",
       "    </tr>\n",
       "    <tr>\n",
       "      <th id=\"T_cef98_level0_row1\" class=\"row_heading level0 row1\" >B</th>\n",
       "      <td id=\"T_cef98_row1_col0\" class=\"data row1 col0\" >4266</td>\n",
       "      <td id=\"T_cef98_row1_col1\" class=\"data row1 col1\" >358</td>\n",
       "      <td id=\"T_cef98_row1_col2\" class=\"data row1 col2\" >8.39%</td>\n",
       "    </tr>\n",
       "    <tr>\n",
       "      <th id=\"T_cef98_level0_row2\" class=\"row_heading level0 row2\" >C</th>\n",
       "      <td id=\"T_cef98_row2_col0\" class=\"data row2 col0\" >4266</td>\n",
       "      <td id=\"T_cef98_row2_col1\" class=\"data row2 col1\" >373</td>\n",
       "      <td id=\"T_cef98_row2_col2\" class=\"data row2 col2\" >8.74%</td>\n",
       "    </tr>\n",
       "    <tr>\n",
       "      <th id=\"T_cef98_level0_row3\" class=\"row_heading level0 row3\" >D</th>\n",
       "      <td id=\"T_cef98_row3_col0\" class=\"data row3 col0\" >4266</td>\n",
       "      <td id=\"T_cef98_row3_col1\" class=\"data row3 col1\" >358</td>\n",
       "      <td id=\"T_cef98_row3_col2\" class=\"data row3 col2\" >8.39%</td>\n",
       "    </tr>\n",
       "    <tr>\n",
       "      <th id=\"T_cef98_level0_row4\" class=\"row_heading level0 row4\" >E</th>\n",
       "      <td id=\"T_cef98_row4_col0\" class=\"data row4 col0\" >4267</td>\n",
       "      <td id=\"T_cef98_row4_col1\" class=\"data row4 col1\" >344</td>\n",
       "      <td id=\"T_cef98_row4_col2\" class=\"data row4 col2\" >8.06%</td>\n",
       "    </tr>\n",
       "  </tbody>\n",
       "</table>\n"
      ],
      "text/plain": [
       "<pandas.io.formats.style.Styler at 0x1e3f5345bb0>"
      ]
     },
     "metadata": {},
     "output_type": "display_data"
    }
   ],
   "source": [
    "# Создадим категории дохода с равными выборками\n",
    "bin_labels_5 = [\"E\", \"D\", \"C\", \"B\", \"A\"]\n",
    "temp[\"custom_income_category\"] = pd.qcut(\n",
    "    temp[\"total_income\"], q=[0, 0.2, 0.4, 0.6, 0.8, 1], labels=bin_labels_5\n",
    ")\n",
    "\n",
    "# Применим фунцию к новому столбцу\n",
    "\n",
    "\n",
    "def que(category):\n",
    "    data_temp = temp.pivot_table(\n",
    "        index=category, values=\"debt\", aggfunc=[\"count\", \"sum\", \"mean\"]\n",
    "    )\n",
    "    data_temp.columns = [\n",
    "        \"Всего кредитополучателей\",\n",
    "        \"Всего должников\",\n",
    "        \"Доля должников\",\n",
    "    ]\n",
    "    data_temp = data_temp.sort_values(by=\"custom_income_category\", ascending=False)\n",
    "    display(\n",
    "        data_temp.style.format(\n",
    "            {\n",
    "                \"Всего кредитополучателей\": \"{:.0f}\",\n",
    "                \"Всего должников\": \"{:.0f}\",\n",
    "                \"Доля должников\": \"{:.2%}\",\n",
    "            }\n",
    "        ).background_gradient(cmap=\"Greens\", axis=0)\n",
    "    )\n",
    "\n",
    "\n",
    "q = que(\"custom_income_category\")"
   ]
  },
  {
   "cell_type": "markdown",
   "id": "a2a965b1",
   "metadata": {},
   "source": [
    "**В равных выборках по доходу становится видно, что хуже других кредиты вплачивают представители средней выборки по доходам.**"
   ]
  },
  {
   "cell_type": "markdown",
   "id": "4fd1a9bb",
   "metadata": {},
   "source": [
    "Можно сделать цикл с перебором количества категорий."
   ]
  },
  {
   "cell_type": "code",
   "execution_count": 121,
   "id": "25e3d1ce",
   "metadata": {},
   "outputs": [
    {
     "data": {
      "text/html": [
       "<style type=\"text/css\">\n",
       "#T_63e3b_row0_col0 {\n",
       "  background-color: #6caed6;\n",
       "  color: #f1f1f1;\n",
       "}\n",
       "#T_63e3b_row0_col1 {\n",
       "  background-color: #5da5d1;\n",
       "  color: #f1f1f1;\n",
       "}\n",
       "#T_63e3b_row0_col2 {\n",
       "  background-color: #57a0ce;\n",
       "  color: #f1f1f1;\n",
       "}\n",
       "#T_63e3b_row1_col0, #T_63e3b_row1_col1, #T_63e3b_row1_col2 {\n",
       "  background-color: #08306b;\n",
       "  color: #f1f1f1;\n",
       "}\n",
       "#T_63e3b_row2_col0, #T_63e3b_row2_col1, #T_63e3b_row2_col2 {\n",
       "  background-color: #f7fbff;\n",
       "  color: #000000;\n",
       "}\n",
       "</style>\n",
       "<table id=\"T_63e3b\">\n",
       "  <thead>\n",
       "    <tr>\n",
       "      <th class=\"blank level0\" >&nbsp;</th>\n",
       "      <th id=\"T_63e3b_level0_col0\" class=\"col_heading level0 col0\" >Всего кредитополучателей</th>\n",
       "      <th id=\"T_63e3b_level0_col1\" class=\"col_heading level0 col1\" >Всего должников</th>\n",
       "      <th id=\"T_63e3b_level0_col2\" class=\"col_heading level0 col2\" >Доля должников</th>\n",
       "    </tr>\n",
       "    <tr>\n",
       "      <th class=\"index_name level0\" >new_category</th>\n",
       "      <th class=\"blank col0\" >&nbsp;</th>\n",
       "      <th class=\"blank col1\" >&nbsp;</th>\n",
       "      <th class=\"blank col2\" >&nbsp;</th>\n",
       "    </tr>\n",
       "  </thead>\n",
       "  <tbody>\n",
       "    <tr>\n",
       "      <th id=\"T_63e3b_level0_row0\" class=\"row_heading level0 row0\" >(20666.0, 119218.0]</th>\n",
       "      <td id=\"T_63e3b_row0_col0\" class=\"data row0 col0\" >7110</td>\n",
       "      <td id=\"T_63e3b_row0_col1\" class=\"data row0 col1\" >580</td>\n",
       "      <td id=\"T_63e3b_row0_col2\" class=\"data row0 col2\" >8.16%</td>\n",
       "    </tr>\n",
       "    <tr>\n",
       "      <th id=\"T_63e3b_level0_row1\" class=\"row_heading level0 row1\" >(119218.0, 172357.0]</th>\n",
       "      <td id=\"T_63e3b_row1_col0\" class=\"data row1 col0\" >7239</td>\n",
       "      <td id=\"T_63e3b_row1_col1\" class=\"data row1 col1\" >627</td>\n",
       "      <td id=\"T_63e3b_row1_col2\" class=\"data row1 col2\" >8.66%</td>\n",
       "    </tr>\n",
       "    <tr>\n",
       "      <th id=\"T_63e3b_level0_row2\" class=\"row_heading level0 row2\" >(172357.0, 2265604.0]</th>\n",
       "      <td id=\"T_63e3b_row2_col0\" class=\"data row2 col0\" >6982</td>\n",
       "      <td id=\"T_63e3b_row2_col1\" class=\"data row2 col1\" >525</td>\n",
       "      <td id=\"T_63e3b_row2_col2\" class=\"data row2 col2\" >7.52%</td>\n",
       "    </tr>\n",
       "  </tbody>\n",
       "</table>\n"
      ],
      "text/plain": [
       "<pandas.io.formats.style.Styler at 0x1e3f5345580>"
      ]
     },
     "metadata": {},
     "output_type": "display_data"
    },
    {
     "data": {
      "text/html": [
       "<style type=\"text/css\">\n",
       "#T_fa522_row0_col0 {\n",
       "  background-color: #6aaed6;\n",
       "  color: #f1f1f1;\n",
       "}\n",
       "#T_fa522_row0_col1 {\n",
       "  background-color: #7ab6d9;\n",
       "  color: #000000;\n",
       "}\n",
       "#T_fa522_row0_col2 {\n",
       "  background-color: #65aad4;\n",
       "  color: #f1f1f1;\n",
       "}\n",
       "#T_fa522_row1_col0, #T_fa522_row1_col1, #T_fa522_row1_col2 {\n",
       "  background-color: #08306b;\n",
       "  color: #f1f1f1;\n",
       "}\n",
       "#T_fa522_row2_col0, #T_fa522_row3_col1, #T_fa522_row3_col2 {\n",
       "  background-color: #f7fbff;\n",
       "  color: #000000;\n",
       "}\n",
       "#T_fa522_row2_col1 {\n",
       "  background-color: #3f8fc5;\n",
       "  color: #f1f1f1;\n",
       "}\n",
       "#T_fa522_row2_col2 {\n",
       "  background-color: #125ea6;\n",
       "  color: #f1f1f1;\n",
       "}\n",
       "#T_fa522_row3_col0 {\n",
       "  background-color: #6dafd7;\n",
       "  color: #f1f1f1;\n",
       "}\n",
       "</style>\n",
       "<table id=\"T_fa522\">\n",
       "  <thead>\n",
       "    <tr>\n",
       "      <th class=\"blank level0\" >&nbsp;</th>\n",
       "      <th id=\"T_fa522_level0_col0\" class=\"col_heading level0 col0\" >Всего кредитополучателей</th>\n",
       "      <th id=\"T_fa522_level0_col1\" class=\"col_heading level0 col1\" >Всего должников</th>\n",
       "      <th id=\"T_fa522_level0_col2\" class=\"col_heading level0 col2\" >Доля должников</th>\n",
       "    </tr>\n",
       "    <tr>\n",
       "      <th class=\"index_name level0\" >new_category</th>\n",
       "      <th class=\"blank col0\" >&nbsp;</th>\n",
       "      <th class=\"blank col1\" >&nbsp;</th>\n",
       "      <th class=\"blank col2\" >&nbsp;</th>\n",
       "    </tr>\n",
       "  </thead>\n",
       "  <tbody>\n",
       "    <tr>\n",
       "      <th id=\"T_fa522_level0_row0\" class=\"row_heading level0 row0\" >(20666.0, 107507.0]</th>\n",
       "      <td id=\"T_fa522_row0_col0\" class=\"data row0 col0\" >5333</td>\n",
       "      <td id=\"T_fa522_row0_col1\" class=\"data row0 col1\" >427</td>\n",
       "      <td id=\"T_fa522_row0_col2\" class=\"data row0 col2\" >8.01%</td>\n",
       "    </tr>\n",
       "    <tr>\n",
       "      <th id=\"T_fa522_level0_row1\" class=\"row_heading level0 row1\" >(107507.0, 142594.0]</th>\n",
       "      <td id=\"T_fa522_row1_col0\" class=\"data row1 col0\" >5450</td>\n",
       "      <td id=\"T_fa522_row1_col1\" class=\"data row1 col1\" >480</td>\n",
       "      <td id=\"T_fa522_row1_col2\" class=\"data row1 col2\" >8.81%</td>\n",
       "    </tr>\n",
       "    <tr>\n",
       "      <th id=\"T_fa522_level0_row2\" class=\"row_heading level0 row2\" >(142594.0, 195842.0]</th>\n",
       "      <td id=\"T_fa522_row2_col0\" class=\"data row2 col0\" >5216</td>\n",
       "      <td id=\"T_fa522_row2_col1\" class=\"data row2 col1\" >444</td>\n",
       "      <td id=\"T_fa522_row2_col2\" class=\"data row2 col2\" >8.51%</td>\n",
       "    </tr>\n",
       "    <tr>\n",
       "      <th id=\"T_fa522_level0_row3\" class=\"row_heading level0 row3\" >(195842.0, 2265604.0]</th>\n",
       "      <td id=\"T_fa522_row3_col0\" class=\"data row3 col0\" >5332</td>\n",
       "      <td id=\"T_fa522_row3_col1\" class=\"data row3 col1\" >381</td>\n",
       "      <td id=\"T_fa522_row3_col2\" class=\"data row3 col2\" >7.15%</td>\n",
       "    </tr>\n",
       "  </tbody>\n",
       "</table>\n"
      ],
      "text/plain": [
       "<pandas.io.formats.style.Styler at 0x1e3f444d190>"
      ]
     },
     "metadata": {},
     "output_type": "display_data"
    },
    {
     "data": {
      "text/html": [
       "<style type=\"text/css\">\n",
       "#T_50129_row0_col0, #T_50129_row2_col1, #T_50129_row2_col2 {\n",
       "  background-color: #08306b;\n",
       "  color: #f1f1f1;\n",
       "}\n",
       "#T_50129_row0_col1, #T_50129_row0_col2 {\n",
       "  background-color: #4896c8;\n",
       "  color: #f1f1f1;\n",
       "}\n",
       "#T_50129_row1_col0, #T_50129_row2_col0, #T_50129_row3_col0, #T_50129_row4_col0, #T_50129_row4_col1, #T_50129_row4_col2 {\n",
       "  background-color: #f7fbff;\n",
       "  color: #000000;\n",
       "}\n",
       "#T_50129_row1_col1, #T_50129_row1_col2, #T_50129_row3_col1, #T_50129_row3_col2 {\n",
       "  background-color: #1764ab;\n",
       "  color: #f1f1f1;\n",
       "}\n",
       "</style>\n",
       "<table id=\"T_50129\">\n",
       "  <thead>\n",
       "    <tr>\n",
       "      <th class=\"blank level0\" >&nbsp;</th>\n",
       "      <th id=\"T_50129_level0_col0\" class=\"col_heading level0 col0\" >Всего кредитополучателей</th>\n",
       "      <th id=\"T_50129_level0_col1\" class=\"col_heading level0 col1\" >Всего должников</th>\n",
       "      <th id=\"T_50129_level0_col2\" class=\"col_heading level0 col2\" >Доля должников</th>\n",
       "    </tr>\n",
       "    <tr>\n",
       "      <th class=\"index_name level0\" >new_category</th>\n",
       "      <th class=\"blank col0\" >&nbsp;</th>\n",
       "      <th class=\"blank col1\" >&nbsp;</th>\n",
       "      <th class=\"blank col2\" >&nbsp;</th>\n",
       "    </tr>\n",
       "  </thead>\n",
       "  <tbody>\n",
       "    <tr>\n",
       "      <th id=\"T_50129_level0_row0\" class=\"row_heading level0 row0\" >(20666.0, 98514.0]</th>\n",
       "      <td id=\"T_50129_row0_col0\" class=\"data row0 col0\" >4267</td>\n",
       "      <td id=\"T_50129_row0_col1\" class=\"data row0 col1\" >344</td>\n",
       "      <td id=\"T_50129_row0_col2\" class=\"data row0 col2\" >8.06%</td>\n",
       "    </tr>\n",
       "    <tr>\n",
       "      <th id=\"T_50129_level0_row1\" class=\"row_heading level0 row1\" >(98514.0, 132113.0]</th>\n",
       "      <td id=\"T_50129_row1_col0\" class=\"data row1 col0\" >4266</td>\n",
       "      <td id=\"T_50129_row1_col1\" class=\"data row1 col1\" >358</td>\n",
       "      <td id=\"T_50129_row1_col2\" class=\"data row1 col2\" >8.39%</td>\n",
       "    </tr>\n",
       "    <tr>\n",
       "      <th id=\"T_50129_level0_row2\" class=\"row_heading level0 row2\" >(132113.0, 161380.0]</th>\n",
       "      <td id=\"T_50129_row2_col0\" class=\"data row2 col0\" >4266</td>\n",
       "      <td id=\"T_50129_row2_col1\" class=\"data row2 col1\" >373</td>\n",
       "      <td id=\"T_50129_row2_col2\" class=\"data row2 col2\" >8.74%</td>\n",
       "    </tr>\n",
       "    <tr>\n",
       "      <th id=\"T_50129_level0_row3\" class=\"row_heading level0 row3\" >(161380.0, 214604.0]</th>\n",
       "      <td id=\"T_50129_row3_col0\" class=\"data row3 col0\" >4266</td>\n",
       "      <td id=\"T_50129_row3_col1\" class=\"data row3 col1\" >358</td>\n",
       "      <td id=\"T_50129_row3_col2\" class=\"data row3 col2\" >8.39%</td>\n",
       "    </tr>\n",
       "    <tr>\n",
       "      <th id=\"T_50129_level0_row4\" class=\"row_heading level0 row4\" >(214604.0, 2265604.0]</th>\n",
       "      <td id=\"T_50129_row4_col0\" class=\"data row4 col0\" >4266</td>\n",
       "      <td id=\"T_50129_row4_col1\" class=\"data row4 col1\" >299</td>\n",
       "      <td id=\"T_50129_row4_col2\" class=\"data row4 col2\" >7.01%</td>\n",
       "    </tr>\n",
       "  </tbody>\n",
       "</table>\n"
      ],
      "text/plain": [
       "<pandas.io.formats.style.Styler at 0x1e3f525ac90>"
      ]
     },
     "metadata": {},
     "output_type": "display_data"
    },
    {
     "data": {
      "text/html": [
       "<style type=\"text/css\">\n",
       "#T_9ab50_row0_col0, #T_9ab50_row1_col0, #T_9ab50_row5_col0 {\n",
       "  background-color: #64a9d3;\n",
       "  color: #f1f1f1;\n",
       "}\n",
       "#T_9ab50_row0_col1 {\n",
       "  background-color: #7ab6d9;\n",
       "  color: #000000;\n",
       "}\n",
       "#T_9ab50_row0_col2 {\n",
       "  background-color: #60a7d2;\n",
       "  color: #f1f1f1;\n",
       "}\n",
       "#T_9ab50_row1_col1 {\n",
       "  background-color: #4e9acb;\n",
       "  color: #f1f1f1;\n",
       "}\n",
       "#T_9ab50_row1_col2 {\n",
       "  background-color: #3383be;\n",
       "  color: #f1f1f1;\n",
       "}\n",
       "#T_9ab50_row2_col0, #T_9ab50_row2_col1, #T_9ab50_row2_col2 {\n",
       "  background-color: #08306b;\n",
       "  color: #f1f1f1;\n",
       "}\n",
       "#T_9ab50_row3_col0 {\n",
       "  background-color: #56a0ce;\n",
       "  color: #f1f1f1;\n",
       "}\n",
       "#T_9ab50_row3_col1 {\n",
       "  background-color: #3a8ac2;\n",
       "  color: #f1f1f1;\n",
       "}\n",
       "#T_9ab50_row3_col2 {\n",
       "  background-color: #2373b6;\n",
       "  color: #f1f1f1;\n",
       "}\n",
       "#T_9ab50_row4_col0, #T_9ab50_row5_col1, #T_9ab50_row5_col2 {\n",
       "  background-color: #f7fbff;\n",
       "  color: #000000;\n",
       "}\n",
       "#T_9ab50_row4_col1 {\n",
       "  background-color: #a8cee4;\n",
       "  color: #000000;\n",
       "}\n",
       "#T_9ab50_row4_col2 {\n",
       "  background-color: #5aa2cf;\n",
       "  color: #f1f1f1;\n",
       "}\n",
       "</style>\n",
       "<table id=\"T_9ab50\">\n",
       "  <thead>\n",
       "    <tr>\n",
       "      <th class=\"blank level0\" >&nbsp;</th>\n",
       "      <th id=\"T_9ab50_level0_col0\" class=\"col_heading level0 col0\" >Всего кредитополучателей</th>\n",
       "      <th id=\"T_9ab50_level0_col1\" class=\"col_heading level0 col1\" >Всего должников</th>\n",
       "      <th id=\"T_9ab50_level0_col2\" class=\"col_heading level0 col2\" >Доля должников</th>\n",
       "    </tr>\n",
       "    <tr>\n",
       "      <th class=\"index_name level0\" >new_category</th>\n",
       "      <th class=\"blank col0\" >&nbsp;</th>\n",
       "      <th class=\"blank col1\" >&nbsp;</th>\n",
       "      <th class=\"blank col2\" >&nbsp;</th>\n",
       "    </tr>\n",
       "  </thead>\n",
       "  <tbody>\n",
       "    <tr>\n",
       "      <th id=\"T_9ab50_level0_row0\" class=\"row_heading level0 row0\" >(20666.0, 92092.0]</th>\n",
       "      <td id=\"T_9ab50_row0_col0\" class=\"data row0 col0\" >3555</td>\n",
       "      <td id=\"T_9ab50_row0_col1\" class=\"data row0 col1\" >285</td>\n",
       "      <td id=\"T_9ab50_row0_col2\" class=\"data row0 col2\" >8.02%</td>\n",
       "    </tr>\n",
       "    <tr>\n",
       "      <th id=\"T_9ab50_level0_row1\" class=\"row_heading level0 row1\" >(92092.0, 119218.0]</th>\n",
       "      <td id=\"T_9ab50_row1_col0\" class=\"data row1 col0\" >3555</td>\n",
       "      <td id=\"T_9ab50_row1_col1\" class=\"data row1 col1\" >295</td>\n",
       "      <td id=\"T_9ab50_row1_col2\" class=\"data row1 col2\" >8.30%</td>\n",
       "    </tr>\n",
       "    <tr>\n",
       "      <th id=\"T_9ab50_level0_row2\" class=\"row_heading level0 row2\" >(119218.0, 142594.0]</th>\n",
       "      <td id=\"T_9ab50_row2_col0\" class=\"data row2 col0\" >3673</td>\n",
       "      <td id=\"T_9ab50_row2_col1\" class=\"data row2 col1\" >327</td>\n",
       "      <td id=\"T_9ab50_row2_col2\" class=\"data row2 col2\" >8.90%</td>\n",
       "    </tr>\n",
       "    <tr>\n",
       "      <th id=\"T_9ab50_level0_row3\" class=\"row_heading level0 row3\" >(142594.0, 172357.0]</th>\n",
       "      <td id=\"T_9ab50_row3_col0\" class=\"data row3 col0\" >3566</td>\n",
       "      <td id=\"T_9ab50_row3_col1\" class=\"data row3 col1\" >300</td>\n",
       "      <td id=\"T_9ab50_row3_col2\" class=\"data row3 col2\" >8.41%</td>\n",
       "    </tr>\n",
       "    <tr>\n",
       "      <th id=\"T_9ab50_level0_row4\" class=\"row_heading level0 row4\" >(172357.0, 228893.0]</th>\n",
       "      <td id=\"T_9ab50_row4_col0\" class=\"data row4 col0\" >3427</td>\n",
       "      <td id=\"T_9ab50_row4_col1\" class=\"data row4 col1\" >276</td>\n",
       "      <td id=\"T_9ab50_row4_col2\" class=\"data row4 col2\" >8.05%</td>\n",
       "    </tr>\n",
       "    <tr>\n",
       "      <th id=\"T_9ab50_level0_row5\" class=\"row_heading level0 row5\" >(228893.0, 2265604.0]</th>\n",
       "      <td id=\"T_9ab50_row5_col0\" class=\"data row5 col0\" >3555</td>\n",
       "      <td id=\"T_9ab50_row5_col1\" class=\"data row5 col1\" >249</td>\n",
       "      <td id=\"T_9ab50_row5_col2\" class=\"data row5 col2\" >7.00%</td>\n",
       "    </tr>\n",
       "  </tbody>\n",
       "</table>\n"
      ],
      "text/plain": [
       "<pandas.io.formats.style.Styler at 0x1e3f5258fe0>"
      ]
     },
     "metadata": {},
     "output_type": "display_data"
    },
    {
     "data": {
      "text/html": [
       "<style type=\"text/css\">\n",
       "#T_c2695_row0_col0, #T_c2695_row3_col1, #T_c2695_row3_col2, #T_c2695_row6_col0 {\n",
       "  background-color: #08306b;\n",
       "  color: #f1f1f1;\n",
       "}\n",
       "#T_c2695_row0_col1, #T_c2695_row0_col2 {\n",
       "  background-color: #8dc1dd;\n",
       "  color: #000000;\n",
       "}\n",
       "#T_c2695_row1_col0, #T_c2695_row2_col0, #T_c2695_row3_col0, #T_c2695_row4_col0, #T_c2695_row5_col0, #T_c2695_row6_col1, #T_c2695_row6_col2 {\n",
       "  background-color: #f7fbff;\n",
       "  color: #000000;\n",
       "}\n",
       "#T_c2695_row1_col1, #T_c2695_row1_col2 {\n",
       "  background-color: #083979;\n",
       "  color: #f1f1f1;\n",
       "}\n",
       "#T_c2695_row2_col1, #T_c2695_row2_col2 {\n",
       "  background-color: #083471;\n",
       "  color: #f1f1f1;\n",
       "}\n",
       "#T_c2695_row4_col1, #T_c2695_row4_col2 {\n",
       "  background-color: #09529d;\n",
       "  color: #f1f1f1;\n",
       "}\n",
       "#T_c2695_row5_col1, #T_c2695_row5_col2 {\n",
       "  background-color: #4f9bcb;\n",
       "  color: #f1f1f1;\n",
       "}\n",
       "</style>\n",
       "<table id=\"T_c2695\">\n",
       "  <thead>\n",
       "    <tr>\n",
       "      <th class=\"blank level0\" >&nbsp;</th>\n",
       "      <th id=\"T_c2695_level0_col0\" class=\"col_heading level0 col0\" >Всего кредитополучателей</th>\n",
       "      <th id=\"T_c2695_level0_col1\" class=\"col_heading level0 col1\" >Всего должников</th>\n",
       "      <th id=\"T_c2695_level0_col2\" class=\"col_heading level0 col2\" >Доля должников</th>\n",
       "    </tr>\n",
       "    <tr>\n",
       "      <th class=\"index_name level0\" >new_category</th>\n",
       "      <th class=\"blank col0\" >&nbsp;</th>\n",
       "      <th class=\"blank col1\" >&nbsp;</th>\n",
       "      <th class=\"blank col2\" >&nbsp;</th>\n",
       "    </tr>\n",
       "  </thead>\n",
       "  <tbody>\n",
       "    <tr>\n",
       "      <th id=\"T_c2695_level0_row0\" class=\"row_heading level0 row0\" >(20666.0, 87287.0]</th>\n",
       "      <td id=\"T_c2695_row0_col0\" class=\"data row0 col0\" >3048</td>\n",
       "      <td id=\"T_c2695_row0_col1\" class=\"data row0 col1\" >233</td>\n",
       "      <td id=\"T_c2695_row0_col2\" class=\"data row0 col2\" >7.64%</td>\n",
       "    </tr>\n",
       "    <tr>\n",
       "      <th id=\"T_c2695_level0_row1\" class=\"row_heading level0 row1\" >(87287.0, 113563.0]</th>\n",
       "      <td id=\"T_c2695_row1_col0\" class=\"data row1 col0\" >3047</td>\n",
       "      <td id=\"T_c2695_row1_col1\" class=\"data row1 col1\" >262</td>\n",
       "      <td id=\"T_c2695_row1_col2\" class=\"data row1 col2\" >8.60%</td>\n",
       "    </tr>\n",
       "    <tr>\n",
       "      <th id=\"T_c2695_level0_row2\" class=\"row_heading level0 row2\" >(113563.0, 137465.0]</th>\n",
       "      <td id=\"T_c2695_row2_col0\" class=\"data row2 col0\" >3047</td>\n",
       "      <td id=\"T_c2695_row2_col1\" class=\"data row2 col1\" >263</td>\n",
       "      <td id=\"T_c2695_row2_col2\" class=\"data row2 col2\" >8.63%</td>\n",
       "    </tr>\n",
       "    <tr>\n",
       "      <th id=\"T_c2695_level0_row3\" class=\"row_heading level0 row3\" >(137465.0, 155314.0]</th>\n",
       "      <td id=\"T_c2695_row3_col0\" class=\"data row3 col0\" >3047</td>\n",
       "      <td id=\"T_c2695_row3_col1\" class=\"data row3 col1\" >264</td>\n",
       "      <td id=\"T_c2695_row3_col2\" class=\"data row3 col2\" >8.66%</td>\n",
       "    </tr>\n",
       "    <tr>\n",
       "      <th id=\"T_c2695_level0_row4\" class=\"row_heading level0 row4\" >(155314.0, 184554.0]</th>\n",
       "      <td id=\"T_c2695_row4_col0\" class=\"data row4 col0\" >3047</td>\n",
       "      <td id=\"T_c2695_row4_col1\" class=\"data row4 col1\" >257</td>\n",
       "      <td id=\"T_c2695_row4_col2\" class=\"data row4 col2\" >8.43%</td>\n",
       "    </tr>\n",
       "    <tr>\n",
       "      <th id=\"T_c2695_level0_row5\" class=\"row_heading level0 row5\" >(184554.0, 242009.0]</th>\n",
       "      <td id=\"T_c2695_row5_col0\" class=\"data row5 col0\" >3047</td>\n",
       "      <td id=\"T_c2695_row5_col1\" class=\"data row5 col1\" >242</td>\n",
       "      <td id=\"T_c2695_row5_col2\" class=\"data row5 col2\" >7.94%</td>\n",
       "    </tr>\n",
       "    <tr>\n",
       "      <th id=\"T_c2695_level0_row6\" class=\"row_heading level0 row6\" >(242009.0, 2265604.0]</th>\n",
       "      <td id=\"T_c2695_row6_col0\" class=\"data row6 col0\" >3048</td>\n",
       "      <td id=\"T_c2695_row6_col1\" class=\"data row6 col1\" >211</td>\n",
       "      <td id=\"T_c2695_row6_col2\" class=\"data row6 col2\" >6.92%</td>\n",
       "    </tr>\n",
       "  </tbody>\n",
       "</table>\n"
      ],
      "text/plain": [
       "<pandas.io.formats.style.Styler at 0x1e3f5369970>"
      ]
     },
     "metadata": {},
     "output_type": "display_data"
    },
    {
     "data": {
      "text/html": [
       "<style type=\"text/css\">\n",
       "#T_bd433_row0_col0, #T_bd433_row5_col0, #T_bd433_row7_col0 {\n",
       "  background-color: #6aaed6;\n",
       "  color: #f1f1f1;\n",
       "}\n",
       "#T_bd433_row0_col1 {\n",
       "  background-color: #aacfe5;\n",
       "  color: #000000;\n",
       "}\n",
       "#T_bd433_row0_col2 {\n",
       "  background-color: #91c3de;\n",
       "  color: #000000;\n",
       "}\n",
       "#T_bd433_row1_col0, #T_bd433_row2_col0 {\n",
       "  background-color: #6caed6;\n",
       "  color: #f1f1f1;\n",
       "}\n",
       "#T_bd433_row1_col1, #T_bd433_row5_col1 {\n",
       "  background-color: #519ccc;\n",
       "  color: #f1f1f1;\n",
       "}\n",
       "#T_bd433_row1_col2, #T_bd433_row5_col2 {\n",
       "  background-color: #2f7fbc;\n",
       "  color: #f1f1f1;\n",
       "}\n",
       "#T_bd433_row2_col1 {\n",
       "  background-color: #1c6ab0;\n",
       "  color: #f1f1f1;\n",
       "}\n",
       "#T_bd433_row2_col2 {\n",
       "  background-color: #084285;\n",
       "  color: #f1f1f1;\n",
       "}\n",
       "#T_bd433_row3_col0, #T_bd433_row3_col1, #T_bd433_row3_col2 {\n",
       "  background-color: #08306b;\n",
       "  color: #f1f1f1;\n",
       "}\n",
       "#T_bd433_row4_col0, #T_bd433_row7_col1, #T_bd433_row7_col2 {\n",
       "  background-color: #f7fbff;\n",
       "  color: #000000;\n",
       "}\n",
       "#T_bd433_row4_col1 {\n",
       "  background-color: #4695c8;\n",
       "  color: #f1f1f1;\n",
       "}\n",
       "#T_bd433_row4_col2 {\n",
       "  background-color: #084184;\n",
       "  color: #f1f1f1;\n",
       "}\n",
       "#T_bd433_row6_col0 {\n",
       "  background-color: #6dafd7;\n",
       "  color: #f1f1f1;\n",
       "}\n",
       "#T_bd433_row6_col1 {\n",
       "  background-color: #d4e4f4;\n",
       "  color: #000000;\n",
       "}\n",
       "#T_bd433_row6_col2 {\n",
       "  background-color: #cddff1;\n",
       "  color: #000000;\n",
       "}\n",
       "</style>\n",
       "<table id=\"T_bd433\">\n",
       "  <thead>\n",
       "    <tr>\n",
       "      <th class=\"blank level0\" >&nbsp;</th>\n",
       "      <th id=\"T_bd433_level0_col0\" class=\"col_heading level0 col0\" >Всего кредитополучателей</th>\n",
       "      <th id=\"T_bd433_level0_col1\" class=\"col_heading level0 col1\" >Всего должников</th>\n",
       "      <th id=\"T_bd433_level0_col2\" class=\"col_heading level0 col2\" >Доля должников</th>\n",
       "    </tr>\n",
       "    <tr>\n",
       "      <th class=\"index_name level0\" >new_category</th>\n",
       "      <th class=\"blank col0\" >&nbsp;</th>\n",
       "      <th class=\"blank col1\" >&nbsp;</th>\n",
       "      <th class=\"blank col2\" >&nbsp;</th>\n",
       "    </tr>\n",
       "  </thead>\n",
       "  <tbody>\n",
       "    <tr>\n",
       "      <th id=\"T_bd433_level0_row0\" class=\"row_heading level0 row0\" >(20666.0, 83837.0]</th>\n",
       "      <td id=\"T_bd433_row0_col0\" class=\"data row0 col0\" >2667</td>\n",
       "      <td id=\"T_bd433_row0_col1\" class=\"data row0 col1\" >206</td>\n",
       "      <td id=\"T_bd433_row0_col2\" class=\"data row0 col2\" >7.72%</td>\n",
       "    </tr>\n",
       "    <tr>\n",
       "      <th id=\"T_bd433_level0_row1\" class=\"row_heading level0 row1\" >(83837.0, 107507.0]</th>\n",
       "      <td id=\"T_bd433_row1_col0\" class=\"data row1 col0\" >2666</td>\n",
       "      <td id=\"T_bd433_row1_col1\" class=\"data row1 col1\" >221</td>\n",
       "      <td id=\"T_bd433_row1_col2\" class=\"data row1 col2\" >8.29%</td>\n",
       "    </tr>\n",
       "    <tr>\n",
       "      <th id=\"T_bd433_level0_row2\" class=\"row_heading level0 row2\" >(107507.0, 127546.0]</th>\n",
       "      <td id=\"T_bd433_row2_col0\" class=\"data row2 col0\" >2666</td>\n",
       "      <td id=\"T_bd433_row2_col1\" class=\"data row2 col1\" >233</td>\n",
       "      <td id=\"T_bd433_row2_col2\" class=\"data row2 col2\" >8.74%</td>\n",
       "    </tr>\n",
       "    <tr>\n",
       "      <th id=\"T_bd433_level0_row3\" class=\"row_heading level0 row3\" >(127546.0, 142594.0]</th>\n",
       "      <td id=\"T_bd433_row3_col0\" class=\"data row3 col0\" >2784</td>\n",
       "      <td id=\"T_bd433_row3_col1\" class=\"data row3 col1\" >247</td>\n",
       "      <td id=\"T_bd433_row3_col2\" class=\"data row3 col2\" >8.87%</td>\n",
       "    </tr>\n",
       "    <tr>\n",
       "      <th id=\"T_bd433_level0_row4\" class=\"row_heading level0 row4\" >(142594.0, 166525.0]</th>\n",
       "      <td id=\"T_bd433_row4_col0\" class=\"data row4 col0\" >2549</td>\n",
       "      <td id=\"T_bd433_row4_col1\" class=\"data row4 col1\" >223</td>\n",
       "      <td id=\"T_bd433_row4_col2\" class=\"data row4 col2\" >8.75%</td>\n",
       "    </tr>\n",
       "    <tr>\n",
       "      <th id=\"T_bd433_level0_row5\" class=\"row_heading level0 row5\" >(166525.0, 195842.0]</th>\n",
       "      <td id=\"T_bd433_row5_col0\" class=\"data row5 col0\" >2667</td>\n",
       "      <td id=\"T_bd433_row5_col1\" class=\"data row5 col1\" >221</td>\n",
       "      <td id=\"T_bd433_row5_col2\" class=\"data row5 col2\" >8.29%</td>\n",
       "    </tr>\n",
       "    <tr>\n",
       "      <th id=\"T_bd433_level0_row6\" class=\"row_heading level0 row6\" >(195842.0, 254250.0]</th>\n",
       "      <td id=\"T_bd433_row6_col0\" class=\"data row6 col0\" >2665</td>\n",
       "      <td id=\"T_bd433_row6_col1\" class=\"data row6 col1\" >196</td>\n",
       "      <td id=\"T_bd433_row6_col2\" class=\"data row6 col2\" >7.35%</td>\n",
       "    </tr>\n",
       "    <tr>\n",
       "      <th id=\"T_bd433_level0_row7\" class=\"row_heading level0 row7\" >(254250.0, 2265604.0]</th>\n",
       "      <td id=\"T_bd433_row7_col0\" class=\"data row7 col0\" >2667</td>\n",
       "      <td id=\"T_bd433_row7_col1\" class=\"data row7 col1\" >185</td>\n",
       "      <td id=\"T_bd433_row7_col2\" class=\"data row7 col2\" >6.94%</td>\n",
       "    </tr>\n",
       "  </tbody>\n",
       "</table>\n"
      ],
      "text/plain": [
       "<pandas.io.formats.style.Styler at 0x1e3f40c6810>"
      ]
     },
     "metadata": {},
     "output_type": "display_data"
    }
   ],
   "source": [
    "# temp = data.copy()\n",
    "def que1(category):\n",
    "    data_temp = temp.pivot_table(\n",
    "        index=category, values=\"debt\", aggfunc=[\"count\", \"sum\", \"mean\"]\n",
    "    )\n",
    "    data_temp.columns = [\n",
    "        \"Всего кредитополучателей\",\n",
    "        \"Всего должников\",\n",
    "        \"Доля должников\",\n",
    "    ]\n",
    "    # Оформим таблицу цветным градиентом, но можно ее вывести и просто display(data_temp)\n",
    "    # display(data_temp.style.format(\"{:.3f}\").background_gradient(cmap='Blues', axis=0))\n",
    "    display(\n",
    "        data_temp.style.format(\n",
    "            {\n",
    "                \"Всего кредитополучателей\": \"{:.0f}\",\n",
    "                \"Всего должников\": \"{:.0f}\",\n",
    "                \"Доля должников\": \"{:.2%}\",\n",
    "            }\n",
    "        ).background_gradient(cmap=\"Blues\", axis=0)\n",
    "    )\n",
    "\n",
    "\n",
    "start, stop = 3, 8  # начальное и конечное количество категорий\n",
    "while start <= stop:\n",
    "    temp[\"new_category\"] = pd.qcut(temp[\"total_income\"], q=start, precision=0)\n",
    "    que1(\"new_category\")\n",
    "    start += 1"
   ]
  },
  {
   "cell_type": "markdown",
   "id": "7fefe925",
   "metadata": {},
   "source": [
    "Вот, нашлась самая кредито-опасная категория дохода заемщиков, повод для более глубокого анализа."
   ]
  },
  {
   "cell_type": "markdown",
   "id": "1dcc9b12",
   "metadata": {
    "deletable": false,
    "id": "1dcc9b12"
   },
   "source": [
    "### Как разные цели кредита влияют на его возврат в срок?"
   ]
  },
  {
   "cell_type": "code",
   "execution_count": 122,
   "id": "c602bc8b",
   "metadata": {
    "deletable": false,
    "id": "c602bc8b"
   },
   "outputs": [
    {
     "data": {
      "text/html": [
       "<div>\n",
       "<style scoped>\n",
       "    .dataframe tbody tr th:only-of-type {\n",
       "        vertical-align: middle;\n",
       "    }\n",
       "\n",
       "    .dataframe tbody tr th {\n",
       "        vertical-align: top;\n",
       "    }\n",
       "\n",
       "    .dataframe thead th {\n",
       "        text-align: right;\n",
       "    }\n",
       "</style>\n",
       "<table border=\"1\" class=\"dataframe\">\n",
       "  <thead>\n",
       "    <tr style=\"text-align: right;\">\n",
       "      <th></th>\n",
       "      <th>Заёмщиков</th>\n",
       "      <th>Должников</th>\n",
       "      <th>Процент должников</th>\n",
       "    </tr>\n",
       "    <tr>\n",
       "      <th>purpose_category</th>\n",
       "      <th></th>\n",
       "      <th></th>\n",
       "      <th></th>\n",
       "    </tr>\n",
       "  </thead>\n",
       "  <tbody>\n",
       "    <tr>\n",
       "      <th>операции с недвижимостью</th>\n",
       "      <td>10751</td>\n",
       "      <td>780</td>\n",
       "      <td>7.26%</td>\n",
       "    </tr>\n",
       "    <tr>\n",
       "      <th>проведение свадьбы</th>\n",
       "      <td>2313</td>\n",
       "      <td>183</td>\n",
       "      <td>7.91%</td>\n",
       "    </tr>\n",
       "    <tr>\n",
       "      <th>получение образования</th>\n",
       "      <td>3988</td>\n",
       "      <td>369</td>\n",
       "      <td>9.25%</td>\n",
       "    </tr>\n",
       "    <tr>\n",
       "      <th>операции с автомобилем</th>\n",
       "      <td>4279</td>\n",
       "      <td>400</td>\n",
       "      <td>9.35%</td>\n",
       "    </tr>\n",
       "  </tbody>\n",
       "</table>\n",
       "</div>"
      ],
      "text/plain": [
       "                          Заёмщиков  Должников Процент должников\n",
       "purpose_category                                                \n",
       "операции с недвижимостью      10751        780             7.26%\n",
       "проведение свадьбы             2313        183             7.91%\n",
       "получение образования          3988        369             9.25%\n",
       "операции с автомобилем         4279        400             9.35%"
      ]
     },
     "execution_count": 122,
     "metadata": {},
     "output_type": "execute_result"
    }
   ],
   "source": [
    "purpose_grouped = data.groupby(\"purpose_category\")[\"debt\"].agg([\"count\", \"sum\"])\n",
    "purpose_grouped[\"ratio\"] = purpose_grouped[\"sum\"] / purpose_grouped[\"count\"]\n",
    "purpose_grouped[\"ratio\"] = purpose_grouped[\"ratio\"].apply(\"{:.2%}\".format)\n",
    "purpose_grouped = purpose_grouped.rename(\n",
    "    columns={\"count\": \"Заёмщиков\", \"sum\": \"Должников\", \"ratio\": \"Процент должников\"}\n",
    ")\n",
    "purpose_grouped.sort_values(by=\"Процент должников\")"
   ]
  },
  {
   "cell_type": "markdown",
   "id": "cf05ed63",
   "metadata": {
    "deletable": false,
    "id": "cf05ed63"
   },
   "source": [
    "**Вывод: Кредиты на операции с недвижимостью и проведение свадьбы скорее вернут в срок, чем кредиты на получение образования и операции с автомобилем. Видимо, кредиты на автомобиль и обучение несут дополнительные риски связанные или с возможной аварией, или с проблемами трудоустройства после обучения** "
   ]
  },
  {
   "cell_type": "markdown",
   "id": "57bc304e",
   "metadata": {
    "deletable": false,
    "id": "57bc304e"
   },
   "source": [
    "## Общий вывод"
   ]
  },
  {
   "cell_type": "markdown",
   "id": "f7b80ec2",
   "metadata": {},
   "source": [
    "**В ходе выполнения данного проекта были выполнены следующие этапы:** \n",
    "* Сделано описание входных данных от банка.\n",
    "* Обработаны аномальные значения, а именно: отрицательные значения трудового стажа заменены на положительные, удалены аномально большие значения столбца с кол-вом детей.\n",
    "* Обработаны пропущенные значения: пропуски в ячейках с доходом заполнены медианным значением среди всех записей с тем же типом дохода, в столбце со стажем работы - медианными значениями по каждому типу занятости.\n",
    "*  Обработаны неявные дубликаты в столбце с образованием — одни и те же значения, но записанные по-разному: с использованием заглавных и строчных букв. Строки были приведены к нижнему регистру. Явные дубликаты были удалены.\n",
    "* Записи были разделены на категории по доходу и целям кредита. \n",
    "* Исследование данных.\n"
   ]
  },
  {
   "cell_type": "markdown",
   "id": "f98004d3",
   "metadata": {},
   "source": [
    "**Итоги исследования**\n",
    "1. Есть зависимость между количеством детей и возвратом кредита в срок. Среди заёмщиков без детей процент должников меньше.\n",
    "2. Есть зависимость между семейным положением и возвратом кредита в срок. Наиболее редко должниками являются вдовцы/вдовы. Наиболее часто - клиенты категории Не женат/не замужем.\n",
    "3. Есть зависимость между уровнем дохода и возвратом кредита в срок. В равных выборках по доходу становится видно, что хуже других кредиты вплачивают представители средней выборки по доходам. При этом заёмщики с наболее высоким доходом имеют меньше долгов по кредиту, чем заёмщики с наиболее низким.\n",
    "4. Разные цели кредита влияют на его возврат в срок.  Кредиты на операции с недвижимостью и проведение свадьбы скорее вернут в срок, чем кредиты на получение образования и операции с автомобилем."
   ]
  },
  {
   "cell_type": "markdown",
   "id": "b7d86b8b",
   "metadata": {},
   "source": [
    "Рекомендации по улучшению сбора данных на основе обнаруженных ошибок: у двух типов занятости (безработные и пенсионеры) получаются аномально большие значения."
   ]
  },
  {
   "cell_type": "markdown",
   "id": "e2c988f3",
   "metadata": {},
   "source": [
    "На основе полученных данных можно составить портрет наиболее надёжного заёмщика:\n",
    "* без детей;\n",
    "* имел опыт супружеских отношений;\n",
    "* с высоким доходом;\n",
    "* цель — операции с недвижимостью."
   ]
  }
 ],
 "metadata": {
  "ExecuteTimeLog": [
   {
    "duration": 46,
    "start_time": "2024-07-18T18:55:07.988Z"
   },
   {
    "duration": 467,
    "start_time": "2024-07-18T18:55:12.579Z"
   },
   {
    "duration": 23,
    "start_time": "2024-07-18T18:55:14.971Z"
   },
   {
    "duration": 73,
    "start_time": "2024-07-18T18:55:57.415Z"
   },
   {
    "duration": 15,
    "start_time": "2024-07-18T18:55:57.490Z"
   },
   {
    "duration": 20,
    "start_time": "2024-07-18T18:55:57.507Z"
   },
   {
    "duration": 26,
    "start_time": "2024-07-18T18:55:57.530Z"
   },
   {
    "duration": 47,
    "start_time": "2024-07-18T18:55:57.558Z"
   },
   {
    "duration": 5,
    "start_time": "2024-07-18T18:55:57.606Z"
   },
   {
    "duration": 11,
    "start_time": "2024-07-18T18:55:57.612Z"
   },
   {
    "duration": 5,
    "start_time": "2024-07-18T18:55:57.625Z"
   },
   {
    "duration": 47,
    "start_time": "2024-07-18T18:55:57.631Z"
   },
   {
    "duration": 4,
    "start_time": "2024-07-18T18:55:57.680Z"
   },
   {
    "duration": 37,
    "start_time": "2024-07-18T18:55:57.686Z"
   },
   {
    "duration": 10,
    "start_time": "2024-07-18T18:55:57.724Z"
   },
   {
    "duration": 12,
    "start_time": "2024-07-18T18:55:57.736Z"
   },
   {
    "duration": 20,
    "start_time": "2024-07-18T18:55:57.750Z"
   },
   {
    "duration": 19,
    "start_time": "2024-07-18T18:55:57.771Z"
   },
   {
    "duration": 15,
    "start_time": "2024-07-18T18:55:57.792Z"
   },
   {
    "duration": 3,
    "start_time": "2024-07-18T18:55:57.809Z"
   },
   {
    "duration": 12,
    "start_time": "2024-07-18T18:55:57.814Z"
   },
   {
    "duration": 5,
    "start_time": "2024-07-18T18:55:57.827Z"
   },
   {
    "duration": 3,
    "start_time": "2024-07-18T18:55:57.855Z"
   },
   {
    "duration": 18,
    "start_time": "2024-07-18T18:55:57.859Z"
   },
   {
    "duration": 6,
    "start_time": "2024-07-18T18:55:57.879Z"
   },
   {
    "duration": 29,
    "start_time": "2024-07-18T18:55:57.886Z"
   },
   {
    "duration": 4,
    "start_time": "2024-07-18T18:55:57.917Z"
   },
   {
    "duration": 5,
    "start_time": "2024-07-18T18:55:57.923Z"
   },
   {
    "duration": 49,
    "start_time": "2024-07-19T11:58:00.006Z"
   },
   {
    "duration": 690,
    "start_time": "2024-07-19T11:58:08.550Z"
   },
   {
    "duration": 22,
    "start_time": "2024-07-19T11:58:09.242Z"
   },
   {
    "duration": 16,
    "start_time": "2024-07-19T11:58:09.265Z"
   },
   {
    "duration": 10,
    "start_time": "2024-07-19T11:58:09.282Z"
   },
   {
    "duration": 35,
    "start_time": "2024-07-19T11:58:09.294Z"
   },
   {
    "duration": 3,
    "start_time": "2024-07-19T11:58:09.331Z"
   },
   {
    "duration": 15,
    "start_time": "2024-07-19T11:58:09.335Z"
   },
   {
    "duration": 9,
    "start_time": "2024-07-19T11:58:09.352Z"
   },
   {
    "duration": 15,
    "start_time": "2024-07-19T11:58:09.362Z"
   },
   {
    "duration": 9,
    "start_time": "2024-07-19T11:58:09.378Z"
   },
   {
    "duration": 42,
    "start_time": "2024-07-19T11:58:09.388Z"
   },
   {
    "duration": 40,
    "start_time": "2024-07-19T11:58:09.432Z"
   },
   {
    "duration": 6,
    "start_time": "2024-07-19T11:58:09.473Z"
   },
   {
    "duration": 12,
    "start_time": "2024-07-19T11:58:09.481Z"
   },
   {
    "duration": 21,
    "start_time": "2024-07-19T11:58:09.494Z"
   },
   {
    "duration": 16,
    "start_time": "2024-07-19T11:58:09.517Z"
   },
   {
    "duration": 26,
    "start_time": "2024-07-19T11:58:09.534Z"
   },
   {
    "duration": 12,
    "start_time": "2024-07-19T11:58:09.562Z"
   },
   {
    "duration": 25,
    "start_time": "2024-07-19T11:58:09.576Z"
   },
   {
    "duration": 8,
    "start_time": "2024-07-19T11:58:09.602Z"
   },
   {
    "duration": 12,
    "start_time": "2024-07-19T11:58:09.611Z"
   },
   {
    "duration": 10,
    "start_time": "2024-07-19T11:58:10.748Z"
   },
   {
    "duration": 9,
    "start_time": "2024-07-19T11:58:55.178Z"
   },
   {
    "duration": 31,
    "start_time": "2024-07-19T12:08:42.758Z"
   },
   {
    "duration": 9,
    "start_time": "2024-07-19T12:10:37.604Z"
   },
   {
    "duration": 12,
    "start_time": "2024-07-19T12:10:55.716Z"
   },
   {
    "duration": 11,
    "start_time": "2024-07-19T12:11:35.529Z"
   },
   {
    "duration": 12,
    "start_time": "2024-07-19T12:13:13.342Z"
   },
   {
    "duration": 12,
    "start_time": "2024-07-19T12:13:20.847Z"
   },
   {
    "duration": 12,
    "start_time": "2024-07-19T12:13:53.581Z"
   },
   {
    "duration": 10,
    "start_time": "2024-07-19T12:14:09.743Z"
   },
   {
    "duration": 12,
    "start_time": "2024-07-19T12:14:27.056Z"
   },
   {
    "duration": 14,
    "start_time": "2024-07-19T13:20:55.603Z"
   },
   {
    "duration": 12,
    "start_time": "2024-07-19T13:24:25.719Z"
   },
   {
    "duration": 12,
    "start_time": "2024-07-19T13:24:51.199Z"
   },
   {
    "duration": 9,
    "start_time": "2024-07-19T13:27:15.202Z"
   },
   {
    "duration": 13,
    "start_time": "2024-07-19T13:27:19.897Z"
   },
   {
    "duration": 12,
    "start_time": "2024-07-19T13:47:19.306Z"
   },
   {
    "duration": 10,
    "start_time": "2024-07-19T13:47:48.792Z"
   },
   {
    "duration": 12,
    "start_time": "2024-07-19T13:48:14.577Z"
   },
   {
    "duration": 12,
    "start_time": "2024-07-19T13:48:17.353Z"
   },
   {
    "duration": 81,
    "start_time": "2024-07-19T13:48:21.312Z"
   },
   {
    "duration": 15,
    "start_time": "2024-07-19T13:48:21.395Z"
   },
   {
    "duration": 16,
    "start_time": "2024-07-19T13:48:21.411Z"
   },
   {
    "duration": 10,
    "start_time": "2024-07-19T13:48:21.429Z"
   },
   {
    "duration": 52,
    "start_time": "2024-07-19T13:48:21.441Z"
   },
   {
    "duration": 3,
    "start_time": "2024-07-19T13:48:21.494Z"
   },
   {
    "duration": 9,
    "start_time": "2024-07-19T13:48:21.499Z"
   },
   {
    "duration": 17,
    "start_time": "2024-07-19T13:48:21.510Z"
   },
   {
    "duration": 5,
    "start_time": "2024-07-19T13:48:21.529Z"
   },
   {
    "duration": 3,
    "start_time": "2024-07-19T13:48:21.536Z"
   },
   {
    "duration": 48,
    "start_time": "2024-07-19T13:48:21.541Z"
   },
   {
    "duration": 11,
    "start_time": "2024-07-19T13:48:21.590Z"
   },
   {
    "duration": 5,
    "start_time": "2024-07-19T13:48:21.602Z"
   },
   {
    "duration": 11,
    "start_time": "2024-07-19T13:48:21.609Z"
   },
   {
    "duration": 18,
    "start_time": "2024-07-19T13:48:21.621Z"
   },
   {
    "duration": 45,
    "start_time": "2024-07-19T13:48:21.640Z"
   },
   {
    "duration": 3,
    "start_time": "2024-07-19T13:48:21.687Z"
   },
   {
    "duration": 38,
    "start_time": "2024-07-19T13:48:21.691Z"
   },
   {
    "duration": 18,
    "start_time": "2024-07-19T13:48:21.731Z"
   },
   {
    "duration": 3,
    "start_time": "2024-07-19T13:48:21.750Z"
   },
   {
    "duration": 12,
    "start_time": "2024-07-19T13:48:21.755Z"
   },
   {
    "duration": 11,
    "start_time": "2024-07-19T13:48:23.514Z"
   },
   {
    "duration": 12,
    "start_time": "2024-07-19T13:50:48.921Z"
   },
   {
    "duration": 22,
    "start_time": "2024-07-19T13:52:44.109Z"
   },
   {
    "duration": 13,
    "start_time": "2024-07-19T13:53:40.308Z"
   },
   {
    "duration": 12,
    "start_time": "2024-07-19T13:53:44.276Z"
   },
   {
    "duration": 13,
    "start_time": "2024-07-19T13:59:51.785Z"
   },
   {
    "duration": 14,
    "start_time": "2024-07-19T14:19:30.056Z"
   },
   {
    "duration": 14,
    "start_time": "2024-07-19T14:19:43.015Z"
   },
   {
    "duration": 13,
    "start_time": "2024-07-19T14:42:09.015Z"
   },
   {
    "duration": 13,
    "start_time": "2024-07-19T14:42:42.095Z"
   },
   {
    "duration": 12,
    "start_time": "2024-07-19T14:42:57.935Z"
   },
   {
    "duration": 15,
    "start_time": "2024-07-19T14:48:38.044Z"
   },
   {
    "duration": 50,
    "start_time": "2024-07-19T15:26:03.131Z"
   },
   {
    "duration": 14,
    "start_time": "2024-07-19T15:39:01.834Z"
   },
   {
    "duration": 10,
    "start_time": "2024-07-19T15:43:23.371Z"
   },
   {
    "duration": 14,
    "start_time": "2024-07-19T15:43:32.582Z"
   },
   {
    "duration": 13,
    "start_time": "2024-07-19T15:43:45.568Z"
   },
   {
    "duration": 13,
    "start_time": "2024-07-19T15:43:50.935Z"
   },
   {
    "duration": 13,
    "start_time": "2024-07-19T15:44:11.337Z"
   },
   {
    "duration": 13,
    "start_time": "2024-07-19T15:44:15.944Z"
   },
   {
    "duration": 14,
    "start_time": "2024-07-19T15:44:55.648Z"
   },
   {
    "duration": 15,
    "start_time": "2024-07-19T15:45:00.328Z"
   },
   {
    "duration": 48,
    "start_time": "2024-07-19T15:45:04.448Z"
   },
   {
    "duration": 13,
    "start_time": "2024-07-19T15:45:06.666Z"
   },
   {
    "duration": 445,
    "start_time": "2024-07-19T15:45:23.843Z"
   },
   {
    "duration": 23,
    "start_time": "2024-07-19T15:45:24.290Z"
   },
   {
    "duration": 16,
    "start_time": "2024-07-19T15:45:24.314Z"
   },
   {
    "duration": 10,
    "start_time": "2024-07-19T15:45:24.332Z"
   },
   {
    "duration": 51,
    "start_time": "2024-07-19T15:45:24.343Z"
   },
   {
    "duration": 3,
    "start_time": "2024-07-19T15:45:24.396Z"
   },
   {
    "duration": 8,
    "start_time": "2024-07-19T15:45:24.400Z"
   },
   {
    "duration": 3,
    "start_time": "2024-07-19T15:45:24.409Z"
   },
   {
    "duration": 7,
    "start_time": "2024-07-19T15:45:24.413Z"
   },
   {
    "duration": 3,
    "start_time": "2024-07-19T15:45:24.422Z"
   },
   {
    "duration": 59,
    "start_time": "2024-07-19T15:45:24.427Z"
   },
   {
    "duration": 10,
    "start_time": "2024-07-19T15:45:24.487Z"
   },
   {
    "duration": 3,
    "start_time": "2024-07-19T15:45:24.499Z"
   },
   {
    "duration": 18,
    "start_time": "2024-07-19T15:45:24.503Z"
   },
   {
    "duration": 33,
    "start_time": "2024-07-19T15:45:24.523Z"
   },
   {
    "duration": 16,
    "start_time": "2024-07-19T15:45:24.558Z"
   },
   {
    "duration": 9,
    "start_time": "2024-07-19T15:45:24.576Z"
   },
   {
    "duration": 24,
    "start_time": "2024-07-19T15:45:24.586Z"
   },
   {
    "duration": 7,
    "start_time": "2024-07-19T15:45:24.612Z"
   },
   {
    "duration": 4,
    "start_time": "2024-07-19T15:45:24.620Z"
   },
   {
    "duration": 10,
    "start_time": "2024-07-19T15:45:24.625Z"
   },
   {
    "duration": 13,
    "start_time": "2024-07-19T15:45:24.637Z"
   },
   {
    "duration": 39,
    "start_time": "2024-07-19T15:45:24.652Z"
   },
   {
    "duration": 14,
    "start_time": "2024-07-19T15:45:24.692Z"
   },
   {
    "duration": 13,
    "start_time": "2024-07-19T15:45:24.707Z"
   },
   {
    "duration": 2,
    "start_time": "2024-07-19T15:45:24.722Z"
   },
   {
    "duration": 15,
    "start_time": "2024-07-19T15:45:31.584Z"
   },
   {
    "duration": 14,
    "start_time": "2024-07-19T15:45:34.160Z"
   },
   {
    "duration": 49,
    "start_time": "2024-07-19T15:45:39.296Z"
   },
   {
    "duration": 15,
    "start_time": "2024-07-19T15:45:48.138Z"
   },
   {
    "duration": 15,
    "start_time": "2024-07-19T15:45:59.401Z"
   },
   {
    "duration": 15,
    "start_time": "2024-07-19T15:46:15.040Z"
   },
   {
    "duration": 15,
    "start_time": "2024-07-19T15:46:29.033Z"
   },
   {
    "duration": 15,
    "start_time": "2024-07-19T15:46:37.433Z"
   },
   {
    "duration": 15,
    "start_time": "2024-07-19T15:46:42.722Z"
   },
   {
    "duration": 15,
    "start_time": "2024-07-19T15:46:53.185Z"
   },
   {
    "duration": 13,
    "start_time": "2024-07-19T15:47:04.305Z"
   },
   {
    "duration": 13,
    "start_time": "2024-07-19T15:47:15.690Z"
   },
   {
    "duration": 14,
    "start_time": "2024-07-19T15:47:33.113Z"
   },
   {
    "duration": 465,
    "start_time": "2024-07-19T15:47:41.197Z"
   },
   {
    "duration": 21,
    "start_time": "2024-07-19T15:47:41.664Z"
   },
   {
    "duration": 15,
    "start_time": "2024-07-19T15:47:41.686Z"
   },
   {
    "duration": 10,
    "start_time": "2024-07-19T15:47:41.703Z"
   },
   {
    "duration": 33,
    "start_time": "2024-07-19T15:47:41.714Z"
   },
   {
    "duration": 3,
    "start_time": "2024-07-19T15:47:41.748Z"
   },
   {
    "duration": 32,
    "start_time": "2024-07-19T15:47:41.753Z"
   },
   {
    "duration": 5,
    "start_time": "2024-07-19T15:47:41.786Z"
   },
   {
    "duration": 12,
    "start_time": "2024-07-19T15:47:41.792Z"
   },
   {
    "duration": 5,
    "start_time": "2024-07-19T15:47:41.806Z"
   },
   {
    "duration": 34,
    "start_time": "2024-07-19T15:47:41.813Z"
   },
   {
    "duration": 10,
    "start_time": "2024-07-19T15:47:41.848Z"
   },
   {
    "duration": 4,
    "start_time": "2024-07-19T15:47:41.884Z"
   },
   {
    "duration": 13,
    "start_time": "2024-07-19T15:47:41.889Z"
   },
   {
    "duration": 21,
    "start_time": "2024-07-19T15:47:41.904Z"
   },
   {
    "duration": 15,
    "start_time": "2024-07-19T15:47:41.926Z"
   },
   {
    "duration": 3,
    "start_time": "2024-07-19T15:47:41.942Z"
   },
   {
    "duration": 32,
    "start_time": "2024-07-19T15:47:41.946Z"
   },
   {
    "duration": 34,
    "start_time": "2024-07-19T15:47:41.980Z"
   },
   {
    "duration": 3,
    "start_time": "2024-07-19T15:47:42.016Z"
   },
   {
    "duration": 9,
    "start_time": "2024-07-19T15:47:42.020Z"
   },
   {
    "duration": 12,
    "start_time": "2024-07-19T15:47:42.031Z"
   },
   {
    "duration": 12,
    "start_time": "2024-07-19T15:47:42.045Z"
   },
   {
    "duration": 12,
    "start_time": "2024-07-19T15:47:42.058Z"
   },
   {
    "duration": 16,
    "start_time": "2024-07-19T15:47:42.071Z"
   },
   {
    "duration": 2,
    "start_time": "2024-07-19T15:47:42.089Z"
   },
   {
    "duration": 13,
    "start_time": "2024-07-19T15:48:05.764Z"
   },
   {
    "duration": 14,
    "start_time": "2024-07-19T15:48:18.219Z"
   },
   {
    "duration": 484,
    "start_time": "2024-07-19T15:48:28.952Z"
   },
   {
    "duration": 21,
    "start_time": "2024-07-19T15:48:29.438Z"
   },
   {
    "duration": 24,
    "start_time": "2024-07-19T15:48:29.461Z"
   },
   {
    "duration": 10,
    "start_time": "2024-07-19T15:48:29.487Z"
   },
   {
    "duration": 34,
    "start_time": "2024-07-19T15:48:29.499Z"
   },
   {
    "duration": 3,
    "start_time": "2024-07-19T15:48:29.534Z"
   },
   {
    "duration": 8,
    "start_time": "2024-07-19T15:48:29.539Z"
   },
   {
    "duration": 4,
    "start_time": "2024-07-19T15:48:29.548Z"
   },
   {
    "duration": 35,
    "start_time": "2024-07-19T15:48:29.554Z"
   },
   {
    "duration": 4,
    "start_time": "2024-07-19T15:48:29.591Z"
   },
   {
    "duration": 45,
    "start_time": "2024-07-19T15:48:29.596Z"
   },
   {
    "duration": 9,
    "start_time": "2024-07-19T15:48:29.643Z"
   },
   {
    "duration": 3,
    "start_time": "2024-07-19T15:48:29.654Z"
   },
   {
    "duration": 31,
    "start_time": "2024-07-19T15:48:29.660Z"
   },
   {
    "duration": 21,
    "start_time": "2024-07-19T15:48:29.693Z"
   },
   {
    "duration": 18,
    "start_time": "2024-07-19T15:48:29.715Z"
   },
   {
    "duration": 4,
    "start_time": "2024-07-19T15:48:29.734Z"
   },
   {
    "duration": 25,
    "start_time": "2024-07-19T15:48:29.739Z"
   },
   {
    "duration": 8,
    "start_time": "2024-07-19T15:48:29.765Z"
   },
   {
    "duration": 3,
    "start_time": "2024-07-19T15:48:29.785Z"
   },
   {
    "duration": 9,
    "start_time": "2024-07-19T15:48:29.789Z"
   },
   {
    "duration": 24,
    "start_time": "2024-07-19T15:48:29.800Z"
   },
   {
    "duration": 13,
    "start_time": "2024-07-19T15:48:29.826Z"
   },
   {
    "duration": 12,
    "start_time": "2024-07-19T15:48:29.841Z"
   },
   {
    "duration": 38,
    "start_time": "2024-07-19T15:48:29.855Z"
   },
   {
    "duration": 2,
    "start_time": "2024-07-19T15:48:29.895Z"
   },
   {
    "duration": 13,
    "start_time": "2024-07-19T15:48:46.750Z"
   },
   {
    "duration": 13,
    "start_time": "2024-07-19T15:48:49.789Z"
   },
   {
    "duration": 15,
    "start_time": "2024-07-19T15:49:00.905Z"
   },
   {
    "duration": 494,
    "start_time": "2024-07-19T15:49:07.780Z"
   },
   {
    "duration": 21,
    "start_time": "2024-07-19T15:49:08.275Z"
   },
   {
    "duration": 15,
    "start_time": "2024-07-19T15:49:08.298Z"
   },
   {
    "duration": 18,
    "start_time": "2024-07-19T15:49:08.315Z"
   },
   {
    "duration": 52,
    "start_time": "2024-07-19T15:49:08.336Z"
   },
   {
    "duration": 4,
    "start_time": "2024-07-19T15:49:08.389Z"
   },
   {
    "duration": 9,
    "start_time": "2024-07-19T15:49:08.395Z"
   },
   {
    "duration": 5,
    "start_time": "2024-07-19T15:49:08.405Z"
   },
   {
    "duration": 18,
    "start_time": "2024-07-19T15:49:08.412Z"
   },
   {
    "duration": 9,
    "start_time": "2024-07-19T15:49:08.431Z"
   },
   {
    "duration": 56,
    "start_time": "2024-07-19T15:49:08.442Z"
   },
   {
    "duration": 15,
    "start_time": "2024-07-19T15:49:08.500Z"
   },
   {
    "duration": 7,
    "start_time": "2024-07-19T15:49:08.516Z"
   },
   {
    "duration": 23,
    "start_time": "2024-07-19T15:49:08.525Z"
   },
   {
    "duration": 21,
    "start_time": "2024-07-19T15:49:08.549Z"
   },
   {
    "duration": 27,
    "start_time": "2024-07-19T15:49:08.572Z"
   },
   {
    "duration": 4,
    "start_time": "2024-07-19T15:49:08.600Z"
   },
   {
    "duration": 21,
    "start_time": "2024-07-19T15:49:08.606Z"
   },
   {
    "duration": 6,
    "start_time": "2024-07-19T15:49:08.629Z"
   },
   {
    "duration": 5,
    "start_time": "2024-07-19T15:49:08.637Z"
   },
   {
    "duration": 31,
    "start_time": "2024-07-19T15:49:08.644Z"
   },
   {
    "duration": 14,
    "start_time": "2024-07-19T15:49:08.677Z"
   },
   {
    "duration": 37,
    "start_time": "2024-07-19T15:49:08.693Z"
   },
   {
    "duration": 16,
    "start_time": "2024-07-19T15:49:08.732Z"
   },
   {
    "duration": 14,
    "start_time": "2024-07-19T15:49:08.749Z"
   },
   {
    "duration": 3,
    "start_time": "2024-07-19T15:49:08.764Z"
   },
   {
    "duration": 17,
    "start_time": "2024-07-19T15:49:56.205Z"
   },
   {
    "duration": 13,
    "start_time": "2024-07-19T16:01:22.921Z"
   },
   {
    "duration": 450,
    "start_time": "2024-07-19T16:01:30.439Z"
   },
   {
    "duration": 22,
    "start_time": "2024-07-19T16:01:30.891Z"
   },
   {
    "duration": 49,
    "start_time": "2024-07-19T16:01:30.914Z"
   },
   {
    "duration": 39,
    "start_time": "2024-07-19T16:01:30.965Z"
   },
   {
    "duration": 124,
    "start_time": "2024-07-19T16:01:31.006Z"
   },
   {
    "duration": 3,
    "start_time": "2024-07-19T16:01:31.132Z"
   },
   {
    "duration": 37,
    "start_time": "2024-07-19T16:01:31.137Z"
   },
   {
    "duration": 40,
    "start_time": "2024-07-19T16:01:31.176Z"
   },
   {
    "duration": 29,
    "start_time": "2024-07-19T16:01:31.217Z"
   },
   {
    "duration": 34,
    "start_time": "2024-07-19T16:01:31.250Z"
   },
   {
    "duration": 51,
    "start_time": "2024-07-19T16:01:31.285Z"
   },
   {
    "duration": 10,
    "start_time": "2024-07-19T16:01:31.338Z"
   },
   {
    "duration": 16,
    "start_time": "2024-07-19T16:01:31.349Z"
   },
   {
    "duration": 31,
    "start_time": "2024-07-19T16:01:31.366Z"
   },
   {
    "duration": 43,
    "start_time": "2024-07-19T16:01:31.398Z"
   },
   {
    "duration": 16,
    "start_time": "2024-07-19T16:01:31.443Z"
   },
   {
    "duration": 17,
    "start_time": "2024-07-19T16:01:31.460Z"
   },
   {
    "duration": 60,
    "start_time": "2024-07-19T16:01:31.478Z"
   },
   {
    "duration": 81,
    "start_time": "2024-07-19T16:01:31.539Z"
   },
   {
    "duration": 4,
    "start_time": "2024-07-19T16:01:31.621Z"
   },
   {
    "duration": 13,
    "start_time": "2024-07-19T16:01:31.626Z"
   },
   {
    "duration": 26,
    "start_time": "2024-07-19T16:01:31.641Z"
   },
   {
    "duration": 29,
    "start_time": "2024-07-19T16:01:31.669Z"
   },
   {
    "duration": 13,
    "start_time": "2024-07-19T16:01:31.699Z"
   },
   {
    "duration": 13,
    "start_time": "2024-07-19T16:01:31.713Z"
   },
   {
    "duration": 3,
    "start_time": "2024-07-19T16:01:31.727Z"
   },
   {
    "duration": 14,
    "start_time": "2024-07-19T16:04:49.926Z"
   },
   {
    "duration": 14,
    "start_time": "2024-07-19T16:05:05.847Z"
   },
   {
    "duration": 13,
    "start_time": "2024-07-19T16:12:50.886Z"
   },
   {
    "duration": 85,
    "start_time": "2024-07-19T16:13:04.128Z"
   },
   {
    "duration": 15,
    "start_time": "2024-07-19T16:13:04.215Z"
   },
   {
    "duration": 15,
    "start_time": "2024-07-19T16:13:04.232Z"
   },
   {
    "duration": 10,
    "start_time": "2024-07-19T16:13:04.249Z"
   },
   {
    "duration": 50,
    "start_time": "2024-07-19T16:13:04.261Z"
   },
   {
    "duration": 3,
    "start_time": "2024-07-19T16:13:04.312Z"
   },
   {
    "duration": 12,
    "start_time": "2024-07-19T16:13:04.317Z"
   },
   {
    "duration": 4,
    "start_time": "2024-07-19T16:13:04.331Z"
   },
   {
    "duration": 5,
    "start_time": "2024-07-19T16:13:04.336Z"
   },
   {
    "duration": 4,
    "start_time": "2024-07-19T16:13:04.344Z"
   },
   {
    "duration": 63,
    "start_time": "2024-07-19T16:13:04.349Z"
   },
   {
    "duration": 10,
    "start_time": "2024-07-19T16:13:04.414Z"
   },
   {
    "duration": 5,
    "start_time": "2024-07-19T16:13:04.425Z"
   },
   {
    "duration": 10,
    "start_time": "2024-07-19T16:13:04.432Z"
   },
   {
    "duration": 18,
    "start_time": "2024-07-19T16:13:04.444Z"
   },
   {
    "duration": 37,
    "start_time": "2024-07-19T16:13:04.463Z"
   },
   {
    "duration": 4,
    "start_time": "2024-07-19T16:13:04.501Z"
   },
   {
    "duration": 29,
    "start_time": "2024-07-19T16:13:04.506Z"
   },
   {
    "duration": 15,
    "start_time": "2024-07-19T16:13:04.536Z"
   },
   {
    "duration": 3,
    "start_time": "2024-07-19T16:13:04.553Z"
   },
   {
    "duration": 13,
    "start_time": "2024-07-19T16:13:04.557Z"
   },
   {
    "duration": 15,
    "start_time": "2024-07-19T16:13:04.571Z"
   },
   {
    "duration": 14,
    "start_time": "2024-07-19T16:13:07.430Z"
   },
   {
    "duration": 13,
    "start_time": "2024-07-19T16:13:10.773Z"
   },
   {
    "duration": 79,
    "start_time": "2024-07-19T16:13:18.441Z"
   },
   {
    "duration": 15,
    "start_time": "2024-07-19T16:13:18.521Z"
   },
   {
    "duration": 28,
    "start_time": "2024-07-19T16:13:18.537Z"
   },
   {
    "duration": 11,
    "start_time": "2024-07-19T16:13:18.567Z"
   },
   {
    "duration": 41,
    "start_time": "2024-07-19T16:13:18.579Z"
   },
   {
    "duration": 4,
    "start_time": "2024-07-19T16:13:18.621Z"
   },
   {
    "duration": 11,
    "start_time": "2024-07-19T16:13:18.627Z"
   },
   {
    "duration": 9,
    "start_time": "2024-07-19T16:13:18.640Z"
   },
   {
    "duration": 5,
    "start_time": "2024-07-19T16:13:18.650Z"
   },
   {
    "duration": 3,
    "start_time": "2024-07-19T16:13:18.658Z"
   },
   {
    "duration": 36,
    "start_time": "2024-07-19T16:13:18.685Z"
   },
   {
    "duration": 10,
    "start_time": "2024-07-19T16:13:18.722Z"
   },
   {
    "duration": 4,
    "start_time": "2024-07-19T16:13:18.734Z"
   },
   {
    "duration": 11,
    "start_time": "2024-07-19T16:13:18.740Z"
   },
   {
    "duration": 47,
    "start_time": "2024-07-19T16:13:18.752Z"
   },
   {
    "duration": 18,
    "start_time": "2024-07-19T16:13:18.801Z"
   },
   {
    "duration": 3,
    "start_time": "2024-07-19T16:13:18.821Z"
   },
   {
    "duration": 43,
    "start_time": "2024-07-19T16:13:18.825Z"
   },
   {
    "duration": 19,
    "start_time": "2024-07-19T16:13:18.870Z"
   },
   {
    "duration": 14,
    "start_time": "2024-07-19T16:13:18.891Z"
   },
   {
    "duration": 13,
    "start_time": "2024-07-19T16:13:18.906Z"
   },
   {
    "duration": 15,
    "start_time": "2024-07-19T16:13:18.921Z"
   },
   {
    "duration": 14,
    "start_time": "2024-07-19T16:14:13.934Z"
   },
   {
    "duration": 19,
    "start_time": "2024-07-19T16:23:30.281Z"
   },
   {
    "duration": 15,
    "start_time": "2024-07-19T16:30:37.040Z"
   },
   {
    "duration": 491,
    "start_time": "2024-07-20T12:21:15.884Z"
   },
   {
    "duration": 23,
    "start_time": "2024-07-20T12:21:16.377Z"
   },
   {
    "duration": 16,
    "start_time": "2024-07-20T12:21:16.402Z"
   },
   {
    "duration": 19,
    "start_time": "2024-07-20T12:21:16.420Z"
   },
   {
    "duration": 38,
    "start_time": "2024-07-20T12:21:16.455Z"
   },
   {
    "duration": 5,
    "start_time": "2024-07-20T12:21:16.495Z"
   },
   {
    "duration": 13,
    "start_time": "2024-07-20T12:21:16.502Z"
   },
   {
    "duration": 4,
    "start_time": "2024-07-20T12:21:16.517Z"
   },
   {
    "duration": 43,
    "start_time": "2024-07-20T12:21:16.523Z"
   },
   {
    "duration": 12,
    "start_time": "2024-07-20T12:21:16.568Z"
   },
   {
    "duration": 38,
    "start_time": "2024-07-20T12:21:16.582Z"
   },
   {
    "duration": 11,
    "start_time": "2024-07-20T12:21:16.621Z"
   },
   {
    "duration": 6,
    "start_time": "2024-07-20T12:21:16.633Z"
   },
   {
    "duration": 25,
    "start_time": "2024-07-20T12:21:16.641Z"
   },
   {
    "duration": 46,
    "start_time": "2024-07-20T12:21:16.667Z"
   },
   {
    "duration": 20,
    "start_time": "2024-07-20T12:21:16.716Z"
   },
   {
    "duration": 31,
    "start_time": "2024-07-20T12:21:16.737Z"
   },
   {
    "duration": 30,
    "start_time": "2024-07-20T12:21:16.770Z"
   },
   {
    "duration": 24,
    "start_time": "2024-07-20T12:21:16.801Z"
   },
   {
    "duration": 11,
    "start_time": "2024-07-20T12:21:16.826Z"
   },
   {
    "duration": 24,
    "start_time": "2024-07-20T12:21:16.839Z"
   },
   {
    "duration": 21,
    "start_time": "2024-07-20T12:21:16.866Z"
   },
   {
    "duration": 14,
    "start_time": "2024-07-20T12:21:16.888Z"
   },
   {
    "duration": 17,
    "start_time": "2024-07-20T12:21:16.904Z"
   },
   {
    "duration": 49,
    "start_time": "2024-07-20T12:21:16.923Z"
   },
   {
    "duration": 20,
    "start_time": "2024-07-20T12:21:16.974Z"
   },
   {
    "duration": 15,
    "start_time": "2024-07-20T12:21:16.995Z"
   },
   {
    "duration": 317,
    "start_time": "2024-07-20T12:34:34.402Z"
   },
   {
    "duration": 49,
    "start_time": "2024-07-20T12:59:41.257Z"
   },
   {
    "duration": 522,
    "start_time": "2024-07-20T12:59:53.635Z"
   },
   {
    "duration": 23,
    "start_time": "2024-07-20T12:59:54.159Z"
   },
   {
    "duration": 42,
    "start_time": "2024-07-20T12:59:54.184Z"
   },
   {
    "duration": 11,
    "start_time": "2024-07-20T12:59:54.228Z"
   },
   {
    "duration": 43,
    "start_time": "2024-07-20T12:59:54.241Z"
   },
   {
    "duration": 20,
    "start_time": "2024-07-20T12:59:54.285Z"
   },
   {
    "duration": 8,
    "start_time": "2024-07-20T12:59:54.307Z"
   },
   {
    "duration": 16,
    "start_time": "2024-07-20T12:59:54.317Z"
   },
   {
    "duration": 8,
    "start_time": "2024-07-20T12:59:54.335Z"
   },
   {
    "duration": 11,
    "start_time": "2024-07-20T12:59:54.345Z"
   },
   {
    "duration": 47,
    "start_time": "2024-07-20T12:59:54.358Z"
   },
   {
    "duration": 17,
    "start_time": "2024-07-20T12:59:54.407Z"
   },
   {
    "duration": 4,
    "start_time": "2024-07-20T12:59:54.426Z"
   },
   {
    "duration": 19,
    "start_time": "2024-07-20T12:59:54.433Z"
   },
   {
    "duration": 23,
    "start_time": "2024-07-20T12:59:54.453Z"
   },
   {
    "duration": 43,
    "start_time": "2024-07-20T12:59:54.477Z"
   },
   {
    "duration": 8,
    "start_time": "2024-07-20T12:59:54.521Z"
   },
   {
    "duration": 17,
    "start_time": "2024-07-20T12:59:54.530Z"
   },
   {
    "duration": 5,
    "start_time": "2024-07-20T12:59:54.548Z"
   },
   {
    "duration": 7,
    "start_time": "2024-07-20T12:59:54.554Z"
   },
   {
    "duration": 13,
    "start_time": "2024-07-20T12:59:54.562Z"
   },
   {
    "duration": 30,
    "start_time": "2024-07-20T12:59:54.576Z"
   },
   {
    "duration": 490,
    "start_time": "2024-07-20T13:00:18.757Z"
   },
   {
    "duration": 65,
    "start_time": "2024-07-20T13:22:07.508Z"
   },
   {
    "duration": 63,
    "start_time": "2024-07-20T13:22:14.824Z"
   },
   {
    "duration": 81,
    "start_time": "2024-07-20T13:23:10.833Z"
   },
   {
    "duration": 74,
    "start_time": "2024-07-20T13:24:55.495Z"
   },
   {
    "duration": 39,
    "start_time": "2024-07-20T13:26:25.885Z"
   },
   {
    "duration": 30,
    "start_time": "2024-07-20T13:30:09.118Z"
   },
   {
    "duration": 32,
    "start_time": "2024-07-20T13:31:36.800Z"
   },
   {
    "duration": 33,
    "start_time": "2024-07-20T13:32:49.420Z"
   },
   {
    "duration": 28,
    "start_time": "2024-07-20T13:32:52.436Z"
   },
   {
    "duration": 3,
    "start_time": "2024-07-20T13:34:14.885Z"
   },
   {
    "duration": 40,
    "start_time": "2024-07-20T13:35:35.930Z"
   },
   {
    "duration": 53,
    "start_time": "2024-07-20T13:37:00.638Z"
   },
   {
    "duration": 34,
    "start_time": "2024-07-20T13:38:48.395Z"
   },
   {
    "duration": 32,
    "start_time": "2024-07-20T13:39:03.914Z"
   },
   {
    "duration": 32,
    "start_time": "2024-07-20T13:55:29.198Z"
   },
   {
    "duration": 64,
    "start_time": "2024-07-20T14:02:40.755Z"
   },
   {
    "duration": 39,
    "start_time": "2024-07-20T14:02:56.729Z"
   },
   {
    "duration": 8,
    "start_time": "2024-07-20T14:03:14.899Z"
   },
   {
    "duration": 1114,
    "start_time": "2024-07-20T14:03:34.420Z"
   },
   {
    "duration": 20,
    "start_time": "2024-07-20T14:04:47.221Z"
   },
   {
    "duration": 10,
    "start_time": "2024-07-20T14:05:26.352Z"
   },
   {
    "duration": 11,
    "start_time": "2024-07-20T14:07:10.912Z"
   },
   {
    "duration": 11,
    "start_time": "2024-07-20T14:07:17.648Z"
   },
   {
    "duration": 11,
    "start_time": "2024-07-20T14:07:32.050Z"
   },
   {
    "duration": 18,
    "start_time": "2024-07-20T14:07:37.632Z"
   },
   {
    "duration": 7,
    "start_time": "2024-07-20T14:09:21.951Z"
   },
   {
    "duration": 37,
    "start_time": "2024-07-20T14:09:57.977Z"
   },
   {
    "duration": 10,
    "start_time": "2024-07-20T14:10:55.155Z"
   },
   {
    "duration": 9,
    "start_time": "2024-07-20T14:11:00.172Z"
   },
   {
    "duration": 8,
    "start_time": "2024-07-20T14:11:06.638Z"
   },
   {
    "duration": 9,
    "start_time": "2024-07-20T14:11:12.148Z"
   },
   {
    "duration": 21,
    "start_time": "2024-07-20T14:11:21.190Z"
   },
   {
    "duration": 36,
    "start_time": "2024-07-20T14:12:22.082Z"
   },
   {
    "duration": 55,
    "start_time": "2024-07-20T14:16:31.057Z"
   },
   {
    "duration": 34,
    "start_time": "2024-07-20T14:16:59.333Z"
   },
   {
    "duration": 35,
    "start_time": "2024-07-20T14:17:04.138Z"
   },
   {
    "duration": 35,
    "start_time": "2024-07-20T14:18:58.969Z"
   },
   {
    "duration": 36,
    "start_time": "2024-07-20T14:19:15.861Z"
   },
   {
    "duration": 43,
    "start_time": "2024-07-20T14:20:01.966Z"
   },
   {
    "duration": 34,
    "start_time": "2024-07-20T14:20:16.598Z"
   },
   {
    "duration": 41,
    "start_time": "2024-07-20T14:20:20.326Z"
   },
   {
    "duration": 36,
    "start_time": "2024-07-20T14:21:18.039Z"
   },
   {
    "duration": 34,
    "start_time": "2024-07-20T14:21:39.344Z"
   },
   {
    "duration": 34,
    "start_time": "2024-07-20T14:21:54.537Z"
   },
   {
    "duration": 37,
    "start_time": "2024-07-20T14:22:13.632Z"
   },
   {
    "duration": 38,
    "start_time": "2024-07-20T14:22:23.712Z"
   },
   {
    "duration": 36,
    "start_time": "2024-07-20T14:22:31.384Z"
   },
   {
    "duration": 36,
    "start_time": "2024-07-20T14:30:01.388Z"
   },
   {
    "duration": 35,
    "start_time": "2024-07-20T14:35:25.366Z"
   },
   {
    "duration": 35,
    "start_time": "2024-07-20T14:45:35.617Z"
   },
   {
    "duration": 35,
    "start_time": "2024-07-20T14:46:35.827Z"
   },
   {
    "duration": 35,
    "start_time": "2024-07-20T14:46:48.564Z"
   },
   {
    "duration": 35,
    "start_time": "2024-07-20T14:46:52.649Z"
   },
   {
    "duration": 37,
    "start_time": "2024-07-20T14:48:21.955Z"
   },
   {
    "duration": 40,
    "start_time": "2024-07-20T14:52:08.535Z"
   },
   {
    "duration": 11,
    "start_time": "2024-07-20T14:57:05.636Z"
   },
   {
    "duration": 45,
    "start_time": "2024-07-20T14:58:13.293Z"
   },
   {
    "duration": 41,
    "start_time": "2024-07-20T15:06:01.968Z"
   },
   {
    "duration": 45,
    "start_time": "2024-07-20T15:23:02.221Z"
   },
   {
    "duration": 36,
    "start_time": "2024-07-20T15:24:54.649Z"
   },
   {
    "duration": 35,
    "start_time": "2024-07-20T15:25:32.201Z"
   },
   {
    "duration": 37,
    "start_time": "2024-07-20T15:33:25.036Z"
   },
   {
    "duration": 42,
    "start_time": "2024-07-20T15:33:36.564Z"
   },
   {
    "duration": 35,
    "start_time": "2024-07-20T16:08:21.675Z"
   },
   {
    "duration": 33,
    "start_time": "2024-07-20T16:10:23.201Z"
   },
   {
    "duration": 34,
    "start_time": "2024-07-20T16:10:28.321Z"
   },
   {
    "duration": 35,
    "start_time": "2024-07-20T16:11:50.027Z"
   },
   {
    "duration": 32,
    "start_time": "2024-07-20T16:11:58.771Z"
   },
   {
    "duration": 33,
    "start_time": "2024-07-20T16:12:02.755Z"
   },
   {
    "duration": 32,
    "start_time": "2024-07-20T16:14:49.973Z"
   },
   {
    "duration": 38,
    "start_time": "2024-07-20T16:44:33.510Z"
   },
   {
    "duration": 35,
    "start_time": "2024-07-20T16:44:59.769Z"
   },
   {
    "duration": 67,
    "start_time": "2024-07-20T19:30:26.785Z"
   },
   {
    "duration": 83,
    "start_time": "2024-07-20T19:31:23.402Z"
   },
   {
    "duration": 68,
    "start_time": "2024-07-20T20:31:39.938Z"
   },
   {
    "duration": 499,
    "start_time": "2024-07-20T22:36:56.291Z"
   },
   {
    "duration": 22,
    "start_time": "2024-07-20T22:36:56.792Z"
   },
   {
    "duration": 15,
    "start_time": "2024-07-20T22:36:56.815Z"
   },
   {
    "duration": 9,
    "start_time": "2024-07-20T22:36:56.832Z"
   },
   {
    "duration": 41,
    "start_time": "2024-07-20T22:36:56.843Z"
   },
   {
    "duration": 4,
    "start_time": "2024-07-20T22:36:56.885Z"
   },
   {
    "duration": 9,
    "start_time": "2024-07-20T22:36:56.890Z"
   },
   {
    "duration": 4,
    "start_time": "2024-07-20T22:36:56.900Z"
   },
   {
    "duration": 22,
    "start_time": "2024-07-20T22:36:56.906Z"
   },
   {
    "duration": 5,
    "start_time": "2024-07-20T22:36:56.931Z"
   },
   {
    "duration": 33,
    "start_time": "2024-07-20T22:36:56.937Z"
   },
   {
    "duration": 10,
    "start_time": "2024-07-20T22:36:56.972Z"
   },
   {
    "duration": 62,
    "start_time": "2024-07-20T22:36:56.983Z"
   },
   {
    "duration": 12,
    "start_time": "2024-07-20T22:36:57.046Z"
   },
   {
    "duration": 23,
    "start_time": "2024-07-20T22:36:57.059Z"
   },
   {
    "duration": 18,
    "start_time": "2024-07-20T22:36:57.084Z"
   },
   {
    "duration": 3,
    "start_time": "2024-07-20T22:36:57.103Z"
   },
   {
    "duration": 11,
    "start_time": "2024-07-20T22:36:57.108Z"
   },
   {
    "duration": 6,
    "start_time": "2024-07-20T22:36:57.120Z"
   },
   {
    "duration": 4,
    "start_time": "2024-07-20T22:36:57.128Z"
   },
   {
    "duration": 10,
    "start_time": "2024-07-20T22:36:57.133Z"
   },
   {
    "duration": 14,
    "start_time": "2024-07-20T22:36:57.144Z"
   },
   {
    "duration": 313,
    "start_time": "2024-07-20T22:36:57.159Z"
   },
   {
    "duration": 27,
    "start_time": "2024-07-20T22:36:57.474Z"
   },
   {
    "duration": 46,
    "start_time": "2024-07-20T22:36:57.503Z"
   },
   {
    "duration": 13,
    "start_time": "2024-07-20T22:36:57.551Z"
   },
   {
    "duration": 47,
    "start_time": "2024-07-20T22:36:57.565Z"
   },
   {
    "duration": 35,
    "start_time": "2024-07-20T22:36:57.614Z"
   },
   {
    "duration": 13,
    "start_time": "2024-07-20T22:36:57.651Z"
   },
   {
    "duration": 116,
    "start_time": "2024-07-20T22:53:18.995Z"
   },
   {
    "duration": 502,
    "start_time": "2024-07-20T22:54:00.708Z"
   },
   {
    "duration": 22,
    "start_time": "2024-07-20T22:54:01.212Z"
   },
   {
    "duration": 17,
    "start_time": "2024-07-20T22:54:01.236Z"
   },
   {
    "duration": 16,
    "start_time": "2024-07-20T22:54:01.254Z"
   },
   {
    "duration": 46,
    "start_time": "2024-07-20T22:54:01.272Z"
   },
   {
    "duration": 5,
    "start_time": "2024-07-20T22:54:01.320Z"
   },
   {
    "duration": 15,
    "start_time": "2024-07-20T22:54:01.326Z"
   },
   {
    "duration": 4,
    "start_time": "2024-07-20T22:54:01.342Z"
   },
   {
    "duration": 19,
    "start_time": "2024-07-20T22:54:01.347Z"
   },
   {
    "duration": 6,
    "start_time": "2024-07-20T22:54:01.367Z"
   },
   {
    "duration": 47,
    "start_time": "2024-07-20T22:54:01.374Z"
   },
   {
    "duration": 11,
    "start_time": "2024-07-20T22:54:01.422Z"
   },
   {
    "duration": 55,
    "start_time": "2024-07-20T22:54:01.434Z"
   },
   {
    "duration": 41,
    "start_time": "2024-07-20T22:54:01.492Z"
   },
   {
    "duration": 33,
    "start_time": "2024-07-20T22:54:01.534Z"
   },
   {
    "duration": 17,
    "start_time": "2024-07-20T22:54:01.569Z"
   },
   {
    "duration": 3,
    "start_time": "2024-07-20T22:54:01.588Z"
   },
   {
    "duration": 78,
    "start_time": "2024-07-20T22:54:01.593Z"
   },
   {
    "duration": 6,
    "start_time": "2024-07-20T22:54:01.673Z"
   },
   {
    "duration": 4,
    "start_time": "2024-07-20T22:54:01.680Z"
   },
   {
    "duration": 10,
    "start_time": "2024-07-20T22:54:01.685Z"
   },
   {
    "duration": 20,
    "start_time": "2024-07-20T22:54:01.696Z"
   },
   {
    "duration": 280,
    "start_time": "2024-07-20T22:54:01.717Z"
   },
   {
    "duration": 29,
    "start_time": "2024-07-20T22:54:01.998Z"
   },
   {
    "duration": 32,
    "start_time": "2024-07-20T22:54:02.028Z"
   },
   {
    "duration": 14,
    "start_time": "2024-07-20T22:54:02.062Z"
   },
   {
    "duration": 19,
    "start_time": "2024-07-20T22:54:02.077Z"
   },
   {
    "duration": 36,
    "start_time": "2024-07-20T22:54:02.123Z"
   },
   {
    "duration": 116,
    "start_time": "2024-07-20T22:54:02.161Z"
   },
   {
    "duration": 0,
    "start_time": "2024-07-20T22:54:02.279Z"
   },
   {
    "duration": 237,
    "start_time": "2024-07-20T22:55:19.805Z"
   },
   {
    "duration": 493,
    "start_time": "2024-07-20T22:55:42.408Z"
   },
   {
    "duration": 21,
    "start_time": "2024-07-20T22:55:42.903Z"
   },
   {
    "duration": 15,
    "start_time": "2024-07-20T22:55:42.926Z"
   },
   {
    "duration": 10,
    "start_time": "2024-07-20T22:55:42.942Z"
   },
   {
    "duration": 35,
    "start_time": "2024-07-20T22:55:42.954Z"
   },
   {
    "duration": 3,
    "start_time": "2024-07-20T22:55:42.991Z"
   },
   {
    "duration": 34,
    "start_time": "2024-07-20T22:55:42.995Z"
   },
   {
    "duration": 61,
    "start_time": "2024-07-20T22:55:43.030Z"
   },
   {
    "duration": 9,
    "start_time": "2024-07-20T22:55:43.093Z"
   },
   {
    "duration": 28,
    "start_time": "2024-07-20T22:55:43.103Z"
   },
   {
    "duration": 58,
    "start_time": "2024-07-20T22:55:43.133Z"
   },
   {
    "duration": 11,
    "start_time": "2024-07-20T22:55:43.193Z"
   },
   {
    "duration": 4,
    "start_time": "2024-07-20T22:55:43.206Z"
   },
   {
    "duration": 20,
    "start_time": "2024-07-20T22:55:43.213Z"
   },
   {
    "duration": 34,
    "start_time": "2024-07-20T22:55:43.234Z"
   },
   {
    "duration": 18,
    "start_time": "2024-07-20T22:55:43.270Z"
   },
   {
    "duration": 3,
    "start_time": "2024-07-20T22:55:43.290Z"
   },
   {
    "duration": 19,
    "start_time": "2024-07-20T22:55:43.295Z"
   },
   {
    "duration": 27,
    "start_time": "2024-07-20T22:55:43.315Z"
   },
   {
    "duration": 8,
    "start_time": "2024-07-20T22:55:43.344Z"
   },
   {
    "duration": 18,
    "start_time": "2024-07-20T22:55:43.353Z"
   },
   {
    "duration": 22,
    "start_time": "2024-07-20T22:55:43.373Z"
   },
   {
    "duration": 288,
    "start_time": "2024-07-20T22:55:43.397Z"
   },
   {
    "duration": 37,
    "start_time": "2024-07-20T22:55:43.687Z"
   },
   {
    "duration": 33,
    "start_time": "2024-07-20T22:55:43.725Z"
   },
   {
    "duration": 13,
    "start_time": "2024-07-20T22:55:43.759Z"
   },
   {
    "duration": 19,
    "start_time": "2024-07-20T22:55:43.773Z"
   },
   {
    "duration": 60,
    "start_time": "2024-07-20T22:55:43.793Z"
   },
   {
    "duration": 239,
    "start_time": "2024-07-20T22:55:43.854Z"
   },
   {
    "duration": 12,
    "start_time": "2024-07-20T22:55:44.095Z"
   }
  ],
  "colab": {
   "provenance": []
  },
  "kernelspec": {
   "display_name": "Python 3 (ipykernel)",
   "language": "python",
   "name": "python3"
  },
  "language_info": {
   "codemirror_mode": {
    "name": "ipython",
    "version": 3
   },
   "file_extension": ".py",
   "mimetype": "text/x-python",
   "name": "python",
   "nbconvert_exporter": "python",
   "pygments_lexer": "ipython3",
   "version": "3.12.4"
  },
  "toc": {
   "base_numbering": 1,
   "nav_menu": {},
   "number_sections": true,
   "sideBar": true,
   "skip_h1_title": true,
   "title_cell": "Table of Contents",
   "title_sidebar": "Contents",
   "toc_cell": false,
   "toc_position": {
    "height": "calc(100% - 180px)",
    "left": "10px",
    "top": "150px",
    "width": "207.188px"
   },
   "toc_section_display": true,
   "toc_window_display": false
  }
 },
 "nbformat": 4,
 "nbformat_minor": 5
}
