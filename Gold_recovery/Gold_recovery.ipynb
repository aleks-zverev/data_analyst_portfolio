{
 "cells": [
  {
   "cell_type": "markdown",
   "metadata": {
    "toc": true
   },
   "source": [
    "<h1>Содержание<span class=\"tocSkip\"></span></h1>\n",
    "<div class=\"toc\"><ul class=\"toc-item\"><li><span><a href=\"#Подготовка-данных\" data-toc-modified-id=\"Подготовка-данных-1\"><span class=\"toc-item-num\">1&nbsp;&nbsp;</span>Подготовка данных</a></span><ul class=\"toc-item\"><li><span><a href=\"#Открытие-и-изучение-файлов\" data-toc-modified-id=\"Открытие-и-изучение-файлов-1.1\"><span class=\"toc-item-num\">1.1&nbsp;&nbsp;</span>Открытие и изучение файлов</a></span></li><li><span><a href=\"#Проверка-расчёта-эффективности-обогащения\" data-toc-modified-id=\"Проверка-расчёта-эффективности-обогащения-1.2\"><span class=\"toc-item-num\">1.2&nbsp;&nbsp;</span>Проверка расчёта эффективности обогащения</a></span></li><li><span><a href=\"#Признаки,-недоступные-в-тестовой-выборке\" data-toc-modified-id=\"Признаки,-недоступные-в-тестовой-выборке-1.3\"><span class=\"toc-item-num\">1.3&nbsp;&nbsp;</span>Признаки, недоступные в тестовой выборке</a></span></li><li><span><a href=\"#Предобработка-данных\" data-toc-modified-id=\"Предобработка-данных-1.4\"><span class=\"toc-item-num\">1.4&nbsp;&nbsp;</span>Предобработка данных</a></span></li></ul></li><li><span><a href=\"#Анализ-данных\" data-toc-modified-id=\"Анализ-данных-2\"><span class=\"toc-item-num\">2&nbsp;&nbsp;</span>Анализ данных</a></span><ul class=\"toc-item\"><li><span><a href=\"#Изменение-концентрации-металлов-(Au,-Ag,-Pb)-на-различных-этапах-очистки\" data-toc-modified-id=\"Изменение-концентрации-металлов-(Au,-Ag,-Pb)-на-различных-этапах-очистки-2.1\"><span class=\"toc-item-num\">2.1&nbsp;&nbsp;</span>Изменение концентрации металлов (Au, Ag, Pb) на различных этапах очистки</a></span></li><li><span><a href=\"#Сравнение-распределения-размеров-гранул-сырья-на-обучающей-и-тестовой-выборках\" data-toc-modified-id=\"Сравнение-распределения-размеров-гранул-сырья-на-обучающей-и-тестовой-выборках-2.2\"><span class=\"toc-item-num\">2.2&nbsp;&nbsp;</span>Сравнение распределения размеров гранул сырья на обучающей и тестовой выборках</a></span></li><li><span><a href=\"#Исследование-суммарной-концентрации-всех-металлов-на-разных-этапах-очистки.\" data-toc-modified-id=\"Исследование-суммарной-концентрации-всех-металлов-на-разных-этапах-очистки.-2.3\"><span class=\"toc-item-num\">2.3&nbsp;&nbsp;</span>Исследование суммарной концентрации всех металлов на разных этапах очистки.</a></span></li></ul></li><li><span><a href=\"#Модель\" data-toc-modified-id=\"Модель-3\"><span class=\"toc-item-num\">3&nbsp;&nbsp;</span>Модель</a></span><ul class=\"toc-item\"><li><span><a href=\"#Напишем-функцию-для-вычисления-итоговой-sMAPE.\" data-toc-modified-id=\"Напишем-функцию-для-вычисления-итоговой-sMAPE.-3.1\"><span class=\"toc-item-num\">3.1&nbsp;&nbsp;</span>Напишем функцию для вычисления итоговой sMAPE.</a></span></li><li><span><a href=\"#Обучение-разных-моделей-и-выбор-лучшей.\" data-toc-modified-id=\"Обучение-разных-моделей-и-выбор-лучшей.-3.2\"><span class=\"toc-item-num\">3.2&nbsp;&nbsp;</span>Обучение разных моделей и выбор лучшей.</a></span></li></ul></li><li><span><a href=\"#Итоговый-вывод\" data-toc-modified-id=\"Итоговый-вывод-4\"><span class=\"toc-item-num\">4&nbsp;&nbsp;</span>Итоговый вывод</a></span></li></ul></div>"
   ]
  },
  {
   "cell_type": "markdown",
   "metadata": {},
   "source": [
    "# Восстановление золота из руды"
   ]
  },
  {
   "cell_type": "markdown",
   "metadata": {},
   "source": [
    "Подготовьте прототип модели машинного обучения для «Цифры». Компания разрабатывает решения для эффективной работы промышленных предприятий.\n",
    "\n",
    "Модель должна предсказать коэффициент восстановления золота из золотосодержащей руды. Используйте данные с параметрами добычи и очистки. \n",
    "\n",
    "Модель поможет оптимизировать производство, чтобы не запускать предприятие с убыточными характеристиками.\n",
    "\n",
    "Вам нужно:\n",
    "\n",
    "1. Подготовить данные;\n",
    "2. Провести исследовательский анализ данных;\n",
    "3. Построить и обучить модель.\n",
    "\n",
    "Чтобы выполнить проект, обращайтесь к библиотекам *pandas*, *matplotlib* и *sklearn.* Вам поможет их документация."
   ]
  },
  {
   "cell_type": "markdown",
   "metadata": {},
   "source": [
    "## Подготовка данных"
   ]
  },
  {
   "cell_type": "markdown",
   "metadata": {},
   "source": [
    "### Открытие и изучение файлов"
   ]
  },
  {
   "cell_type": "code",
   "execution_count": 5,
   "metadata": {},
   "outputs": [],
   "source": [
    "# Загрузка библиотек\n",
    "!pip install jupyter-black -q\n",
    "import jupyter_black\n",
    "\n",
    "jupyter_black.load()\n",
    "import pandas as pd\n",
    "import matplotlib.pyplot as plt\n",
    "import seaborn as sns\n",
    "import warnings\n",
    "from sklearn.metrics import mean_absolute_error as mae\n",
    "from sklearn.model_selection import train_test_split\n",
    "from sklearn.tree import DecisionTreeRegressor\n",
    "from sklearn.ensemble import RandomForestRegressor\n",
    "from sklearn.linear_model import LinearRegression\n",
    "from sklearn.dummy import DummyRegressor\n",
    "import numpy as np\n",
    "from scipy import stats as st"
   ]
  },
  {
   "cell_type": "code",
   "execution_count": 10,
   "metadata": {
    "scrolled": true
   },
   "outputs": [
    {
     "data": {
      "text/html": [
       "<div>\n",
       "<style scoped>\n",
       "    .dataframe tbody tr th:only-of-type {\n",
       "        vertical-align: middle;\n",
       "    }\n",
       "\n",
       "    .dataframe tbody tr th {\n",
       "        vertical-align: top;\n",
       "    }\n",
       "\n",
       "    .dataframe thead th {\n",
       "        text-align: right;\n",
       "    }\n",
       "</style>\n",
       "<table border=\"1\" class=\"dataframe\">\n",
       "  <thead>\n",
       "    <tr style=\"text-align: right;\">\n",
       "      <th></th>\n",
       "      <th>date</th>\n",
       "      <th>final.output.concentrate_ag</th>\n",
       "      <th>final.output.concentrate_pb</th>\n",
       "      <th>final.output.concentrate_sol</th>\n",
       "      <th>final.output.concentrate_au</th>\n",
       "      <th>final.output.recovery</th>\n",
       "      <th>final.output.tail_ag</th>\n",
       "      <th>final.output.tail_pb</th>\n",
       "      <th>final.output.tail_sol</th>\n",
       "      <th>final.output.tail_au</th>\n",
       "      <th>...</th>\n",
       "      <th>secondary_cleaner.state.floatbank4_a_air</th>\n",
       "      <th>secondary_cleaner.state.floatbank4_a_level</th>\n",
       "      <th>secondary_cleaner.state.floatbank4_b_air</th>\n",
       "      <th>secondary_cleaner.state.floatbank4_b_level</th>\n",
       "      <th>secondary_cleaner.state.floatbank5_a_air</th>\n",
       "      <th>secondary_cleaner.state.floatbank5_a_level</th>\n",
       "      <th>secondary_cleaner.state.floatbank5_b_air</th>\n",
       "      <th>secondary_cleaner.state.floatbank5_b_level</th>\n",
       "      <th>secondary_cleaner.state.floatbank6_a_air</th>\n",
       "      <th>secondary_cleaner.state.floatbank6_a_level</th>\n",
       "    </tr>\n",
       "  </thead>\n",
       "  <tbody>\n",
       "    <tr>\n",
       "      <th>0</th>\n",
       "      <td>2016-01-15 00:00:00</td>\n",
       "      <td>6.055403</td>\n",
       "      <td>9.889648</td>\n",
       "      <td>5.507324</td>\n",
       "      <td>42.192020</td>\n",
       "      <td>70.541216</td>\n",
       "      <td>10.411962</td>\n",
       "      <td>0.895447</td>\n",
       "      <td>16.904297</td>\n",
       "      <td>2.143149</td>\n",
       "      <td>...</td>\n",
       "      <td>14.016835</td>\n",
       "      <td>-502.488007</td>\n",
       "      <td>12.099931</td>\n",
       "      <td>-504.715942</td>\n",
       "      <td>9.925633</td>\n",
       "      <td>-498.310211</td>\n",
       "      <td>8.079666</td>\n",
       "      <td>-500.470978</td>\n",
       "      <td>14.151341</td>\n",
       "      <td>-605.841980</td>\n",
       "    </tr>\n",
       "    <tr>\n",
       "      <th>1</th>\n",
       "      <td>2016-01-15 01:00:00</td>\n",
       "      <td>6.029369</td>\n",
       "      <td>9.968944</td>\n",
       "      <td>5.257781</td>\n",
       "      <td>42.701629</td>\n",
       "      <td>69.266198</td>\n",
       "      <td>10.462676</td>\n",
       "      <td>0.927452</td>\n",
       "      <td>16.634514</td>\n",
       "      <td>2.224930</td>\n",
       "      <td>...</td>\n",
       "      <td>13.992281</td>\n",
       "      <td>-505.503262</td>\n",
       "      <td>11.950531</td>\n",
       "      <td>-501.331529</td>\n",
       "      <td>10.039245</td>\n",
       "      <td>-500.169983</td>\n",
       "      <td>7.984757</td>\n",
       "      <td>-500.582168</td>\n",
       "      <td>13.998353</td>\n",
       "      <td>-599.787184</td>\n",
       "    </tr>\n",
       "    <tr>\n",
       "      <th>2</th>\n",
       "      <td>2016-01-15 02:00:00</td>\n",
       "      <td>6.055926</td>\n",
       "      <td>10.213995</td>\n",
       "      <td>5.383759</td>\n",
       "      <td>42.657501</td>\n",
       "      <td>68.116445</td>\n",
       "      <td>10.507046</td>\n",
       "      <td>0.953716</td>\n",
       "      <td>16.208849</td>\n",
       "      <td>2.257889</td>\n",
       "      <td>...</td>\n",
       "      <td>14.015015</td>\n",
       "      <td>-502.520901</td>\n",
       "      <td>11.912783</td>\n",
       "      <td>-501.133383</td>\n",
       "      <td>10.070913</td>\n",
       "      <td>-500.129135</td>\n",
       "      <td>8.013877</td>\n",
       "      <td>-500.517572</td>\n",
       "      <td>14.028663</td>\n",
       "      <td>-601.427363</td>\n",
       "    </tr>\n",
       "    <tr>\n",
       "      <th>3</th>\n",
       "      <td>2016-01-15 03:00:00</td>\n",
       "      <td>6.047977</td>\n",
       "      <td>9.977019</td>\n",
       "      <td>4.858634</td>\n",
       "      <td>42.689819</td>\n",
       "      <td>68.347543</td>\n",
       "      <td>10.422762</td>\n",
       "      <td>0.883763</td>\n",
       "      <td>16.532835</td>\n",
       "      <td>2.146849</td>\n",
       "      <td>...</td>\n",
       "      <td>14.036510</td>\n",
       "      <td>-500.857308</td>\n",
       "      <td>11.999550</td>\n",
       "      <td>-501.193686</td>\n",
       "      <td>9.970366</td>\n",
       "      <td>-499.201640</td>\n",
       "      <td>7.977324</td>\n",
       "      <td>-500.255908</td>\n",
       "      <td>14.005551</td>\n",
       "      <td>-599.996129</td>\n",
       "    </tr>\n",
       "    <tr>\n",
       "      <th>4</th>\n",
       "      <td>2016-01-15 04:00:00</td>\n",
       "      <td>6.148599</td>\n",
       "      <td>10.142511</td>\n",
       "      <td>4.939416</td>\n",
       "      <td>42.774141</td>\n",
       "      <td>66.927016</td>\n",
       "      <td>10.360302</td>\n",
       "      <td>0.792826</td>\n",
       "      <td>16.525686</td>\n",
       "      <td>2.055292</td>\n",
       "      <td>...</td>\n",
       "      <td>14.027298</td>\n",
       "      <td>-499.838632</td>\n",
       "      <td>11.953070</td>\n",
       "      <td>-501.053894</td>\n",
       "      <td>9.925709</td>\n",
       "      <td>-501.686727</td>\n",
       "      <td>7.894242</td>\n",
       "      <td>-500.356035</td>\n",
       "      <td>13.996647</td>\n",
       "      <td>-601.496691</td>\n",
       "    </tr>\n",
       "  </tbody>\n",
       "</table>\n",
       "<p>5 rows × 87 columns</p>\n",
       "</div>"
      ],
      "text/plain": [
       "                  date  final.output.concentrate_ag  \\\n",
       "0  2016-01-15 00:00:00                     6.055403   \n",
       "1  2016-01-15 01:00:00                     6.029369   \n",
       "2  2016-01-15 02:00:00                     6.055926   \n",
       "3  2016-01-15 03:00:00                     6.047977   \n",
       "4  2016-01-15 04:00:00                     6.148599   \n",
       "\n",
       "   final.output.concentrate_pb  final.output.concentrate_sol  \\\n",
       "0                     9.889648                      5.507324   \n",
       "1                     9.968944                      5.257781   \n",
       "2                    10.213995                      5.383759   \n",
       "3                     9.977019                      4.858634   \n",
       "4                    10.142511                      4.939416   \n",
       "\n",
       "   final.output.concentrate_au  final.output.recovery  final.output.tail_ag  \\\n",
       "0                    42.192020              70.541216             10.411962   \n",
       "1                    42.701629              69.266198             10.462676   \n",
       "2                    42.657501              68.116445             10.507046   \n",
       "3                    42.689819              68.347543             10.422762   \n",
       "4                    42.774141              66.927016             10.360302   \n",
       "\n",
       "   final.output.tail_pb  final.output.tail_sol  final.output.tail_au  ...  \\\n",
       "0              0.895447              16.904297              2.143149  ...   \n",
       "1              0.927452              16.634514              2.224930  ...   \n",
       "2              0.953716              16.208849              2.257889  ...   \n",
       "3              0.883763              16.532835              2.146849  ...   \n",
       "4              0.792826              16.525686              2.055292  ...   \n",
       "\n",
       "   secondary_cleaner.state.floatbank4_a_air  \\\n",
       "0                                 14.016835   \n",
       "1                                 13.992281   \n",
       "2                                 14.015015   \n",
       "3                                 14.036510   \n",
       "4                                 14.027298   \n",
       "\n",
       "   secondary_cleaner.state.floatbank4_a_level  \\\n",
       "0                                 -502.488007   \n",
       "1                                 -505.503262   \n",
       "2                                 -502.520901   \n",
       "3                                 -500.857308   \n",
       "4                                 -499.838632   \n",
       "\n",
       "   secondary_cleaner.state.floatbank4_b_air  \\\n",
       "0                                 12.099931   \n",
       "1                                 11.950531   \n",
       "2                                 11.912783   \n",
       "3                                 11.999550   \n",
       "4                                 11.953070   \n",
       "\n",
       "   secondary_cleaner.state.floatbank4_b_level  \\\n",
       "0                                 -504.715942   \n",
       "1                                 -501.331529   \n",
       "2                                 -501.133383   \n",
       "3                                 -501.193686   \n",
       "4                                 -501.053894   \n",
       "\n",
       "   secondary_cleaner.state.floatbank5_a_air  \\\n",
       "0                                  9.925633   \n",
       "1                                 10.039245   \n",
       "2                                 10.070913   \n",
       "3                                  9.970366   \n",
       "4                                  9.925709   \n",
       "\n",
       "   secondary_cleaner.state.floatbank5_a_level  \\\n",
       "0                                 -498.310211   \n",
       "1                                 -500.169983   \n",
       "2                                 -500.129135   \n",
       "3                                 -499.201640   \n",
       "4                                 -501.686727   \n",
       "\n",
       "   secondary_cleaner.state.floatbank5_b_air  \\\n",
       "0                                  8.079666   \n",
       "1                                  7.984757   \n",
       "2                                  8.013877   \n",
       "3                                  7.977324   \n",
       "4                                  7.894242   \n",
       "\n",
       "   secondary_cleaner.state.floatbank5_b_level  \\\n",
       "0                                 -500.470978   \n",
       "1                                 -500.582168   \n",
       "2                                 -500.517572   \n",
       "3                                 -500.255908   \n",
       "4                                 -500.356035   \n",
       "\n",
       "   secondary_cleaner.state.floatbank6_a_air  \\\n",
       "0                                 14.151341   \n",
       "1                                 13.998353   \n",
       "2                                 14.028663   \n",
       "3                                 14.005551   \n",
       "4                                 13.996647   \n",
       "\n",
       "   secondary_cleaner.state.floatbank6_a_level  \n",
       "0                                 -605.841980  \n",
       "1                                 -599.787184  \n",
       "2                                 -601.427363  \n",
       "3                                 -599.996129  \n",
       "4                                 -601.496691  \n",
       "\n",
       "[5 rows x 87 columns]"
      ]
     },
     "metadata": {},
     "output_type": "display_data"
    }
   ],
   "source": [
    "# Загружаем файлы\n",
    "try:\n",
    "    df_train = pd.read_csv(\n",
    "        \"https://code.s3.yandex.net/datasets/gold_recovery_train_new.csv\"\n",
    "    )\n",
    "    df_test = pd.read_csv(\n",
    "        \"https://code.s3.yandex.net/datasets/gold_recovery_test_new.csv\"\n",
    "    )\n",
    "    df_full = pd.read_csv(\n",
    "        \"https://code.s3.yandex.net/datasets/gold_recovery_full_new.csv\"\n",
    "    )\n",
    "except:\n",
    "    df_train = pd.read_csv(\"gold_recovery_train_new.csv\")\n",
    "    df_test = pd.read_csv(\"gold_recovery_test_new.csv\")\n",
    "    df_full = pd.read_csv(\"gold_recovery_full_new.csv\")\n",
    "\n",
    "display(df_full.head())"
   ]
  },
  {
   "cell_type": "code",
   "execution_count": 13,
   "metadata": {},
   "outputs": [
    {
     "name": "stdout",
     "output_type": "stream",
     "text": [
      "<class 'pandas.core.frame.DataFrame'>\n",
      "RangeIndex: 19439 entries, 0 to 19438\n",
      "Data columns (total 87 columns):\n",
      " #   Column                                              Non-Null Count  Dtype  \n",
      "---  ------                                              --------------  -----  \n",
      " 0   date                                                19439 non-null  object \n",
      " 1   final.output.concentrate_ag                         19438 non-null  float64\n",
      " 2   final.output.concentrate_pb                         19438 non-null  float64\n",
      " 3   final.output.concentrate_sol                        19228 non-null  float64\n",
      " 4   final.output.concentrate_au                         19439 non-null  float64\n",
      " 5   final.output.recovery                               19439 non-null  float64\n",
      " 6   final.output.tail_ag                                19438 non-null  float64\n",
      " 7   final.output.tail_pb                                19338 non-null  float64\n",
      " 8   final.output.tail_sol                               19433 non-null  float64\n",
      " 9   final.output.tail_au                                19439 non-null  float64\n",
      " 10  primary_cleaner.input.sulfate                       19415 non-null  float64\n",
      " 11  primary_cleaner.input.depressant                    19402 non-null  float64\n",
      " 12  primary_cleaner.input.feed_size                     19439 non-null  float64\n",
      " 13  primary_cleaner.input.xanthate                      19335 non-null  float64\n",
      " 14  primary_cleaner.output.concentrate_ag               19439 non-null  float64\n",
      " 15  primary_cleaner.output.concentrate_pb               19323 non-null  float64\n",
      " 16  primary_cleaner.output.concentrate_sol              19069 non-null  float64\n",
      " 17  primary_cleaner.output.concentrate_au               19439 non-null  float64\n",
      " 18  primary_cleaner.output.tail_ag                      19435 non-null  float64\n",
      " 19  primary_cleaner.output.tail_pb                      19418 non-null  float64\n",
      " 20  primary_cleaner.output.tail_sol                     19377 non-null  float64\n",
      " 21  primary_cleaner.output.tail_au                      19439 non-null  float64\n",
      " 22  primary_cleaner.state.floatbank8_a_air              19435 non-null  float64\n",
      " 23  primary_cleaner.state.floatbank8_a_level            19438 non-null  float64\n",
      " 24  primary_cleaner.state.floatbank8_b_air              19435 non-null  float64\n",
      " 25  primary_cleaner.state.floatbank8_b_level            19438 non-null  float64\n",
      " 26  primary_cleaner.state.floatbank8_c_air              19437 non-null  float64\n",
      " 27  primary_cleaner.state.floatbank8_c_level            19438 non-null  float64\n",
      " 28  primary_cleaner.state.floatbank8_d_air              19436 non-null  float64\n",
      " 29  primary_cleaner.state.floatbank8_d_level            19438 non-null  float64\n",
      " 30  rougher.calculation.sulfate_to_au_concentrate       19437 non-null  float64\n",
      " 31  rougher.calculation.floatbank10_sulfate_to_au_feed  19437 non-null  float64\n",
      " 32  rougher.calculation.floatbank11_sulfate_to_au_feed  19437 non-null  float64\n",
      " 33  rougher.calculation.au_pb_ratio                     19439 non-null  float64\n",
      " 34  rougher.input.feed_ag                               19439 non-null  float64\n",
      " 35  rougher.input.feed_pb                               19339 non-null  float64\n",
      " 36  rougher.input.feed_rate                             19428 non-null  float64\n",
      " 37  rougher.input.feed_size                             19294 non-null  float64\n",
      " 38  rougher.input.feed_sol                              19340 non-null  float64\n",
      " 39  rougher.input.feed_au                               19439 non-null  float64\n",
      " 40  rougher.input.floatbank10_sulfate                   19405 non-null  float64\n",
      " 41  rougher.input.floatbank10_xanthate                  19431 non-null  float64\n",
      " 42  rougher.input.floatbank11_sulfate                   19395 non-null  float64\n",
      " 43  rougher.input.floatbank11_xanthate                  18986 non-null  float64\n",
      " 44  rougher.output.concentrate_ag                       19439 non-null  float64\n",
      " 45  rougher.output.concentrate_pb                       19439 non-null  float64\n",
      " 46  rougher.output.concentrate_sol                      19416 non-null  float64\n",
      " 47  rougher.output.concentrate_au                       19439 non-null  float64\n",
      " 48  rougher.output.recovery                             19439 non-null  float64\n",
      " 49  rougher.output.tail_ag                              19438 non-null  float64\n",
      " 50  rougher.output.tail_pb                              19439 non-null  float64\n",
      " 51  rougher.output.tail_sol                             19439 non-null  float64\n",
      " 52  rougher.output.tail_au                              19439 non-null  float64\n",
      " 53  rougher.state.floatbank10_a_air                     19438 non-null  float64\n",
      " 54  rougher.state.floatbank10_a_level                   19438 non-null  float64\n",
      " 55  rougher.state.floatbank10_b_air                     19438 non-null  float64\n",
      " 56  rougher.state.floatbank10_b_level                   19438 non-null  float64\n",
      " 57  rougher.state.floatbank10_c_air                     19438 non-null  float64\n",
      " 58  rougher.state.floatbank10_c_level                   19438 non-null  float64\n",
      " 59  rougher.state.floatbank10_d_air                     19439 non-null  float64\n",
      " 60  rougher.state.floatbank10_d_level                   19439 non-null  float64\n",
      " 61  rougher.state.floatbank10_e_air                     19003 non-null  float64\n",
      " 62  rougher.state.floatbank10_e_level                   19439 non-null  float64\n",
      " 63  rougher.state.floatbank10_f_air                     19439 non-null  float64\n",
      " 64  rougher.state.floatbank10_f_level                   19439 non-null  float64\n",
      " 65  secondary_cleaner.output.tail_ag                    19437 non-null  float64\n",
      " 66  secondary_cleaner.output.tail_pb                    19427 non-null  float64\n",
      " 67  secondary_cleaner.output.tail_sol                   17691 non-null  float64\n",
      " 68  secondary_cleaner.output.tail_au                    19439 non-null  float64\n",
      " 69  secondary_cleaner.state.floatbank2_a_air            19219 non-null  float64\n",
      " 70  secondary_cleaner.state.floatbank2_a_level          19438 non-null  float64\n",
      " 71  secondary_cleaner.state.floatbank2_b_air            19416 non-null  float64\n",
      " 72  secondary_cleaner.state.floatbank2_b_level          19438 non-null  float64\n",
      " 73  secondary_cleaner.state.floatbank3_a_air            19426 non-null  float64\n",
      " 74  secondary_cleaner.state.floatbank3_a_level          19438 non-null  float64\n",
      " 75  secondary_cleaner.state.floatbank3_b_air            19438 non-null  float64\n",
      " 76  secondary_cleaner.state.floatbank3_b_level          19438 non-null  float64\n",
      " 77  secondary_cleaner.state.floatbank4_a_air            19433 non-null  float64\n",
      " 78  secondary_cleaner.state.floatbank4_a_level          19438 non-null  float64\n",
      " 79  secondary_cleaner.state.floatbank4_b_air            19438 non-null  float64\n",
      " 80  secondary_cleaner.state.floatbank4_b_level          19438 non-null  float64\n",
      " 81  secondary_cleaner.state.floatbank5_a_air            19438 non-null  float64\n",
      " 82  secondary_cleaner.state.floatbank5_a_level          19438 non-null  float64\n",
      " 83  secondary_cleaner.state.floatbank5_b_air            19438 non-null  float64\n",
      " 84  secondary_cleaner.state.floatbank5_b_level          19438 non-null  float64\n",
      " 85  secondary_cleaner.state.floatbank6_a_air            19437 non-null  float64\n",
      " 86  secondary_cleaner.state.floatbank6_a_level          19438 non-null  float64\n",
      "dtypes: float64(86), object(1)\n",
      "memory usage: 12.9+ MB\n"
     ]
    }
   ],
   "source": [
    "df_full.info()"
   ]
  },
  {
   "cell_type": "markdown",
   "metadata": {},
   "source": [
    "### Проверка расчёта эффективности обогащения"
   ]
  },
  {
   "cell_type": "markdown",
   "metadata": {},
   "source": [
    "Проверим, что эффективность обогащения рассчитана правильно. \n",
    "Её формула:\n",
    "\n",
    "Recovery = C×(F−T) / F×(C−T) ×100%, \n",
    "\n",
    "где:\n",
    "* C — доля золота в концентрате после флотации/очистки;\n",
    "* F — доля золота в сырье/концентрате до флотации/очистки;\n",
    "* T — доля золота в отвальных хвостах после флотации/очистки.\n",
    "\n",
    "Вычислим эффективность на обучающей выборке для признака `rougher.output.recovery`:"
   ]
  },
  {
   "cell_type": "code",
   "execution_count": 3,
   "metadata": {
    "scrolled": true
   },
   "outputs": [
    {
     "data": {
      "text/plain": [
       "['rougher.calculation.sulfate_to_au_concentrate',\n",
       " 'rougher.calculation.floatbank10_sulfate_to_au_feed',\n",
       " 'rougher.calculation.floatbank11_sulfate_to_au_feed',\n",
       " 'rougher.calculation.au_pb_ratio',\n",
       " 'rougher.input.feed_ag',\n",
       " 'rougher.input.feed_pb',\n",
       " 'rougher.input.feed_rate',\n",
       " 'rougher.input.feed_size',\n",
       " 'rougher.input.feed_sol',\n",
       " 'rougher.input.feed_au',\n",
       " 'rougher.input.floatbank10_sulfate',\n",
       " 'rougher.input.floatbank10_xanthate',\n",
       " 'rougher.input.floatbank11_sulfate',\n",
       " 'rougher.input.floatbank11_xanthate',\n",
       " 'rougher.output.concentrate_ag',\n",
       " 'rougher.output.concentrate_pb',\n",
       " 'rougher.output.concentrate_sol',\n",
       " 'rougher.output.concentrate_au',\n",
       " 'rougher.output.recovery',\n",
       " 'rougher.output.tail_ag',\n",
       " 'rougher.output.tail_pb',\n",
       " 'rougher.output.tail_sol',\n",
       " 'rougher.output.tail_au',\n",
       " 'rougher.state.floatbank10_a_air',\n",
       " 'rougher.state.floatbank10_a_level',\n",
       " 'rougher.state.floatbank10_b_air',\n",
       " 'rougher.state.floatbank10_b_level',\n",
       " 'rougher.state.floatbank10_c_air',\n",
       " 'rougher.state.floatbank10_c_level',\n",
       " 'rougher.state.floatbank10_d_air',\n",
       " 'rougher.state.floatbank10_d_level',\n",
       " 'rougher.state.floatbank10_e_air',\n",
       " 'rougher.state.floatbank10_e_level',\n",
       " 'rougher.state.floatbank10_f_air',\n",
       " 'rougher.state.floatbank10_f_level']"
      ]
     },
     "execution_count": 3,
     "metadata": {},
     "output_type": "execute_result"
    }
   ],
   "source": [
    "# Найдём нужные признаки:\n",
    "df_train.columns[df_full.columns.str.contains(\"rough\")].tolist()"
   ]
  },
  {
   "cell_type": "code",
   "execution_count": 4,
   "metadata": {
    "scrolled": true
   },
   "outputs": [
    {
     "data": {
      "text/plain": [
       "1.08257455583182e-14"
      ]
     },
     "execution_count": 4,
     "metadata": {},
     "output_type": "execute_result"
    }
   ],
   "source": [
    "C = df_train[\"rougher.output.concentrate_au\"]\n",
    "F = df_train[\"rougher.input.feed_au\"]\n",
    "T = df_train[\"rougher.output.tail_au\"]\n",
    "\n",
    "calculated_values = C * ((F - T) / (F * (C - T))) * 100\n",
    "mae(calculated_values, df_train[\"rougher.output.recovery\"])"
   ]
  },
  {
   "cell_type": "markdown",
   "metadata": {},
   "source": [
    "Вывод: При переводе в формат вещественных чисел среднее отклонение между расчётами и значением признака равно 0 процентных пунктов. Оценили MAE между исходным и расчётным значением эффективности обогащения и убедились, что эффективность обогащения рассчитана правильно - отлично!"
   ]
  },
  {
   "cell_type": "markdown",
   "metadata": {},
   "source": [
    "### Признаки, недоступные в тестовой выборке"
   ]
  },
  {
   "cell_type": "code",
   "execution_count": 5,
   "metadata": {},
   "outputs": [
    {
     "data": {
      "text/plain": [
       "{'final.output.concentrate_ag',\n",
       " 'final.output.concentrate_au',\n",
       " 'final.output.concentrate_pb',\n",
       " 'final.output.concentrate_sol',\n",
       " 'final.output.recovery',\n",
       " 'final.output.tail_ag',\n",
       " 'final.output.tail_au',\n",
       " 'final.output.tail_pb',\n",
       " 'final.output.tail_sol',\n",
       " 'primary_cleaner.output.concentrate_ag',\n",
       " 'primary_cleaner.output.concentrate_au',\n",
       " 'primary_cleaner.output.concentrate_pb',\n",
       " 'primary_cleaner.output.concentrate_sol',\n",
       " 'primary_cleaner.output.tail_ag',\n",
       " 'primary_cleaner.output.tail_au',\n",
       " 'primary_cleaner.output.tail_pb',\n",
       " 'primary_cleaner.output.tail_sol',\n",
       " 'rougher.calculation.au_pb_ratio',\n",
       " 'rougher.calculation.floatbank10_sulfate_to_au_feed',\n",
       " 'rougher.calculation.floatbank11_sulfate_to_au_feed',\n",
       " 'rougher.calculation.sulfate_to_au_concentrate',\n",
       " 'rougher.output.concentrate_ag',\n",
       " 'rougher.output.concentrate_au',\n",
       " 'rougher.output.concentrate_pb',\n",
       " 'rougher.output.concentrate_sol',\n",
       " 'rougher.output.recovery',\n",
       " 'rougher.output.tail_ag',\n",
       " 'rougher.output.tail_au',\n",
       " 'rougher.output.tail_pb',\n",
       " 'rougher.output.tail_sol',\n",
       " 'secondary_cleaner.output.tail_ag',\n",
       " 'secondary_cleaner.output.tail_au',\n",
       " 'secondary_cleaner.output.tail_pb',\n",
       " 'secondary_cleaner.output.tail_sol'}"
      ]
     },
     "execution_count": 5,
     "metadata": {},
     "output_type": "execute_result"
    }
   ],
   "source": [
    "columns_not_in_test = set(df_train.columns) - set(df_test.columns)\n",
    "columns_not_in_test"
   ]
  },
  {
   "cell_type": "markdown",
   "metadata": {},
   "source": [
    "Это различные параметры продукта (output), к которым нет доступа во время технологического процесса, а также целевые признаки:\n",
    "* эффективность обогащения чернового концентрата `rougher.output.recovery`;\n",
    "* эффективность обогащения финального концентрата `final.output.recovery`."
   ]
  },
  {
   "cell_type": "markdown",
   "metadata": {},
   "source": [
    "### Предобработка данных"
   ]
  },
  {
   "cell_type": "code",
   "execution_count": 6,
   "metadata": {
    "scrolled": true
   },
   "outputs": [
    {
     "name": "stdout",
     "output_type": "stream",
     "text": [
      "<class 'pandas.core.frame.DataFrame'>\n",
      "Int64Index: 5290 entries, 0 to 5289\n",
      "Data columns (total 55 columns):\n",
      " #   Column                                      Non-Null Count  Dtype  \n",
      "---  ------                                      --------------  -----  \n",
      " 0   date                                        5290 non-null   object \n",
      " 1   primary_cleaner.input.sulfate               5286 non-null   float64\n",
      " 2   primary_cleaner.input.depressant            5285 non-null   float64\n",
      " 3   primary_cleaner.input.feed_size             5290 non-null   float64\n",
      " 4   primary_cleaner.input.xanthate              5286 non-null   float64\n",
      " 5   primary_cleaner.state.floatbank8_a_air      5290 non-null   float64\n",
      " 6   primary_cleaner.state.floatbank8_a_level    5290 non-null   float64\n",
      " 7   primary_cleaner.state.floatbank8_b_air      5290 non-null   float64\n",
      " 8   primary_cleaner.state.floatbank8_b_level    5290 non-null   float64\n",
      " 9   primary_cleaner.state.floatbank8_c_air      5290 non-null   float64\n",
      " 10  primary_cleaner.state.floatbank8_c_level    5290 non-null   float64\n",
      " 11  primary_cleaner.state.floatbank8_d_air      5290 non-null   float64\n",
      " 12  primary_cleaner.state.floatbank8_d_level    5290 non-null   float64\n",
      " 13  rougher.input.feed_ag                       5290 non-null   float64\n",
      " 14  rougher.input.feed_pb                       5290 non-null   float64\n",
      " 15  rougher.input.feed_rate                     5287 non-null   float64\n",
      " 16  rougher.input.feed_size                     5289 non-null   float64\n",
      " 17  rougher.input.feed_sol                      5269 non-null   float64\n",
      " 18  rougher.input.feed_au                       5290 non-null   float64\n",
      " 19  rougher.input.floatbank10_sulfate           5285 non-null   float64\n",
      " 20  rougher.input.floatbank10_xanthate          5290 non-null   float64\n",
      " 21  rougher.input.floatbank11_sulfate           5282 non-null   float64\n",
      " 22  rougher.input.floatbank11_xanthate          5265 non-null   float64\n",
      " 23  rougher.state.floatbank10_a_air             5290 non-null   float64\n",
      " 24  rougher.state.floatbank10_a_level           5290 non-null   float64\n",
      " 25  rougher.state.floatbank10_b_air             5290 non-null   float64\n",
      " 26  rougher.state.floatbank10_b_level           5290 non-null   float64\n",
      " 27  rougher.state.floatbank10_c_air             5290 non-null   float64\n",
      " 28  rougher.state.floatbank10_c_level           5290 non-null   float64\n",
      " 29  rougher.state.floatbank10_d_air             5290 non-null   float64\n",
      " 30  rougher.state.floatbank10_d_level           5290 non-null   float64\n",
      " 31  rougher.state.floatbank10_e_air             5290 non-null   float64\n",
      " 32  rougher.state.floatbank10_e_level           5290 non-null   float64\n",
      " 33  rougher.state.floatbank10_f_air             5290 non-null   float64\n",
      " 34  rougher.state.floatbank10_f_level           5290 non-null   float64\n",
      " 35  secondary_cleaner.state.floatbank2_a_air    5287 non-null   float64\n",
      " 36  secondary_cleaner.state.floatbank2_a_level  5290 non-null   float64\n",
      " 37  secondary_cleaner.state.floatbank2_b_air    5288 non-null   float64\n",
      " 38  secondary_cleaner.state.floatbank2_b_level  5290 non-null   float64\n",
      " 39  secondary_cleaner.state.floatbank3_a_air    5281 non-null   float64\n",
      " 40  secondary_cleaner.state.floatbank3_a_level  5290 non-null   float64\n",
      " 41  secondary_cleaner.state.floatbank3_b_air    5290 non-null   float64\n",
      " 42  secondary_cleaner.state.floatbank3_b_level  5290 non-null   float64\n",
      " 43  secondary_cleaner.state.floatbank4_a_air    5290 non-null   float64\n",
      " 44  secondary_cleaner.state.floatbank4_a_level  5290 non-null   float64\n",
      " 45  secondary_cleaner.state.floatbank4_b_air    5290 non-null   float64\n",
      " 46  secondary_cleaner.state.floatbank4_b_level  5290 non-null   float64\n",
      " 47  secondary_cleaner.state.floatbank5_a_air    5290 non-null   float64\n",
      " 48  secondary_cleaner.state.floatbank5_a_level  5290 non-null   float64\n",
      " 49  secondary_cleaner.state.floatbank5_b_air    5290 non-null   float64\n",
      " 50  secondary_cleaner.state.floatbank5_b_level  5290 non-null   float64\n",
      " 51  secondary_cleaner.state.floatbank6_a_air    5290 non-null   float64\n",
      " 52  secondary_cleaner.state.floatbank6_a_level  5290 non-null   float64\n",
      " 53  rougher.output.recovery                     5290 non-null   float64\n",
      " 54  final.output.recovery                       5290 non-null   float64\n",
      "dtypes: float64(54), object(1)\n",
      "memory usage: 2.3+ MB\n"
     ]
    }
   ],
   "source": [
    "# Добавим в тестовую выборку целевые признаки из full, используя дату как ключ при соединении:\n",
    "df_test = df_test.merge(\n",
    "    df_full[[\"rougher.output.recovery\", \"final.output.recovery\", \"date\"]],\n",
    "    on=\"date\",\n",
    "    how=\"left\",\n",
    ")\n",
    "df_test.info()"
   ]
  },
  {
   "cell_type": "code",
   "execution_count": 7,
   "metadata": {},
   "outputs": [
    {
     "data": {
      "text/plain": [
       "0"
      ]
     },
     "execution_count": 7,
     "metadata": {},
     "output_type": "execute_result"
    }
   ],
   "source": [
    "# Посчитаем явные дубликаты\n",
    "df_full.duplicated().sum()"
   ]
  },
  {
   "cell_type": "code",
   "execution_count": 8,
   "metadata": {
    "scrolled": true
   },
   "outputs": [
    {
     "data": {
      "text/plain": [
       "secondary_cleaner.output.tail_sol           1748\n",
       "rougher.input.floatbank11_xanthate           453\n",
       "rougher.state.floatbank10_e_air              436\n",
       "primary_cleaner.output.concentrate_sol       370\n",
       "secondary_cleaner.state.floatbank2_a_air     220\n",
       "dtype: int64"
      ]
     },
     "execution_count": 8,
     "metadata": {},
     "output_type": "execute_result"
    }
   ],
   "source": [
    "# Столбцы с самым большим числом пропусков:\n",
    "df_full.isna().sum().sort_values(ascending=False).head()"
   ]
  },
  {
   "cell_type": "code",
   "execution_count": 9,
   "metadata": {
    "scrolled": true
   },
   "outputs": [
    {
     "name": "stdout",
     "output_type": "stream",
     "text": [
      "Доля пропусков в исходных данных: 8.99%\n"
     ]
    }
   ],
   "source": [
    "print(\n",
    "    \"Доля пропусков в исходных данных: {0:.2%}\".format(\n",
    "        (df_full[\"secondary_cleaner.output.tail_sol\"].isna().sum()) / df_full.shape[0]\n",
    "    )\n",
    ")"
   ]
  },
  {
   "cell_type": "markdown",
   "metadata": {},
   "source": [
    "Заполненим пропуски, принимая во внимание, что рядом стоящие значения обычно похожи. То есть мы можем заполнить пропуски предыдущими значениями"
   ]
  },
  {
   "cell_type": "code",
   "execution_count": 10,
   "metadata": {},
   "outputs": [],
   "source": [
    "df_full = df_full.ffill()\n",
    "df_train = df_train.ffill()\n",
    "df_test = df_test.ffill()"
   ]
  },
  {
   "cell_type": "markdown",
   "metadata": {},
   "source": [
    "## Анализ данных"
   ]
  },
  {
   "cell_type": "markdown",
   "metadata": {},
   "source": [
    "### Изменение концентрации металлов (Au, Ag, Pb) на различных этапах очистки"
   ]
  },
  {
   "cell_type": "code",
   "execution_count": 11,
   "metadata": {},
   "outputs": [
    {
     "data": {
      "image/png": "[encoded data removed]",
      "text/plain": [
       "<Figure size 1152x648 with 1 Axes>"
      ]
     },
     "metadata": {
      "needs_background": "light"
     },
     "output_type": "display_data"
    }
   ],
   "source": [
    "plt.figure(figsize=[16, 9])\n",
    "plt.hist(\n",
    "    df_full[\"rougher.input.feed_au\"],\n",
    "    bins=200,\n",
    "    label=\"Исходное сырье\",\n",
    "    alpha=0.5,\n",
    "    color=\"r\",\n",
    ")\n",
    "plt.hist(\n",
    "    df_full[\"rougher.output.concentrate_au\"],\n",
    "    bins=200,\n",
    "    label=\"После флотации\",\n",
    "    alpha=0.5,\n",
    ")\n",
    "plt.hist(\n",
    "    df_full[\"primary_cleaner.output.concentrate_au\"],\n",
    "    bins=200,\n",
    "    label=\"После первичной очистки\",\n",
    "    alpha=0.5,\n",
    ")\n",
    "plt.hist(\n",
    "    df_full[\"final.output.concentrate_au\"],\n",
    "    bins=200,\n",
    "    label=\"Финальная концентрация\",\n",
    "    alpha=0.5,\n",
    ")\n",
    "\n",
    "plt.title(\n",
    "    \"Гистограмма концентрации золота на различных этапах очистки\", fontsize=\"x-large\"\n",
    ")\n",
    "plt.xlabel(\"Концентрация золота\", fontsize=\"x-large\")\n",
    "plt.ylabel(\"Частота\", fontsize=\"x-large\")\n",
    "plt.legend(loc=\"upper left\", fontsize=\"x-large\")\n",
    "plt.show()"
   ]
  },
  {
   "cell_type": "code",
   "execution_count": 12,
   "metadata": {},
   "outputs": [
    {
     "data": {
      "image/png": "[encoded data removed]",
      "text/plain": [
       "<Figure size 1152x648 with 1 Axes>"
      ]
     },
     "metadata": {
      "needs_background": "light"
     },
     "output_type": "display_data"
    }
   ],
   "source": [
    "plt.figure(figsize=[16, 9])\n",
    "plt.hist(\n",
    "    df_full[\"rougher.output.concentrate_ag\"],\n",
    "    bins=200,\n",
    "    label=\"После флотации\",\n",
    "    alpha=0.5,\n",
    ")\n",
    "plt.hist(\n",
    "    df_full[\"primary_cleaner.output.concentrate_ag\"],\n",
    "    bins=200,\n",
    "    label=\"После первичной очистки\",\n",
    "    alpha=0.5,\n",
    ")\n",
    "plt.hist(\n",
    "    df_full[\"final.output.concentrate_ag\"],\n",
    "    bins=200,\n",
    "    label=\"Финальная концентрация\",\n",
    "    alpha=0.5,\n",
    ")\n",
    "\n",
    "plt.title(\n",
    "    \"Гистограмма концентрации серебра на различных этапах очистки\", fontsize=\"x-large\"\n",
    ")\n",
    "plt.xlabel(\"Концентрация серебра\", fontsize=\"x-large\")\n",
    "plt.ylabel(\"Частота\", fontsize=\"x-large\")\n",
    "plt.legend(fontsize=\"x-large\")\n",
    "plt.show()"
   ]
  },
  {
   "cell_type": "code",
   "execution_count": 13,
   "metadata": {},
   "outputs": [
    {
     "data": {
      "image/png": "[encoded data removed]",
      "text/plain": [
       "<Figure size 1152x648 with 1 Axes>"
      ]
     },
     "metadata": {
      "needs_background": "light"
     },
     "output_type": "display_data"
    }
   ],
   "source": [
    "plt.figure(figsize=[16, 9])\n",
    "plt.hist(\n",
    "    df_full[\"rougher.output.concentrate_pb\"],\n",
    "    bins=200,\n",
    "    label=\"После флотации\",\n",
    "    alpha=0.5,\n",
    ")\n",
    "plt.hist(\n",
    "    df_full[\"primary_cleaner.output.concentrate_pb\"],\n",
    "    bins=200,\n",
    "    label=\"После первичной очистки\",\n",
    "    alpha=0.5,\n",
    ")\n",
    "plt.hist(\n",
    "    df_full[\"final.output.concentrate_pb\"],\n",
    "    bins=200,\n",
    "    label=\"Финальная концентрация\",\n",
    "    alpha=0.5,\n",
    ")\n",
    "\n",
    "plt.title(\n",
    "    \"Гистограмма концентрации  свинца на различных этапах очистки\", fontsize=\"x-large\"\n",
    ")\n",
    "plt.xlabel(\"Концентрация свинца\", fontsize=\"x-large\")\n",
    "plt.ylabel(\"Частота\", fontsize=\"x-large\")\n",
    "plt.legend(fontsize=\"x-large\")\n",
    "plt.show()"
   ]
  },
  {
   "cell_type": "markdown",
   "metadata": {},
   "source": [
    "Удалим строки с аномалиями с нулевыми значениями в обучающей выборке, потому что данный сбой в измерениях может повлиять на другие значения."
   ]
  },
  {
   "cell_type": "code",
   "execution_count": 14,
   "metadata": {
    "scrolled": true
   },
   "outputs": [],
   "source": [
    "df_train = df_train[\n",
    "    (df_train[\"rougher.output.concentrate_pb\"] != 0)\n",
    "    & (df_train[\"primary_cleaner.output.concentrate_pb\"] != 0)\n",
    "    & (df_train[\"final.output.concentrate_pb\"] != 0)\n",
    "].reset_index(drop=True)\n",
    "\n",
    "df_train = df_train[\n",
    "    (df_train[\"rougher.output.concentrate_ag\"] != 0)\n",
    "    & (df_train[\"primary_cleaner.output.concentrate_ag\"] != 0)\n",
    "    & (df_train[\"final.output.concentrate_ag\"] != 0)\n",
    "].reset_index(drop=True)\n",
    "\n",
    "df_train = df_train[\n",
    "    (df_train[\"rougher.output.concentrate_au\"] != 0)\n",
    "    & (df_train[\"primary_cleaner.output.concentrate_au\"] != 0)\n",
    "    & (df_train[\"final.output.concentrate_au\"] != 0)\n",
    "].reset_index(drop=True)"
   ]
  },
  {
   "cell_type": "markdown",
   "metadata": {},
   "source": [
    "Выводы:\n",
    "* Гистограмма концентрации золота на различных этапах очистки представяет собой нормальное распределение с почти непересекающимися кривыми и небольшим стандартным отклонением;\n",
    "* Заметны аномалии в виде нулевой концентрации;\n",
    "* Концентрация золота после флотации составлет в среднем 20%, после первичной - 33%, после вторичной - 45%;\n",
    "* Концентрация серебра в результате очистки в среднем падает с 13% до 5%\n",
    "* Концентрация свинца в концетрате растёт с 8% до более чем 10% после флотации и остаётся таким в финальном концентрате."
   ]
  },
  {
   "cell_type": "markdown",
   "metadata": {},
   "source": [
    "### Сравнение распределения размеров гранул сырья на обучающей и тестовой выборках"
   ]
  },
  {
   "cell_type": "code",
   "execution_count": 15,
   "metadata": {},
   "outputs": [
    {
     "data": {
      "image/png": "[encoded data removed]",
      "text/plain": [
       "<Figure size 1152x648 with 1 Axes>"
      ]
     },
     "metadata": {
      "needs_background": "light"
     },
     "output_type": "display_data"
    }
   ],
   "source": [
    "plt.figure(figsize=[16, 9])\n",
    "data = [\n",
    "    (df_train[\"rougher.input.feed_size\"], \"Обучающая выборка\", \"c\"),\n",
    "    (df_test[\"rougher.input.feed_size\"], \"Тестовая выборка\", \"m\"),\n",
    "]\n",
    "\n",
    "for inputs, label, color in data:\n",
    "    sns.histplot(\n",
    "        inputs,\n",
    "        label=label,\n",
    "        kde=True,\n",
    "        kde_kws=dict(cut=3),\n",
    "        alpha=0.4,\n",
    "        edgecolor=(1, 1, 1, 0.4),\n",
    "        color=color,\n",
    "        stat=\"density\",\n",
    "        common_norm=False,\n",
    "    )\n",
    "\n",
    "plt.title(\n",
    "    \"Гистограмма размеров гранул сырья на обучающей и тестовой выборках\",\n",
    "    fontsize=\"x-large\",\n",
    ")\n",
    "plt.xlabel(\"Размер гранул\", fontsize=\"x-large\")\n",
    "plt.ylabel(\"Плотность распределения\", fontsize=\"x-large\")\n",
    "plt.legend(fontsize=\"x-large\")\n",
    "plt.xlim([0, 130])\n",
    "plt.show()"
   ]
  },
  {
   "cell_type": "markdown",
   "metadata": {},
   "source": [
    "По форме распределений видно, что в обучающей выборке средняя гранула немного больше.\n",
    "Распределения размеров гранул сырья на обучающей и тестовой выборках не сильно отличаются друг от друга, оценка модели будет правильной."
   ]
  },
  {
   "cell_type": "markdown",
   "metadata": {},
   "source": [
    "В Python есть специальный метод для проверки гипотезы о равенстве среднего двух генеральных совокупностей по взятым из них выборкам: `scipy.stats.ttest_ind(array1, array2, equal_var, alternative)`.\n",
    "\n",
    "Нулева гипотеза - выборки равны\n",
    "\n",
    "Альтернативная - не равны"
   ]
  },
  {
   "cell_type": "code",
   "execution_count": 16,
   "metadata": {
    "scrolled": true
   },
   "outputs": [
    {
     "name": "stdout",
     "output_type": "stream",
     "text": [
      "p-значение: 4.4517241081111396e-40\n",
      "Отвергаем нулевую гипотезу\n"
     ]
    }
   ],
   "source": [
    "alpha = 0.05\n",
    "\n",
    "results = st.ttest_ind(\n",
    "    df_train[\"rougher.input.feed_size\"],\n",
    "    df_test[\"rougher.input.feed_size\"],\n",
    "    equal_var=False,\n",
    ")\n",
    "print(\"p-значение:\", results.pvalue)\n",
    "\n",
    "if results.pvalue < alpha:\n",
    "    print(\"Отвергаем нулевую гипотезу\")\n",
    "else:\n",
    "    print(\"Не получилось отвергнуть нулевую гипотезу\")"
   ]
  },
  {
   "cell_type": "markdown",
   "metadata": {},
   "source": [
    "Вывод: Значение p-value в отрицательной E-степени, p-value меньше выбранного уровня статистической значимости - нулевая гипотеза о равенстве двух выборок отвергается."
   ]
  },
  {
   "cell_type": "code",
   "execution_count": 17,
   "metadata": {},
   "outputs": [
    {
     "name": "stdout",
     "output_type": "stream",
     "text": [
      "Разность средних: 7.24%\n"
     ]
    }
   ],
   "source": [
    "# Посчитаем относительную разность средних:\n",
    "mean_diff = (\n",
    "    df_train[\"rougher.input.feed_size\"].mean()\n",
    "    - df_test[\"rougher.input.feed_size\"].mean()\n",
    ")\n",
    "\n",
    "print(\n",
    "    \"Разность средних: {0:.2%}\".format(\n",
    "        mean_diff / df_train[\"rougher.input.feed_size\"].mean()\n",
    "    )\n",
    ")"
   ]
  },
  {
   "cell_type": "code",
   "execution_count": 21,
   "metadata": {},
   "outputs": [
    {
     "data": {
      "image/png": "[encoded data removed]",
      "text/plain": [
       "<Figure size 1152x648 with 1 Axes>"
      ]
     },
     "metadata": {
      "needs_background": "light"
     },
     "output_type": "display_data"
    }
   ],
   "source": [
    "plt.figure(figsize=[16, 9])\n",
    "data = [\n",
    "    (df_train[\"primary_cleaner.input.feed_size\"], \"Обучающая выборка\", \"c\"),\n",
    "    (df_test[\"primary_cleaner.input.feed_size\"], \"Тестовая выборка\", \"m\"),\n",
    "]\n",
    "\n",
    "for inputs, label, color in data:\n",
    "    sns.histplot(\n",
    "        inputs,\n",
    "        label=label,\n",
    "        kde=True,\n",
    "        kde_kws=dict(cut=3),\n",
    "        alpha=0.4,\n",
    "        edgecolor=(1, 1, 1, 0.4),\n",
    "        color=color,\n",
    "        stat=\"density\",\n",
    "        common_norm=False,\n",
    "    )\n",
    "\n",
    "plt.title(\n",
    "    \"Гистограмма размеров гранул сырья на обучающей и тестовой выборках на этапе первичной очистки\",\n",
    "    fontsize=\"x-large\",\n",
    ")\n",
    "plt.xlabel(\"Размер гранул\", fontsize=\"x-large\")\n",
    "plt.ylabel(\"Плотность распределения\", fontsize=\"x-large\")\n",
    "plt.legend(fontsize=\"x-large\")\n",
    "plt.show()"
   ]
  },
  {
   "cell_type": "markdown",
   "metadata": {},
   "source": [
    "Проверка гипотезы о равенстве среднего двух генеральных совокупностей по взятым из них выборкам:\n",
    "\n",
    "Нулева гипотеза - выборки равны. \n",
    "Альтернативная - не равны"
   ]
  },
  {
   "cell_type": "code",
   "execution_count": 28,
   "metadata": {
    "scrolled": true
   },
   "outputs": [
    {
     "name": "stdout",
     "output_type": "stream",
     "text": [
      "p-значение: 5.866311919433146e-09\n",
      "Отвергаем нулевую гипотезу\n"
     ]
    }
   ],
   "source": [
    "alpha = 0.05\n",
    "\n",
    "results = st.ttest_ind(\n",
    "    df_train[\"primary_cleaner.input.feed_size\"],\n",
    "    df_test[\"primary_cleaner.input.feed_size\"],\n",
    "    equal_var=False,\n",
    ")\n",
    "print(\"p-значение:\", results.pvalue)\n",
    "\n",
    "if results.pvalue < alpha:\n",
    "    print(\"Отвергаем нулевую гипотезу\")\n",
    "else:\n",
    "    print(\"Не получилось отвергнуть нулевую гипотезу\")"
   ]
  },
  {
   "cell_type": "code",
   "execution_count": 23,
   "metadata": {},
   "outputs": [
    {
     "name": "stdout",
     "output_type": "stream",
     "text": [
      "Разность средних: 0.10%\n"
     ]
    }
   ],
   "source": [
    "# Посчитаем относительную разность средних:\n",
    "mean_diff = (\n",
    "    df_train[\"primary_cleaner.input.feed_size\"].mean()\n",
    "    - df_test[\"primary_cleaner.input.feed_size\"].mean()\n",
    ")\n",
    "\n",
    "print(\n",
    "    \"Разность средних: {0:.2%}\".format(\n",
    "        mean_diff / df_train[\"rougher.input.feed_size\"].mean()\n",
    "    )\n",
    ")"
   ]
  },
  {
   "cell_type": "markdown",
   "metadata": {},
   "source": [
    "Применив те же методы к сравнению размеров гранул сырья на обучающей и тестовой выборках на этапе первичной очистки, можно сказать, что значения так же не равны, но становятся крайне близкими. Поэтому оценка модели будет правильной."
   ]
  },
  {
   "cell_type": "markdown",
   "metadata": {},
   "source": [
    "### Исследование суммарной концентрации всех металлов на разных этапах очистки."
   ]
  },
  {
   "cell_type": "code",
   "execution_count": 18,
   "metadata": {},
   "outputs": [],
   "source": [
    "# Складываем выходные значения по этапам:\n",
    "rougher_input = (\n",
    "    df_full[\"rougher.input.feed_ag\"]\n",
    "    + df_full[\"rougher.input.feed_au\"]\n",
    "    + df_full[\"rougher.input.feed_pb\"]\n",
    ")\n",
    "\n",
    "rougher_output = (\n",
    "    df_full[\"rougher.output.concentrate_ag\"]\n",
    "    + df_full[\"rougher.output.concentrate_au\"]\n",
    "    + df_full[\"rougher.output.concentrate_pb\"]\n",
    ")\n",
    "\n",
    "primary_output = (\n",
    "    df_full[\"primary_cleaner.output.concentrate_ag\"]\n",
    "    + df_full[\"primary_cleaner.output.concentrate_au\"]\n",
    "    + df_full[\"primary_cleaner.output.concentrate_pb\"]\n",
    ")\n",
    "\n",
    "final_output = (\n",
    "    df_full[\"final.output.concentrate_ag\"]\n",
    "    + df_full[\"final.output.concentrate_au\"]\n",
    "    + df_full[\"final.output.concentrate_pb\"]\n",
    ")"
   ]
  },
  {
   "cell_type": "code",
   "execution_count": 19,
   "metadata": {},
   "outputs": [
    {
     "data": {
      "image/png": "[encoded data removed]",
      "text/plain": [
       "<Figure size 1152x648 with 1 Axes>"
      ]
     },
     "metadata": {
      "needs_background": "light"
     },
     "output_type": "display_data"
    }
   ],
   "source": [
    "plt.figure(figsize=[16, 9])\n",
    "\n",
    "# Данные и метки для графиков\n",
    "data = [\n",
    "    (rougher_input, \"Сырьё\", \"g\"),\n",
    "    (rougher_output, \"Черновой концентрат\", \"c\"),\n",
    "    (primary_output, \"Первичная очистка\", None),\n",
    "    (final_output, \"Финальная очистка\", \"m\"),\n",
    "]\n",
    "\n",
    "# Построение гистограмм\n",
    "for output, label, color in data:\n",
    "    sns.histplot(\n",
    "        output,\n",
    "        label=label,\n",
    "        kde=True,\n",
    "        kde_kws=dict(cut=3),\n",
    "        alpha=0.4,\n",
    "        edgecolor=(1, 1, 1, 0.4),\n",
    "        color=color,\n",
    "    )\n",
    "\n",
    "plt.title(\n",
    "    \"Гистограмма суммарной концентрации всех веществ на разных стадиях\",\n",
    "    fontsize=\"x-large\",\n",
    ")\n",
    "plt.xlabel(\"Концентрация, %\", fontsize=\"x-large\")\n",
    "plt.ylabel(\"Частота\", fontsize=\"x-large\")\n",
    "plt.legend(fontsize=\"x-large\")\n",
    "plt.xlim([5, 70])\n",
    "plt.show()"
   ]
  },
  {
   "cell_type": "markdown",
   "metadata": {},
   "source": [
    "Вывод: Суммарная концентрация основных металлов в на разных этапах производства постоянно растёт и составляет в среднем:\n",
    "* 20% в руде;\n",
    "* 40%  в черновом концентрате;\n",
    "* 52% после первичной очистки;\n",
    "* 60% после финальной очистки.\n",
    "\n",
    "\n",
    "Также на каждом этапе сужается разброс значений концентрации."
   ]
  },
  {
   "cell_type": "markdown",
   "metadata": {},
   "source": [
    "## Модель"
   ]
  },
  {
   "cell_type": "markdown",
   "metadata": {},
   "source": [
    "### Напишем функцию для вычисления итоговой sMAPE."
   ]
  },
  {
   "cell_type": "markdown",
   "metadata": {},
   "source": [
    "Для решения задачи введём новую метрику качества — sMAPE (англ. Symmetric Mean Absolute Percentage Error, «симметричное среднее абсолютное процентное отклонение»)."
   ]
  },
  {
   "attachments": {
    "image.png": {
     "image/png": "[encoded data removed]"
    }
   },
   "cell_type": "markdown",
   "metadata": {},
   "source": [
    "![image.png](attachment:image.png)"
   ]
  },
  {
   "attachments": {
    "image.png": {
     "image/png": "[encoded data removed]"
    }
   },
   "cell_type": "markdown",
   "metadata": {},
   "source": [
    "![image.png](attachment:image.png)"
   ]
  },
  {
   "cell_type": "code",
   "execution_count": 20,
   "metadata": {},
   "outputs": [],
   "source": [
    "def smape(y_true, y_pred):\n",
    "    error = (y_true - y_pred).abs()  # делимое\n",
    "    scale = (abs(y_true) + abs(y_pred)) / 2  # делитель\n",
    "    result = (error / scale) * 100\n",
    "    return result.mean()\n",
    "\n",
    "\n",
    "# Итоговая sMAPE:\n",
    "def total_smape(y_true_rougher, y_pred_rougher, y_true_final, y_pred_final):\n",
    "    smape_rougher = smape(y_true_rougher, y_pred_rougher)\n",
    "    smape_final = smape(y_true_final, y_pred_final)\n",
    "    total_smape = 0.25 * smape_rougher + 0.75 * smape_final\n",
    "    return total_smape"
   ]
  },
  {
   "cell_type": "markdown",
   "metadata": {},
   "source": [
    "### Обучение разных моделей и выбор лучшей."
   ]
  },
  {
   "cell_type": "markdown",
   "metadata": {},
   "source": [
    "Обучите разные модели и оцените их качество. Выберите лучшую модель и проверьте её на тестовой выборке. Опишите выводы."
   ]
  },
  {
   "cell_type": "code",
   "execution_count": 21,
   "metadata": {
    "scrolled": true
   },
   "outputs": [
    {
     "name": "stdout",
     "output_type": "stream",
     "text": [
      "<class 'pandas.core.frame.DataFrame'>\n",
      "RangeIndex: 13720 entries, 0 to 13719\n",
      "Data columns (total 55 columns):\n",
      " #   Column                                      Non-Null Count  Dtype  \n",
      "---  ------                                      --------------  -----  \n",
      " 0   date                                        13720 non-null  object \n",
      " 1   final.output.recovery                       13720 non-null  float64\n",
      " 2   primary_cleaner.input.sulfate               13720 non-null  float64\n",
      " 3   primary_cleaner.input.depressant            13720 non-null  float64\n",
      " 4   primary_cleaner.input.feed_size             13720 non-null  float64\n",
      " 5   primary_cleaner.input.xanthate              13720 non-null  float64\n",
      " 6   primary_cleaner.state.floatbank8_a_air      13720 non-null  float64\n",
      " 7   primary_cleaner.state.floatbank8_a_level    13720 non-null  float64\n",
      " 8   primary_cleaner.state.floatbank8_b_air      13720 non-null  float64\n",
      " 9   primary_cleaner.state.floatbank8_b_level    13720 non-null  float64\n",
      " 10  primary_cleaner.state.floatbank8_c_air      13720 non-null  float64\n",
      " 11  primary_cleaner.state.floatbank8_c_level    13720 non-null  float64\n",
      " 12  primary_cleaner.state.floatbank8_d_air      13720 non-null  float64\n",
      " 13  primary_cleaner.state.floatbank8_d_level    13720 non-null  float64\n",
      " 14  rougher.input.feed_ag                       13720 non-null  float64\n",
      " 15  rougher.input.feed_pb                       13720 non-null  float64\n",
      " 16  rougher.input.feed_rate                     13720 non-null  float64\n",
      " 17  rougher.input.feed_size                     13720 non-null  float64\n",
      " 18  rougher.input.feed_sol                      13720 non-null  float64\n",
      " 19  rougher.input.feed_au                       13720 non-null  float64\n",
      " 20  rougher.input.floatbank10_sulfate           13720 non-null  float64\n",
      " 21  rougher.input.floatbank10_xanthate          13720 non-null  float64\n",
      " 22  rougher.input.floatbank11_sulfate           13720 non-null  float64\n",
      " 23  rougher.input.floatbank11_xanthate          13720 non-null  float64\n",
      " 24  rougher.output.recovery                     13720 non-null  float64\n",
      " 25  rougher.state.floatbank10_a_air             13720 non-null  float64\n",
      " 26  rougher.state.floatbank10_a_level           13720 non-null  float64\n",
      " 27  rougher.state.floatbank10_b_air             13720 non-null  float64\n",
      " 28  rougher.state.floatbank10_b_level           13720 non-null  float64\n",
      " 29  rougher.state.floatbank10_c_air             13720 non-null  float64\n",
      " 30  rougher.state.floatbank10_c_level           13720 non-null  float64\n",
      " 31  rougher.state.floatbank10_d_air             13720 non-null  float64\n",
      " 32  rougher.state.floatbank10_d_level           13720 non-null  float64\n",
      " 33  rougher.state.floatbank10_e_air             13720 non-null  float64\n",
      " 34  rougher.state.floatbank10_e_level           13720 non-null  float64\n",
      " 35  rougher.state.floatbank10_f_air             13720 non-null  float64\n",
      " 36  rougher.state.floatbank10_f_level           13720 non-null  float64\n",
      " 37  secondary_cleaner.state.floatbank2_a_air    13720 non-null  float64\n",
      " 38  secondary_cleaner.state.floatbank2_a_level  13720 non-null  float64\n",
      " 39  secondary_cleaner.state.floatbank2_b_air    13720 non-null  float64\n",
      " 40  secondary_cleaner.state.floatbank2_b_level  13720 non-null  float64\n",
      " 41  secondary_cleaner.state.floatbank3_a_air    13720 non-null  float64\n",
      " 42  secondary_cleaner.state.floatbank3_a_level  13720 non-null  float64\n",
      " 43  secondary_cleaner.state.floatbank3_b_air    13720 non-null  float64\n",
      " 44  secondary_cleaner.state.floatbank3_b_level  13720 non-null  float64\n",
      " 45  secondary_cleaner.state.floatbank4_a_air    13720 non-null  float64\n",
      " 46  secondary_cleaner.state.floatbank4_a_level  13720 non-null  float64\n",
      " 47  secondary_cleaner.state.floatbank4_b_air    13720 non-null  float64\n",
      " 48  secondary_cleaner.state.floatbank4_b_level  13720 non-null  float64\n",
      " 49  secondary_cleaner.state.floatbank5_a_air    13720 non-null  float64\n",
      " 50  secondary_cleaner.state.floatbank5_a_level  13720 non-null  float64\n",
      " 51  secondary_cleaner.state.floatbank5_b_air    13720 non-null  float64\n",
      " 52  secondary_cleaner.state.floatbank5_b_level  13720 non-null  float64\n",
      " 53  secondary_cleaner.state.floatbank6_a_air    13720 non-null  float64\n",
      " 54  secondary_cleaner.state.floatbank6_a_level  13720 non-null  float64\n",
      "dtypes: float64(54), object(1)\n",
      "memory usage: 5.8+ MB\n"
     ]
    }
   ],
   "source": [
    "# Уберём из обучающей выборки признаки, которых нет в тестовой выборке:\n",
    "columns_not_in_test = set(df_train.columns) - set(df_test.columns)\n",
    "df_train = df_train.drop(columns=columns_not_in_test)\n",
    "df_train.info()"
   ]
  },
  {
   "cell_type": "code",
   "execution_count": 22,
   "metadata": {},
   "outputs": [],
   "source": [
    "# Удалим дату из датафреймов, так как библиотека sklearn не сможет корректно обработать этот столбец\n",
    "df_train = df_train.drop(\"date\", axis=1)\n",
    "df_test = df_test.drop(\"date\", axis=1)"
   ]
  },
  {
   "cell_type": "markdown",
   "metadata": {},
   "source": [
    "Нужно спрогнозировать сразу две величины:\n",
    "1. эффективность обогащения чернового концентрата `rougher.output.recovery`;\n",
    "2. эффективность обогащения финального концентрата `final.output.recovery`."
   ]
  },
  {
   "cell_type": "code",
   "execution_count": 23,
   "metadata": {},
   "outputs": [],
   "source": [
    "# Получим валидационные выборки\n",
    "features = df_train.drop([\"rougher.output.recovery\", \"final.output.recovery\"], axis=1)\n",
    "target_r = df_train[\"rougher.output.recovery\"]\n",
    "target_f = df_train[\"final.output.recovery\"]\n",
    "\n",
    "features_train, features_valid, target_train_r, target_valid_r = train_test_split(\n",
    "    features, target_r, test_size=0.25, random_state=12345\n",
    ")\n",
    "features_train, features_valid, target_train_f, target_valid_f = train_test_split(\n",
    "    features, target_f, test_size=0.25, random_state=12345\n",
    ")"
   ]
  },
  {
   "cell_type": "code",
   "execution_count": 24,
   "metadata": {},
   "outputs": [],
   "source": [
    "# подстрижём тестовую выборку\n",
    "df_test = df_test.head(len(features_valid))"
   ]
  },
  {
   "cell_type": "code",
   "execution_count": 25,
   "metadata": {},
   "outputs": [
    {
     "name": "stdout",
     "output_type": "stream",
     "text": [
      "(10290, 52)\n",
      "(10290,)\n",
      "(10290,)\n",
      "(3430, 52)\n",
      "(3430,)\n",
      "(3430,)\n",
      "(3430,)\n",
      "(3430,)\n",
      "(3430, 52)\n"
     ]
    }
   ],
   "source": [
    "# создаём переменные для тестовой выборки\n",
    "features_test = df_test.drop(\n",
    "    [\"rougher.output.recovery\", \"final.output.recovery\"], axis=1\n",
    ")\n",
    "target_test_r = df_test[\"rougher.output.recovery\"]\n",
    "target_test_f = df_test[\"final.output.recovery\"]\n",
    "\n",
    "# Выведем на экран размеры таблиц\n",
    "print(features_train.shape)\n",
    "print(target_train_r.shape)\n",
    "print(target_train_f.shape)\n",
    "print(features_test.shape)\n",
    "print(target_test_r.shape)\n",
    "print(target_test_f.shape)\n",
    "print(target_valid_r.shape)\n",
    "print(target_valid_f.shape)\n",
    "print(features_valid.shape)"
   ]
  },
  {
   "cell_type": "markdown",
   "metadata": {},
   "source": [
    "**Модель эффективности обогащения чернового концентрата**"
   ]
  },
  {
   "cell_type": "markdown",
   "metadata": {},
   "source": [
    "Модель \"Дерево Решений\""
   ]
  },
  {
   "cell_type": "code",
   "execution_count": 26,
   "metadata": {},
   "outputs": [
    {
     "name": "stdout",
     "output_type": "stream",
     "text": [
      "sMAPE наилучшей модели 'Дерево Решений' на валидационной выборке rougher: 3.510838380015901 Глубина дерева: 13\n"
     ]
    }
   ],
   "source": [
    "best_model = None\n",
    "best_result = 10000\n",
    "best_depth = 0\n",
    "for depth in range(1, 16):\n",
    "    model = DecisionTreeRegressor(random_state=12345, max_depth=depth)\n",
    "    model.fit(features_train, target_train_r)  # обучим модель на тренировочной выборке\n",
    "    predictions_valid_r = model.predict(\n",
    "        features_valid\n",
    "    )  # получим предсказания модели на валидационной выборке\n",
    "    result = smape(\n",
    "        target_valid_r, predictions_valid_r\n",
    "    )  # посчитаем значение метрики sMAPE на валидационной выборке\n",
    "    if result < best_result:\n",
    "        best_model = model\n",
    "        best_result = result\n",
    "        best_depth = depth\n",
    "\n",
    "print(\n",
    "    \"sMAPE наилучшей модели 'Дерево Решений' на валидационной выборке rougher:\",\n",
    "    best_result,\n",
    "    \"Глубина дерева:\",\n",
    "    best_depth,\n",
    ")"
   ]
  },
  {
   "cell_type": "markdown",
   "metadata": {},
   "source": [
    "Модель \"Случайный лес\""
   ]
  },
  {
   "cell_type": "code",
   "execution_count": 27,
   "metadata": {
    "scrolled": true
   },
   "outputs": [
    {
     "name": "stdout",
     "output_type": "stream",
     "text": [
      "sMAPE наилучшей модели 'Случайный лес' на валидационной выборке rougher: 2.814258874097499 Количество деревьев: 290 Глубина: 12\n"
     ]
    }
   ],
   "source": [
    "# обучим с заданным количеством деревьев\n",
    "best_model = None\n",
    "best_result = 10000\n",
    "best_est = 0\n",
    "best_depth = 0\n",
    "for est in range(280, 300, 10):\n",
    "    for depth in range(11, 13):\n",
    "        model = RandomForestRegressor(\n",
    "            random_state=12345, n_estimators=est, max_depth=depth\n",
    "        )\n",
    "        model.fit(\n",
    "            features_train, target_train_r\n",
    "        )  # обучим модель на тренировочной выборке\n",
    "        predictions_valid = model.predict(\n",
    "            features_valid\n",
    "        )  # получим предсказания модели на валидационной выборке\n",
    "        result = smape(\n",
    "            target_valid_r, predictions_valid\n",
    "        )  # посчитаем значение метрики sMAPE на валидационной выборке\n",
    "        if result < best_result:\n",
    "            best_model = model\n",
    "            best_result = result\n",
    "            best_est = est\n",
    "            best_depth = depth\n",
    "\n",
    "print(\n",
    "    \"sMAPE наилучшей модели 'Случайный лес' на валидационной выборке rougher:\",\n",
    "    best_result,\n",
    "    \"Количество деревьев:\",\n",
    "    best_est,\n",
    "    \"Глубина:\",\n",
    "    best_depth,\n",
    ")"
   ]
  },
  {
   "cell_type": "markdown",
   "metadata": {},
   "source": [
    "Линейная регрессия"
   ]
  },
  {
   "cell_type": "code",
   "execution_count": 28,
   "metadata": {},
   "outputs": [
    {
     "name": "stdout",
     "output_type": "stream",
     "text": [
      "sMAPE модели линейной регрессии на валидационной выборке: 4.746150228966541\n"
     ]
    }
   ],
   "source": [
    "model = LinearRegression()\n",
    "model.fit(features_train, target_train_r)\n",
    "predictions_valid = model.predict(features_valid)\n",
    "result = smape(target_valid_r, predictions_valid)\n",
    "print(\"sMAPE модели линейной регрессии на валидационной выборке:\", result)"
   ]
  },
  {
   "cell_type": "markdown",
   "metadata": {},
   "source": [
    "**Модель эффективности обогащения финального концентрата**"
   ]
  },
  {
   "cell_type": "code",
   "execution_count": 29,
   "metadata": {
    "scrolled": true
   },
   "outputs": [
    {
     "name": "stdout",
     "output_type": "stream",
     "text": [
      "sMAPE наилучшей модели 'Дерево Решений' на валидационной выборке final: 7.59087114788879 Глубина дерева: 10\n"
     ]
    }
   ],
   "source": [
    "best_model = None\n",
    "best_result = 10000\n",
    "best_depth = 0\n",
    "for depth in range(1, 21):\n",
    "    model = DecisionTreeRegressor(random_state=12345, max_depth=depth)\n",
    "    model.fit(features_train, target_train_f)\n",
    "    predictions_valid_f = model.predict(features_valid)\n",
    "    result = smape(target_valid_f, predictions_valid_f)\n",
    "    if result < best_result:\n",
    "        best_model = model\n",
    "        best_result = result\n",
    "        best_depth = depth\n",
    "\n",
    "print(\n",
    "    \"sMAPE наилучшей модели 'Дерево Решений' на валидационной выборке final:\",\n",
    "    best_result,\n",
    "    \"Глубина дерева:\",\n",
    "    best_depth,\n",
    ")"
   ]
  },
  {
   "cell_type": "code",
   "execution_count": 30,
   "metadata": {},
   "outputs": [
    {
     "name": "stdout",
     "output_type": "stream",
     "text": [
      "sMAPE наилучшей модели 'Случайный лес' на валидационной выборке rougher: 6.752672916790986 Количество деревьев: 170 Глубина: 9\n"
     ]
    }
   ],
   "source": [
    "# обучим с заданным количеством деревьев\n",
    "best_model = None\n",
    "best_result = 10000\n",
    "best_est = 0\n",
    "best_depth = 0\n",
    "for est in range(160, 180, 10):\n",
    "    for depth in range(8, 10):\n",
    "        model = RandomForestRegressor(\n",
    "            random_state=12345, n_estimators=est, max_depth=depth\n",
    "        )\n",
    "        model.fit(\n",
    "            features_train, target_train_f\n",
    "        )  # обучим модель на тренировочной выборке\n",
    "        predictions_valid = model.predict(\n",
    "            features_valid\n",
    "        )  # получим предсказания модели на валидационной выборке\n",
    "        result = smape(\n",
    "            target_valid_f, predictions_valid\n",
    "        )  # посчитаем значение метрики sMAPE на валидационной выборке\n",
    "        if result < best_result:\n",
    "            best_model = model\n",
    "            best_result = result\n",
    "            best_est = est\n",
    "            best_depth = depth\n",
    "\n",
    "print(\n",
    "    \"sMAPE наилучшей модели 'Случайный лес' на валидационной выборке rougher:\",\n",
    "    best_result,\n",
    "    \"Количество деревьев:\",\n",
    "    best_est,\n",
    "    \"Глубина:\",\n",
    "    best_depth,\n",
    ")"
   ]
  },
  {
   "cell_type": "markdown",
   "metadata": {},
   "source": [
    "Линейная регрессия"
   ]
  },
  {
   "cell_type": "code",
   "execution_count": 31,
   "metadata": {
    "scrolled": true
   },
   "outputs": [
    {
     "name": "stdout",
     "output_type": "stream",
     "text": [
      "sMAPE модели линейной регрессии на валидационной выборке final: 8.231804418632992\n"
     ]
    }
   ],
   "source": [
    "model = LinearRegression()\n",
    "model.fit(features_train, target_train_f)\n",
    "predictions_valid = model.predict(features_valid)\n",
    "result = smape(target_valid_f, predictions_valid)\n",
    "print(\"sMAPE модели линейной регрессии на валидационной выборке final:\", result)"
   ]
  },
  {
   "cell_type": "markdown",
   "metadata": {},
   "source": [
    "Лучший результат показала модель \"Случайный лес\" - выбираем её для расчёта метрики качества."
   ]
  },
  {
   "cell_type": "code",
   "execution_count": 32,
   "metadata": {},
   "outputs": [
    {
     "name": "stdout",
     "output_type": "stream",
     "text": [
      "Итоговая sMAPE модели на валидационной выборке: 5.77 %\n"
     ]
    }
   ],
   "source": [
    "model_r = RandomForestRegressor(random_state=12345, n_estimators=290, max_depth=12)\n",
    "model_f = RandomForestRegressor(random_state=12345, n_estimators=170, max_depth=9)\n",
    "\n",
    "model_r.fit(features_train, target_train_r)\n",
    "model_f.fit(features_train, target_train_f)\n",
    "y_pred_rougher = model_r.predict(features_valid)\n",
    "y_pred_final = model_f.predict(features_valid)\n",
    "\n",
    "res_v = total_smape(target_valid_r, y_pred_rougher, target_valid_f, y_pred_final)\n",
    "print(\"Итоговая sMAPE модели на валидационной выборке: {:.2f} %\".format(res_v))"
   ]
  },
  {
   "cell_type": "markdown",
   "metadata": {},
   "source": [
    "**Проверка модели на тестовой выборке**"
   ]
  },
  {
   "cell_type": "code",
   "execution_count": 33,
   "metadata": {},
   "outputs": [
    {
     "name": "stdout",
     "output_type": "stream",
     "text": [
      "Итоговая sMAPE модели на тестовой выборке: 8.46 %\n"
     ]
    }
   ],
   "source": [
    "y_pred_rougher = model_r.predict(features_test)\n",
    "y_pred_final = model_f.predict(features_test)\n",
    "res_t = total_smape(target_test_r, y_pred_rougher, target_test_f, y_pred_final)\n",
    "print(\"Итоговая sMAPE модели на тестовой выборке: {:.2f} %\".format(res_t))"
   ]
  },
  {
   "cell_type": "markdown",
   "metadata": {},
   "source": [
    "Результаты на тесте больше, чем на валидации, это говорит о том, что хорошо подобраны гиперпараметры."
   ]
  },
  {
   "cell_type": "markdown",
   "metadata": {},
   "source": [
    "**Мера адекватности модели - базовый уровень для сравнения**"
   ]
  },
  {
   "cell_type": "code",
   "execution_count": 34,
   "metadata": {},
   "outputs": [
    {
     "name": "stdout",
     "output_type": "stream",
     "text": [
      "Итоговая sMAPE базовой модели : 8.54 %\n"
     ]
    }
   ],
   "source": [
    "dummy_r = DummyRegressor(strategy=\"median\")\n",
    "dummy_r.fit(features_train, target_train_r)\n",
    "dummy_preds_r = dummy_r.predict(features_test)\n",
    "\n",
    "dummy_f = DummyRegressor(strategy=\"median\")\n",
    "dummy_f.fit(features_train, target_train_f)\n",
    "dummy_preds_f = dummy_f.predict(features_test)\n",
    "\n",
    "res_d = total_smape(target_test_r, dummy_preds_r, target_test_f, dummy_preds_f)\n",
    "print(\"Итоговая sMAPE базовой модели : {:.2f} %\".format(res_d))"
   ]
  },
  {
   "cell_type": "markdown",
   "metadata": {},
   "source": [
    "Чисто технически метрика качества созданной модели превосходит метрику лучшей из базовых моделей."
   ]
  },
  {
   "cell_type": "markdown",
   "metadata": {},
   "source": [
    "## Итоговый вывод"
   ]
  },
  {
   "cell_type": "markdown",
   "metadata": {},
   "source": [
    "Подготовлен **прототип модели машинного обучения** для компании, которая разрабатывает решения для эффективной работы промышленных предприятий. Модель должна **предсказать коэффициент восстановления золота из золотосодержащей руды**.\n",
    "\n",
    "Получены данные с параметрами добычи и очистки. Модель поможет **оптимизировать производство**, чтобы не запускать предприятие с убыточными характеристиками.\n",
    "\n",
    "В рамках данного проекта было необходимо **спрогнозировать две величины**: эффективность обогащения чернового и финального концентратов, из которых складывается итоговая **метрика** оценки качества модели - Итоговая **sMAPE**(англ. Symmetric Mean Absolute Percentage Error, «симметричное среднее абсолютное процентное отклонение»). \n",
    "\n",
    "Валидационная выборка была использована как форма промежуточной оценки качества моделей, для чего дважды сделано деление обучающей выборки. Далее были рассмотрены разные модели машинного обучения для **решения задачи регрессии**. "
   ]
  },
  {
   "cell_type": "markdown",
   "metadata": {},
   "source": [
    "В ходе выполнения проекта были выполнены следующие шаги:\n",
    "\n",
    "**Подготовка данных:**\n",
    "* Проверен расчёт эффективности обогащения;\n",
    "* Проанализированы признаки, недоступные в тестовой выборке;\n",
    "* Проведена предобработка данных;    \n",
    "\n"
   ]
  },
  {
   "cell_type": "markdown",
   "metadata": {},
   "source": [
    "**Анализ данных:**\n",
    "* Показана концентрация металлов (Au, Ag, Pb) на различных этапах очистки;\n",
    "* Сравнены распределения размеров гранул сырья на обучающей и тестовой выборках;\n",
    "* Исследована суммарная концентрация всех веществ на разных стадиях:"
   ]
  },
  {
   "cell_type": "markdown",
   "metadata": {},
   "source": [
    "**Построение модели:**\n",
    "* Написана функция для вычисления итоговой sMAPE;\n",
    "* Обучены разные модели и оценено их качество. Выбрана лучшая модель и проверена на тестовой выборке"
   ]
  }
 ],
 "metadata": {
  "ExecuteTimeLog": [
   {
    "duration": 51,
    "start_time": "2024-11-07T13:21:47.127Z"
   },
   {
    "duration": 6,
    "start_time": "2024-11-07T13:21:57.245Z"
   },
   {
    "duration": 7409,
    "start_time": "2024-11-07T13:22:12.822Z"
   },
   {
    "duration": 137,
    "start_time": "2024-11-07T13:22:20.233Z"
   },
   {
    "duration": 1438,
    "start_time": "2024-11-07T13:23:21.495Z"
   },
   {
    "duration": 833,
    "start_time": "2024-11-07T13:25:23.016Z"
   },
   {
    "duration": 804,
    "start_time": "2024-11-07T13:25:42.137Z"
   },
   {
    "duration": 760,
    "start_time": "2024-11-07T13:25:52.049Z"
   },
   {
    "duration": 773,
    "start_time": "2024-11-07T13:28:18.147Z"
   },
   {
    "duration": 779,
    "start_time": "2024-11-07T13:28:35.339Z"
   },
   {
    "duration": 769,
    "start_time": "2024-11-07T13:28:40.459Z"
   },
   {
    "duration": 51,
    "start_time": "2024-11-07T18:31:30.766Z"
   },
   {
    "duration": 7819,
    "start_time": "2024-11-07T18:31:36.695Z"
   },
   {
    "duration": 3258,
    "start_time": "2024-11-07T18:31:44.516Z"
   },
   {
    "duration": 841,
    "start_time": "2024-11-07T18:40:17.196Z"
   },
   {
    "duration": 6,
    "start_time": "2024-11-07T18:51:03.180Z"
   },
   {
    "duration": 5,
    "start_time": "2024-11-07T19:12:19.341Z"
   },
   {
    "duration": 4,
    "start_time": "2024-11-07T19:12:25.221Z"
   },
   {
    "duration": 5,
    "start_time": "2024-11-07T19:27:10.673Z"
   },
   {
    "duration": 4,
    "start_time": "2024-11-07T19:30:22.517Z"
   },
   {
    "duration": 87,
    "start_time": "2024-11-07T19:33:02.741Z"
   },
   {
    "duration": 7,
    "start_time": "2024-11-07T19:33:14.548Z"
   },
   {
    "duration": 198,
    "start_time": "2024-11-07T19:39:49.746Z"
   },
   {
    "duration": 46,
    "start_time": "2024-11-07T19:39:59.795Z"
   },
   {
    "duration": 56,
    "start_time": "2024-11-07T19:40:04.898Z"
   },
   {
    "duration": 54,
    "start_time": "2024-11-07T19:40:43.154Z"
   },
   {
    "duration": 50,
    "start_time": "2024-11-07T19:40:53.394Z"
   },
   {
    "duration": 56,
    "start_time": "2024-11-07T19:41:32.316Z"
   },
   {
    "duration": 8,
    "start_time": "2024-11-07T19:49:10.418Z"
   },
   {
    "duration": 54,
    "start_time": "2024-11-07T19:51:10.853Z"
   },
   {
    "duration": 2684,
    "start_time": "2024-11-07T19:51:26.074Z"
   },
   {
    "duration": 21,
    "start_time": "2024-11-07T19:54:05.973Z"
   },
   {
    "duration": 16,
    "start_time": "2024-11-07T19:54:14.189Z"
   },
   {
    "duration": 13,
    "start_time": "2024-11-07T19:54:25.861Z"
   },
   {
    "duration": 11,
    "start_time": "2024-11-07T19:55:38.558Z"
   },
   {
    "duration": 13,
    "start_time": "2024-11-07T19:56:45.911Z"
   },
   {
    "duration": 12,
    "start_time": "2024-11-07T19:56:53.551Z"
   },
   {
    "duration": 2705,
    "start_time": "2024-11-07T19:57:00.463Z"
   },
   {
    "duration": 21,
    "start_time": "2024-11-07T19:57:03.448Z"
   },
   {
    "duration": 8,
    "start_time": "2024-11-07T19:58:03.152Z"
   },
   {
    "duration": 6,
    "start_time": "2024-11-07T20:01:15.227Z"
   },
   {
    "duration": 6,
    "start_time": "2024-11-07T20:05:49.758Z"
   },
   {
    "duration": 6,
    "start_time": "2024-11-07T20:06:19.494Z"
   },
   {
    "duration": 17,
    "start_time": "2024-11-07T20:08:40.744Z"
   },
   {
    "duration": 7,
    "start_time": "2024-11-07T20:09:13.905Z"
   },
   {
    "duration": 23,
    "start_time": "2024-11-07T20:10:55.451Z"
   },
   {
    "duration": 7,
    "start_time": "2024-11-07T20:51:21.311Z"
   },
   {
    "duration": 6,
    "start_time": "2024-11-07T20:51:30.470Z"
   },
   {
    "duration": 801,
    "start_time": "2024-11-07T21:05:52.789Z"
   },
   {
    "duration": 789,
    "start_time": "2024-11-07T21:05:57.236Z"
   },
   {
    "duration": 771,
    "start_time": "2024-11-07T21:05:59.724Z"
   },
   {
    "duration": 784,
    "start_time": "2024-11-07T21:06:09.892Z"
   },
   {
    "duration": 788,
    "start_time": "2024-11-07T21:06:19.748Z"
   },
   {
    "duration": 14,
    "start_time": "2024-11-07T21:14:32.370Z"
   },
   {
    "duration": 7,
    "start_time": "2024-11-07T21:16:10.110Z"
   },
   {
    "duration": 5,
    "start_time": "2024-11-07T21:16:29.716Z"
   },
   {
    "duration": 6828,
    "start_time": "2024-11-08T17:10:35.871Z"
   },
   {
    "duration": 3385,
    "start_time": "2024-11-08T17:10:42.701Z"
   },
   {
    "duration": 5,
    "start_time": "2024-11-08T17:10:46.088Z"
   },
   {
    "duration": 9,
    "start_time": "2024-11-08T17:10:46.094Z"
   },
   {
    "duration": 3,
    "start_time": "2024-11-08T17:10:56.154Z"
   },
   {
    "duration": 3,
    "start_time": "2024-11-08T17:11:03.401Z"
   },
   {
    "duration": 4,
    "start_time": "2024-11-08T17:11:11.594Z"
   },
   {
    "duration": 110,
    "start_time": "2024-11-08T17:11:19.955Z"
   },
   {
    "duration": 4,
    "start_time": "2024-11-08T17:11:45.467Z"
   },
   {
    "duration": 5,
    "start_time": "2024-11-08T17:12:03.875Z"
   },
   {
    "duration": 4,
    "start_time": "2024-11-08T17:12:08.371Z"
   },
   {
    "duration": 4,
    "start_time": "2024-11-08T17:12:43.652Z"
   },
   {
    "duration": 5,
    "start_time": "2024-11-08T17:14:56.493Z"
   },
   {
    "duration": 58,
    "start_time": "2024-11-08T18:48:49.757Z"
   },
   {
    "duration": 63,
    "start_time": "2024-11-08T18:53:45.891Z"
   },
   {
    "duration": 282,
    "start_time": "2024-11-08T18:58:44.392Z"
   },
   {
    "duration": 241,
    "start_time": "2024-11-08T18:59:17.681Z"
   },
   {
    "duration": 31,
    "start_time": "2024-11-08T19:16:21.320Z"
   },
   {
    "duration": 24,
    "start_time": "2024-11-08T19:17:14.933Z"
   },
   {
    "duration": 9,
    "start_time": "2024-11-08T19:23:00.078Z"
   },
   {
    "duration": 19,
    "start_time": "2024-11-08T19:23:11.566Z"
   },
   {
    "duration": 22,
    "start_time": "2024-11-08T19:23:22.294Z"
   },
   {
    "duration": 25,
    "start_time": "2024-11-08T19:23:31.934Z"
   },
   {
    "duration": 4037,
    "start_time": "2024-11-08T19:24:00.943Z"
   },
   {
    "duration": 867,
    "start_time": "2024-11-08T19:24:04.982Z"
   },
   {
    "duration": 4,
    "start_time": "2024-11-08T19:24:05.850Z"
   },
   {
    "duration": 14,
    "start_time": "2024-11-08T19:24:05.856Z"
   },
   {
    "duration": 5,
    "start_time": "2024-11-08T19:24:05.871Z"
   },
   {
    "duration": 33,
    "start_time": "2024-11-08T19:24:05.877Z"
   },
   {
    "duration": 32,
    "start_time": "2024-11-08T19:24:05.912Z"
   },
   {
    "duration": 91,
    "start_time": "2024-11-08T19:28:22.607Z"
   },
   {
    "duration": 50,
    "start_time": "2024-11-11T20:44:21.329Z"
   },
   {
    "duration": 6,
    "start_time": "2024-11-11T20:44:24.878Z"
   },
   {
    "duration": 7922,
    "start_time": "2024-11-11T20:44:30.944Z"
   },
   {
    "duration": 1478,
    "start_time": "2024-11-11T20:44:38.868Z"
   },
   {
    "duration": 5,
    "start_time": "2024-11-11T20:44:40.348Z"
   },
   {
    "duration": 9,
    "start_time": "2024-11-11T20:44:40.354Z"
   },
   {
    "duration": 5,
    "start_time": "2024-11-11T20:44:40.364Z"
   },
   {
    "duration": 63,
    "start_time": "2024-11-11T20:44:40.370Z"
   },
   {
    "duration": 18,
    "start_time": "2024-11-11T20:44:40.435Z"
   },
   {
    "duration": 113,
    "start_time": "2024-11-11T20:44:40.455Z"
   },
   {
    "duration": 11,
    "start_time": "2024-11-11T20:44:40.569Z"
   },
   {
    "duration": 10,
    "start_time": "2024-11-11T20:46:34.536Z"
   },
   {
    "duration": 11,
    "start_time": "2024-11-11T20:47:08.113Z"
   },
   {
    "duration": 11,
    "start_time": "2024-11-11T20:51:20.564Z"
   },
   {
    "duration": 10,
    "start_time": "2024-11-11T20:51:58.173Z"
   },
   {
    "duration": 4,
    "start_time": "2024-11-11T20:53:41.871Z"
   },
   {
    "duration": 57,
    "start_time": "2024-11-11T20:53:59.559Z"
   },
   {
    "duration": 63,
    "start_time": "2024-11-11T20:54:03.871Z"
   },
   {
    "duration": 89,
    "start_time": "2024-11-11T20:54:20.367Z"
   },
   {
    "duration": 4,
    "start_time": "2024-11-11T20:58:00.157Z"
   },
   {
    "duration": 6,
    "start_time": "2024-11-11T20:58:07.212Z"
   },
   {
    "duration": 4,
    "start_time": "2024-11-11T20:58:14.628Z"
   },
   {
    "duration": 4,
    "start_time": "2024-11-11T20:59:12.414Z"
   },
   {
    "duration": 1170,
    "start_time": "2024-11-11T20:59:36.221Z"
   },
   {
    "duration": 15,
    "start_time": "2024-11-11T21:09:26.984Z"
   },
   {
    "duration": 11,
    "start_time": "2024-11-11T21:09:41.464Z"
   },
   {
    "duration": 26,
    "start_time": "2024-11-11T21:10:17.337Z"
   },
   {
    "duration": 7201,
    "start_time": "2024-11-12T12:34:24.264Z"
   },
   {
    "duration": 1520,
    "start_time": "2024-11-12T12:34:31.468Z"
   },
   {
    "duration": 5,
    "start_time": "2024-11-12T12:34:32.991Z"
   },
   {
    "duration": 12,
    "start_time": "2024-11-12T12:34:32.998Z"
   },
   {
    "duration": 14,
    "start_time": "2024-11-12T12:34:33.012Z"
   },
   {
    "duration": 41,
    "start_time": "2024-11-12T12:34:33.028Z"
   },
   {
    "duration": 19,
    "start_time": "2024-11-12T12:34:33.071Z"
   },
   {
    "duration": 124,
    "start_time": "2024-11-12T12:34:33.092Z"
   },
   {
    "duration": 10,
    "start_time": "2024-11-12T12:34:33.217Z"
   },
   {
    "duration": 19,
    "start_time": "2024-11-12T12:34:33.230Z"
   },
   {
    "duration": 35,
    "start_time": "2024-11-12T12:34:33.250Z"
   },
   {
    "duration": 654,
    "start_time": "2024-11-12T12:51:16.404Z"
   },
   {
    "duration": 599,
    "start_time": "2024-11-12T12:51:30.732Z"
   },
   {
    "duration": 726,
    "start_time": "2024-11-12T12:52:27.052Z"
   },
   {
    "duration": 627,
    "start_time": "2024-11-12T12:52:41.357Z"
   },
   {
    "duration": 624,
    "start_time": "2024-11-12T12:53:38.877Z"
   },
   {
    "duration": 761,
    "start_time": "2024-11-12T12:53:49.182Z"
   },
   {
    "duration": 585,
    "start_time": "2024-11-12T12:55:41.599Z"
   },
   {
    "duration": 701,
    "start_time": "2024-11-12T12:56:10.687Z"
   },
   {
    "duration": 801,
    "start_time": "2024-11-12T12:57:42.033Z"
   },
   {
    "duration": 606,
    "start_time": "2024-11-12T12:58:44.330Z"
   },
   {
    "duration": 723,
    "start_time": "2024-11-12T12:59:22.403Z"
   },
   {
    "duration": 577,
    "start_time": "2024-11-12T12:59:34.466Z"
   },
   {
    "duration": 697,
    "start_time": "2024-11-12T13:08:47.483Z"
   },
   {
    "duration": 739,
    "start_time": "2024-11-12T13:08:57.738Z"
   },
   {
    "duration": 635,
    "start_time": "2024-11-12T13:09:25.291Z"
   },
   {
    "duration": 572,
    "start_time": "2024-11-12T13:11:16.148Z"
   },
   {
    "duration": 709,
    "start_time": "2024-11-12T13:11:20.716Z"
   },
   {
    "duration": 564,
    "start_time": "2024-11-12T13:12:11.701Z"
   },
   {
    "duration": 711,
    "start_time": "2024-11-12T13:12:19.910Z"
   },
   {
    "duration": 693,
    "start_time": "2024-11-12T13:12:40.326Z"
   },
   {
    "duration": 696,
    "start_time": "2024-11-12T13:15:56.609Z"
   },
   {
    "duration": 840,
    "start_time": "2024-11-12T13:17:02.610Z"
   },
   {
    "duration": 729,
    "start_time": "2024-11-12T13:17:49.443Z"
   },
   {
    "duration": 954,
    "start_time": "2024-11-12T13:18:18.411Z"
   },
   {
    "duration": 699,
    "start_time": "2024-11-12T13:19:03.268Z"
   },
   {
    "duration": 1260,
    "start_time": "2024-11-12T13:24:55.528Z"
   },
   {
    "duration": 760,
    "start_time": "2024-11-12T13:25:14.793Z"
   },
   {
    "duration": 1182,
    "start_time": "2024-11-12T13:25:36.857Z"
   },
   {
    "duration": 1258,
    "start_time": "2024-11-12T13:25:51.042Z"
   },
   {
    "duration": 1325,
    "start_time": "2024-11-12T13:26:05.538Z"
   },
   {
    "duration": 1401,
    "start_time": "2024-11-12T13:27:41.355Z"
   },
   {
    "duration": 1361,
    "start_time": "2024-11-12T13:28:40.709Z"
   },
   {
    "duration": 1473,
    "start_time": "2024-11-12T13:28:56.812Z"
   },
   {
    "duration": 6672,
    "start_time": "2024-11-12T20:43:08.128Z"
   },
   {
    "duration": 3638,
    "start_time": "2024-11-12T20:43:14.803Z"
   },
   {
    "duration": 5,
    "start_time": "2024-11-12T20:43:18.442Z"
   },
   {
    "duration": 9,
    "start_time": "2024-11-12T20:43:18.448Z"
   },
   {
    "duration": 4,
    "start_time": "2024-11-12T20:43:18.458Z"
   },
   {
    "duration": 91,
    "start_time": "2024-11-12T20:43:18.464Z"
   },
   {
    "duration": 18,
    "start_time": "2024-11-12T20:43:18.557Z"
   },
   {
    "duration": 91,
    "start_time": "2024-11-12T20:43:18.576Z"
   },
   {
    "duration": 9,
    "start_time": "2024-11-12T20:43:18.668Z"
   },
   {
    "duration": 4,
    "start_time": "2024-11-12T20:43:18.678Z"
   },
   {
    "duration": 40,
    "start_time": "2024-11-12T20:43:18.683Z"
   },
   {
    "duration": 1166,
    "start_time": "2024-11-12T20:43:18.724Z"
   },
   {
    "duration": 1122,
    "start_time": "2024-11-12T20:43:19.892Z"
   },
   {
    "duration": 1221,
    "start_time": "2024-11-12T20:43:21.021Z"
   },
   {
    "duration": 2243,
    "start_time": "2024-11-12T20:46:04.688Z"
   },
   {
    "duration": 2326,
    "start_time": "2024-11-12T20:46:30.749Z"
   },
   {
    "duration": 755,
    "start_time": "2024-11-12T20:46:33.077Z"
   },
   {
    "duration": 7,
    "start_time": "2024-11-12T20:46:33.833Z"
   },
   {
    "duration": 18,
    "start_time": "2024-11-12T20:46:33.842Z"
   },
   {
    "duration": 19,
    "start_time": "2024-11-12T20:46:33.862Z"
   },
   {
    "duration": 27,
    "start_time": "2024-11-12T20:46:33.882Z"
   },
   {
    "duration": 20,
    "start_time": "2024-11-12T20:46:33.920Z"
   },
   {
    "duration": 97,
    "start_time": "2024-11-12T20:46:33.941Z"
   },
   {
    "duration": 12,
    "start_time": "2024-11-12T20:46:34.039Z"
   },
   {
    "duration": 7,
    "start_time": "2024-11-12T20:46:34.053Z"
   },
   {
    "duration": 35,
    "start_time": "2024-11-12T20:46:34.061Z"
   },
   {
    "duration": 1204,
    "start_time": "2024-11-12T20:46:34.098Z"
   },
   {
    "duration": 1133,
    "start_time": "2024-11-12T20:46:35.303Z"
   },
   {
    "duration": 1166,
    "start_time": "2024-11-12T20:46:36.438Z"
   },
   {
    "duration": 2260,
    "start_time": "2024-11-12T20:55:09.951Z"
   },
   {
    "duration": 731,
    "start_time": "2024-11-12T20:55:12.214Z"
   },
   {
    "duration": 7,
    "start_time": "2024-11-12T20:55:12.949Z"
   },
   {
    "duration": 12,
    "start_time": "2024-11-12T20:55:12.957Z"
   },
   {
    "duration": 5,
    "start_time": "2024-11-12T20:55:12.971Z"
   },
   {
    "duration": 49,
    "start_time": "2024-11-12T20:55:12.978Z"
   },
   {
    "duration": 20,
    "start_time": "2024-11-12T20:55:13.028Z"
   },
   {
    "duration": 96,
    "start_time": "2024-11-12T20:55:13.050Z"
   },
   {
    "duration": 12,
    "start_time": "2024-11-12T20:55:13.148Z"
   },
   {
    "duration": 7,
    "start_time": "2024-11-12T20:55:13.162Z"
   },
   {
    "duration": 20,
    "start_time": "2024-11-12T20:55:13.171Z"
   },
   {
    "duration": 1216,
    "start_time": "2024-11-12T20:55:13.193Z"
   },
   {
    "duration": 1024,
    "start_time": "2024-11-12T20:55:14.411Z"
   },
   {
    "duration": 1147,
    "start_time": "2024-11-12T20:55:15.438Z"
   },
   {
    "duration": 1201,
    "start_time": "2024-11-12T20:55:16.586Z"
   },
   {
    "duration": 56,
    "start_time": "2024-11-12T21:08:43.148Z"
   },
   {
    "duration": 129,
    "start_time": "2024-11-12T21:09:07.718Z"
   },
   {
    "duration": 1138,
    "start_time": "2024-11-12T21:09:28.868Z"
   },
   {
    "duration": 995,
    "start_time": "2024-11-12T21:09:42.645Z"
   },
   {
    "duration": 1071,
    "start_time": "2024-11-12T21:09:48.740Z"
   },
   {
    "duration": 563,
    "start_time": "2024-11-12T21:11:07.958Z"
   },
   {
    "duration": 865,
    "start_time": "2024-11-12T21:11:44.846Z"
   },
   {
    "duration": 1267,
    "start_time": "2024-11-12T21:11:55.454Z"
   },
   {
    "duration": 489,
    "start_time": "2024-11-12T21:12:14.527Z"
   },
   {
    "duration": 692,
    "start_time": "2024-11-12T21:15:31.690Z"
   },
   {
    "duration": 610,
    "start_time": "2024-11-12T21:15:36.786Z"
   },
   {
    "duration": 1378,
    "start_time": "2024-11-12T21:19:53.509Z"
   },
   {
    "duration": 1090,
    "start_time": "2024-11-12T21:21:15.223Z"
   },
   {
    "duration": 1349,
    "start_time": "2024-11-12T21:22:12.295Z"
   },
   {
    "duration": 1296,
    "start_time": "2024-11-12T21:22:27.319Z"
   },
   {
    "duration": 1327,
    "start_time": "2024-11-12T21:23:26.208Z"
   },
   {
    "duration": 1426,
    "start_time": "2024-11-12T21:23:33.936Z"
   },
   {
    "duration": 1403,
    "start_time": "2024-11-12T21:23:38.897Z"
   },
   {
    "duration": 1221,
    "start_time": "2024-11-12T21:23:54.961Z"
   },
   {
    "duration": 123,
    "start_time": "2024-11-12T21:25:42.706Z"
   },
   {
    "duration": 1439,
    "start_time": "2024-11-12T21:25:46.186Z"
   },
   {
    "duration": 1341,
    "start_time": "2024-11-12T21:25:50.850Z"
   },
   {
    "duration": 455,
    "start_time": "2024-11-12T21:26:14.338Z"
   },
   {
    "duration": 1338,
    "start_time": "2024-11-12T21:26:19.850Z"
   },
   {
    "duration": 377,
    "start_time": "2024-11-12T21:26:51.411Z"
   },
   {
    "duration": 1359,
    "start_time": "2024-11-12T21:26:57.371Z"
   },
   {
    "duration": 1213,
    "start_time": "2024-11-12T21:27:37.604Z"
   },
   {
    "duration": 1327,
    "start_time": "2024-11-12T21:27:40.947Z"
   },
   {
    "duration": 387,
    "start_time": "2024-11-12T21:27:57.709Z"
   },
   {
    "duration": 1374,
    "start_time": "2024-11-12T21:29:00.790Z"
   },
   {
    "duration": 464,
    "start_time": "2024-11-12T21:29:11.229Z"
   },
   {
    "duration": 1352,
    "start_time": "2024-11-12T21:29:40.782Z"
   },
   {
    "duration": 1203,
    "start_time": "2024-11-12T21:29:55.494Z"
   },
   {
    "duration": 1477,
    "start_time": "2024-11-12T21:30:02.062Z"
   },
   {
    "duration": 1331,
    "start_time": "2024-11-12T21:30:09.014Z"
   },
   {
    "duration": 1356,
    "start_time": "2024-11-12T21:35:52.619Z"
   },
   {
    "duration": 1101,
    "start_time": "2024-11-12T21:36:21.603Z"
   },
   {
    "duration": 1251,
    "start_time": "2024-11-12T21:36:30.931Z"
   },
   {
    "duration": 1266,
    "start_time": "2024-11-12T21:36:36.251Z"
   },
   {
    "duration": 1208,
    "start_time": "2024-11-12T21:36:44.731Z"
   },
   {
    "duration": 1275,
    "start_time": "2024-11-12T21:36:51.691Z"
   },
   {
    "duration": 1204,
    "start_time": "2024-11-12T21:40:37.218Z"
   },
   {
    "duration": 1368,
    "start_time": "2024-11-12T21:41:09.687Z"
   },
   {
    "duration": 1173,
    "start_time": "2024-11-12T21:41:32.183Z"
   },
   {
    "duration": 1141,
    "start_time": "2024-11-12T21:41:48.520Z"
   },
   {
    "duration": 1175,
    "start_time": "2024-11-12T21:41:58.600Z"
   },
   {
    "duration": 1184,
    "start_time": "2024-11-12T21:44:23.882Z"
   },
   {
    "duration": 1339,
    "start_time": "2024-11-12T21:51:28.127Z"
   },
   {
    "duration": 1249,
    "start_time": "2024-11-12T21:54:19.355Z"
   },
   {
    "duration": 1342,
    "start_time": "2024-11-12T21:54:28.874Z"
   },
   {
    "duration": 3668,
    "start_time": "2024-11-12T22:12:36.253Z"
   },
   {
    "duration": 750,
    "start_time": "2024-11-12T22:12:39.923Z"
   },
   {
    "duration": 6,
    "start_time": "2024-11-12T22:12:40.675Z"
   },
   {
    "duration": 12,
    "start_time": "2024-11-12T22:12:40.682Z"
   },
   {
    "duration": 6,
    "start_time": "2024-11-12T22:12:40.696Z"
   },
   {
    "duration": 41,
    "start_time": "2024-11-12T22:12:40.704Z"
   },
   {
    "duration": 16,
    "start_time": "2024-11-12T22:12:40.746Z"
   },
   {
    "duration": 110,
    "start_time": "2024-11-12T22:12:40.764Z"
   },
   {
    "duration": 11,
    "start_time": "2024-11-12T22:12:40.875Z"
   },
   {
    "duration": 45,
    "start_time": "2024-11-12T22:12:40.887Z"
   },
   {
    "duration": 28,
    "start_time": "2024-11-12T22:12:40.933Z"
   },
   {
    "duration": 1102,
    "start_time": "2024-11-12T22:12:40.962Z"
   },
   {
    "duration": 1087,
    "start_time": "2024-11-12T22:12:42.065Z"
   },
   {
    "duration": 1104,
    "start_time": "2024-11-12T22:12:43.153Z"
   },
   {
    "duration": 1281,
    "start_time": "2024-11-12T22:12:44.259Z"
   },
   {
    "duration": 104,
    "start_time": "2024-11-12T22:28:24.335Z"
   },
   {
    "duration": 1102,
    "start_time": "2024-11-12T22:28:28.366Z"
   },
   {
    "duration": 12,
    "start_time": "2024-11-12T22:28:45.238Z"
   },
   {
    "duration": 13,
    "start_time": "2024-11-12T22:28:53.494Z"
   },
   {
    "duration": 981,
    "start_time": "2024-11-12T22:28:56.054Z"
   },
   {
    "duration": 18,
    "start_time": "2024-11-12T22:30:09.991Z"
   },
   {
    "duration": 18,
    "start_time": "2024-11-12T22:30:12.839Z"
   },
   {
    "duration": 12,
    "start_time": "2024-11-12T22:32:28.818Z"
   },
   {
    "duration": 12,
    "start_time": "2024-11-12T22:32:32.570Z"
   },
   {
    "duration": 11,
    "start_time": "2024-11-12T22:35:54.652Z"
   },
   {
    "duration": 50,
    "start_time": "2024-11-12T22:57:17.617Z"
   },
   {
    "duration": 161,
    "start_time": "2024-11-12T22:57:20.695Z"
   },
   {
    "duration": 46,
    "start_time": "2024-11-12T22:57:46.513Z"
   },
   {
    "duration": 3667,
    "start_time": "2024-11-12T22:58:50.475Z"
   },
   {
    "duration": 741,
    "start_time": "2024-11-12T22:58:54.144Z"
   },
   {
    "duration": 6,
    "start_time": "2024-11-12T22:58:54.887Z"
   },
   {
    "duration": 17,
    "start_time": "2024-11-12T22:58:54.894Z"
   },
   {
    "duration": 10,
    "start_time": "2024-11-12T22:58:54.912Z"
   },
   {
    "duration": 25,
    "start_time": "2024-11-12T22:58:54.923Z"
   },
   {
    "duration": 17,
    "start_time": "2024-11-12T22:58:54.949Z"
   },
   {
    "duration": 102,
    "start_time": "2024-11-12T22:58:54.968Z"
   },
   {
    "duration": 11,
    "start_time": "2024-11-12T22:58:55.071Z"
   },
   {
    "duration": 7,
    "start_time": "2024-11-12T22:58:55.083Z"
   },
   {
    "duration": 32,
    "start_time": "2024-11-12T22:58:55.092Z"
   },
   {
    "duration": 1200,
    "start_time": "2024-11-12T22:58:55.125Z"
   },
   {
    "duration": 1158,
    "start_time": "2024-11-12T22:58:56.327Z"
   },
   {
    "duration": 1129,
    "start_time": "2024-11-12T22:58:57.487Z"
   },
   {
    "duration": 144,
    "start_time": "2024-11-12T22:58:58.620Z"
   },
   {
    "duration": 0,
    "start_time": "2024-11-12T22:58:58.765Z"
   },
   {
    "duration": 41,
    "start_time": "2024-11-12T23:01:55.564Z"
   },
   {
    "duration": 47,
    "start_time": "2024-11-12T23:02:05.084Z"
   },
   {
    "duration": 43,
    "start_time": "2024-11-12T23:02:37.990Z"
   },
   {
    "duration": 39,
    "start_time": "2024-11-12T23:02:54.133Z"
   },
   {
    "duration": 49,
    "start_time": "2024-11-12T23:03:03.069Z"
   },
   {
    "duration": 13,
    "start_time": "2024-11-12T23:06:05.647Z"
   },
   {
    "duration": 13,
    "start_time": "2024-11-12T23:06:08.440Z"
   },
   {
    "duration": 14,
    "start_time": "2024-11-12T23:07:30.065Z"
   },
   {
    "duration": 13,
    "start_time": "2024-11-12T23:07:32.209Z"
   },
   {
    "duration": 9652,
    "start_time": "2024-11-13T12:40:17.322Z"
   },
   {
    "duration": 1502,
    "start_time": "2024-11-13T12:40:26.976Z"
   },
   {
    "duration": 7,
    "start_time": "2024-11-13T12:40:28.480Z"
   },
   {
    "duration": 16,
    "start_time": "2024-11-13T12:40:28.489Z"
   },
   {
    "duration": 12,
    "start_time": "2024-11-13T12:40:28.506Z"
   },
   {
    "duration": 34,
    "start_time": "2024-11-13T12:40:28.521Z"
   },
   {
    "duration": 20,
    "start_time": "2024-11-13T12:40:28.556Z"
   },
   {
    "duration": 134,
    "start_time": "2024-11-13T12:40:28.578Z"
   },
   {
    "duration": 13,
    "start_time": "2024-11-13T12:40:28.713Z"
   },
   {
    "duration": 92,
    "start_time": "2024-11-13T12:40:28.729Z"
   },
   {
    "duration": 31,
    "start_time": "2024-11-13T12:40:28.823Z"
   },
   {
    "duration": 1315,
    "start_time": "2024-11-13T12:40:28.856Z"
   },
   {
    "duration": 1337,
    "start_time": "2024-11-13T12:40:30.173Z"
   },
   {
    "duration": 1300,
    "start_time": "2024-11-13T12:40:31.511Z"
   },
   {
    "duration": 40,
    "start_time": "2024-11-13T12:40:32.813Z"
   },
   {
    "duration": 1573,
    "start_time": "2024-11-13T12:40:32.855Z"
   },
   {
    "duration": 2719,
    "start_time": "2024-11-13T12:48:48.746Z"
   },
   {
    "duration": 127,
    "start_time": "2024-11-13T12:50:43.811Z"
   },
   {
    "duration": 11,
    "start_time": "2024-11-13T12:50:46.659Z"
   },
   {
    "duration": 12,
    "start_time": "2024-11-13T12:51:01.908Z"
   },
   {
    "duration": 11,
    "start_time": "2024-11-13T12:51:05.819Z"
   },
   {
    "duration": 3027,
    "start_time": "2024-11-13T12:51:13.787Z"
   },
   {
    "duration": 9,
    "start_time": "2024-11-13T12:51:17.276Z"
   },
   {
    "duration": 14,
    "start_time": "2024-11-13T12:52:50.757Z"
   },
   {
    "duration": 10,
    "start_time": "2024-11-13T12:52:52.892Z"
   },
   {
    "duration": 248,
    "start_time": "2024-11-13T12:54:37.198Z"
   },
   {
    "duration": 243,
    "start_time": "2024-11-13T12:54:38.646Z"
   },
   {
    "duration": 8,
    "start_time": "2024-11-13T12:54:42.831Z"
   },
   {
    "duration": 32,
    "start_time": "2024-11-13T12:56:34.464Z"
   },
   {
    "duration": 12,
    "start_time": "2024-11-13T12:56:36.136Z"
   },
   {
    "duration": 9,
    "start_time": "2024-11-13T13:08:48.346Z"
   },
   {
    "duration": 14,
    "start_time": "2024-11-13T13:10:15.138Z"
   },
   {
    "duration": 12,
    "start_time": "2024-11-13T13:10:18.858Z"
   },
   {
    "duration": 11,
    "start_time": "2024-11-13T13:10:30.602Z"
   },
   {
    "duration": 17,
    "start_time": "2024-11-13T13:11:12.034Z"
   },
   {
    "duration": 143,
    "start_time": "2024-11-13T13:13:03.564Z"
   },
   {
    "duration": 107,
    "start_time": "2024-11-13T13:13:07.060Z"
   },
   {
    "duration": 274,
    "start_time": "2024-11-13T13:13:13.436Z"
   },
   {
    "duration": 120,
    "start_time": "2024-11-13T13:13:17.980Z"
   },
   {
    "duration": 90,
    "start_time": "2024-11-13T13:13:20.988Z"
   },
   {
    "duration": 137,
    "start_time": "2024-11-13T13:13:23.172Z"
   },
   {
    "duration": 13,
    "start_time": "2024-11-13T13:14:27.582Z"
   },
   {
    "duration": 14,
    "start_time": "2024-11-13T13:14:29.654Z"
   },
   {
    "duration": 13,
    "start_time": "2024-11-13T13:14:52.349Z"
   },
   {
    "duration": 15,
    "start_time": "2024-11-13T13:14:57.861Z"
   },
   {
    "duration": 17,
    "start_time": "2024-11-13T13:35:36.077Z"
   },
   {
    "duration": 1594,
    "start_time": "2024-11-13T13:41:22.457Z"
   },
   {
    "duration": 1470,
    "start_time": "2024-11-13T13:41:28.822Z"
   },
   {
    "duration": 1525,
    "start_time": "2024-11-13T13:46:41.654Z"
   },
   {
    "duration": 1406,
    "start_time": "2024-11-13T13:46:53.610Z"
   },
   {
    "duration": 2692,
    "start_time": "2024-11-13T13:47:55.054Z"
   },
   {
    "duration": 2674,
    "start_time": "2024-11-13T13:48:13.167Z"
   },
   {
    "duration": 2764,
    "start_time": "2024-11-13T13:48:25.575Z"
   },
   {
    "duration": 2843,
    "start_time": "2024-11-13T13:48:49.722Z"
   },
   {
    "duration": 2755,
    "start_time": "2024-11-13T13:49:04.343Z"
   },
   {
    "duration": 844,
    "start_time": "2024-11-13T13:50:06.945Z"
   },
   {
    "duration": 2810,
    "start_time": "2024-11-13T13:50:13.560Z"
   },
   {
    "duration": 2813,
    "start_time": "2024-11-13T13:50:34.906Z"
   },
   {
    "duration": 2792,
    "start_time": "2024-11-13T13:50:43.064Z"
   },
   {
    "duration": 1462,
    "start_time": "2024-11-13T13:50:59.777Z"
   },
   {
    "duration": 1384,
    "start_time": "2024-11-13T13:51:33.242Z"
   },
   {
    "duration": 4502,
    "start_time": "2024-11-13T13:51:41.961Z"
   },
   {
    "duration": 816,
    "start_time": "2024-11-13T13:51:46.465Z"
   },
   {
    "duration": 7,
    "start_time": "2024-11-13T13:51:47.283Z"
   },
   {
    "duration": 30,
    "start_time": "2024-11-13T13:51:47.291Z"
   },
   {
    "duration": 7,
    "start_time": "2024-11-13T13:51:47.323Z"
   },
   {
    "duration": 30,
    "start_time": "2024-11-13T13:51:47.331Z"
   },
   {
    "duration": 19,
    "start_time": "2024-11-13T13:51:47.362Z"
   },
   {
    "duration": 132,
    "start_time": "2024-11-13T13:51:47.382Z"
   },
   {
    "duration": 12,
    "start_time": "2024-11-13T13:51:47.518Z"
   },
   {
    "duration": 8,
    "start_time": "2024-11-13T13:51:47.532Z"
   },
   {
    "duration": 32,
    "start_time": "2024-11-13T13:51:47.541Z"
   },
   {
    "duration": 1383,
    "start_time": "2024-11-13T13:51:47.575Z"
   },
   {
    "duration": 1290,
    "start_time": "2024-11-13T13:51:48.960Z"
   },
   {
    "duration": 1293,
    "start_time": "2024-11-13T13:51:50.253Z"
   },
   {
    "duration": 40,
    "start_time": "2024-11-13T13:51:51.548Z"
   },
   {
    "duration": 1548,
    "start_time": "2024-11-13T13:51:51.590Z"
   },
   {
    "duration": 9,
    "start_time": "2024-11-13T13:51:53.139Z"
   },
   {
    "duration": 10,
    "start_time": "2024-11-13T13:51:53.150Z"
   },
   {
    "duration": 14,
    "start_time": "2024-11-13T13:51:53.162Z"
   },
   {
    "duration": 2654,
    "start_time": "2024-11-13T13:51:53.177Z"
   },
   {
    "duration": 15,
    "start_time": "2024-11-13T13:54:56.503Z"
   },
   {
    "duration": 4501,
    "start_time": "2024-11-13T16:29:52.570Z"
   },
   {
    "duration": 847,
    "start_time": "2024-11-13T16:29:57.073Z"
   },
   {
    "duration": 8,
    "start_time": "2024-11-13T16:29:57.922Z"
   },
   {
    "duration": 15,
    "start_time": "2024-11-13T16:29:57.931Z"
   },
   {
    "duration": 6,
    "start_time": "2024-11-13T16:29:57.948Z"
   },
   {
    "duration": 29,
    "start_time": "2024-11-13T16:29:57.956Z"
   },
   {
    "duration": 149,
    "start_time": "2024-11-13T16:29:57.986Z"
   },
   {
    "duration": 13,
    "start_time": "2024-11-13T16:29:58.136Z"
   },
   {
    "duration": 9,
    "start_time": "2024-11-13T16:29:58.151Z"
   },
   {
    "duration": 56,
    "start_time": "2024-11-13T16:29:58.162Z"
   },
   {
    "duration": 1313,
    "start_time": "2024-11-13T16:29:58.220Z"
   },
   {
    "duration": 1301,
    "start_time": "2024-11-13T16:29:59.535Z"
   },
   {
    "duration": 1299,
    "start_time": "2024-11-13T16:30:00.838Z"
   },
   {
    "duration": 41,
    "start_time": "2024-11-13T16:30:02.141Z"
   },
   {
    "duration": 1566,
    "start_time": "2024-11-13T16:30:02.184Z"
   },
   {
    "duration": 10,
    "start_time": "2024-11-13T16:30:03.752Z"
   },
   {
    "duration": 14,
    "start_time": "2024-11-13T16:30:03.764Z"
   },
   {
    "duration": 14,
    "start_time": "2024-11-13T16:30:03.779Z"
   },
   {
    "duration": 2656,
    "start_time": "2024-11-13T16:30:03.795Z"
   },
   {
    "duration": 152,
    "start_time": "2024-11-13T16:30:06.453Z"
   },
   {
    "duration": 0,
    "start_time": "2024-11-13T16:30:06.606Z"
   },
   {
    "duration": 13,
    "start_time": "2024-11-13T16:31:48.662Z"
   },
   {
    "duration": 20,
    "start_time": "2024-11-13T16:31:50.941Z"
   },
   {
    "duration": 4,
    "start_time": "2024-11-13T16:47:12.620Z"
   },
   {
    "duration": 12,
    "start_time": "2024-11-13T16:47:31.683Z"
   },
   {
    "duration": 2645,
    "start_time": "2024-11-13T17:20:05.401Z"
   },
   {
    "duration": 152,
    "start_time": "2024-11-13T17:20:16.089Z"
   },
   {
    "duration": 19,
    "start_time": "2024-11-13T17:29:03.657Z"
   },
   {
    "duration": 19,
    "start_time": "2024-11-13T17:29:43.633Z"
   },
   {
    "duration": 7836,
    "start_time": "2024-11-13T19:52:22.799Z"
   },
   {
    "duration": 1497,
    "start_time": "2024-11-13T19:52:30.638Z"
   },
   {
    "duration": 13,
    "start_time": "2024-11-13T19:52:32.138Z"
   },
   {
    "duration": 15,
    "start_time": "2024-11-13T19:52:32.152Z"
   },
   {
    "duration": 9,
    "start_time": "2024-11-13T19:52:32.169Z"
   },
   {
    "duration": 54,
    "start_time": "2024-11-13T19:52:32.180Z"
   },
   {
    "duration": 135,
    "start_time": "2024-11-13T19:52:32.237Z"
   },
   {
    "duration": 12,
    "start_time": "2024-11-13T19:52:32.374Z"
   },
   {
    "duration": 9,
    "start_time": "2024-11-13T19:52:32.387Z"
   },
   {
    "duration": 112,
    "start_time": "2024-11-13T19:52:32.417Z"
   },
   {
    "duration": 1316,
    "start_time": "2024-11-13T19:52:32.531Z"
   },
   {
    "duration": 1398,
    "start_time": "2024-11-13T19:52:33.848Z"
   },
   {
    "duration": 1326,
    "start_time": "2024-11-13T19:52:35.248Z"
   },
   {
    "duration": 51,
    "start_time": "2024-11-13T19:52:36.577Z"
   },
   {
    "duration": 1624,
    "start_time": "2024-11-13T19:52:36.630Z"
   },
   {
    "duration": 10,
    "start_time": "2024-11-13T19:52:38.255Z"
   },
   {
    "duration": 10,
    "start_time": "2024-11-13T19:52:38.266Z"
   },
   {
    "duration": 13,
    "start_time": "2024-11-13T19:52:38.278Z"
   },
   {
    "duration": 2723,
    "start_time": "2024-11-13T19:52:38.292Z"
   },
   {
    "duration": 20,
    "start_time": "2024-11-13T19:52:41.016Z"
   },
   {
    "duration": 22,
    "start_time": "2024-11-13T19:52:41.039Z"
   },
   {
    "duration": 10,
    "start_time": "2024-11-13T19:52:41.063Z"
   },
   {
    "duration": 48,
    "start_time": "2024-11-13T19:52:41.075Z"
   },
   {
    "duration": 2768,
    "start_time": "2024-11-13T19:53:08.000Z"
   },
   {
    "duration": 2836,
    "start_time": "2024-11-13T19:53:14.463Z"
   },
   {
    "duration": 2839,
    "start_time": "2024-11-13T19:56:01.369Z"
   },
   {
    "duration": 2905,
    "start_time": "2024-11-13T19:56:06.256Z"
   },
   {
    "duration": 24,
    "start_time": "2024-11-13T20:59:40.034Z"
   },
   {
    "duration": 24,
    "start_time": "2024-11-13T20:59:42.411Z"
   },
   {
    "duration": 21,
    "start_time": "2024-11-13T21:00:34.339Z"
   },
   {
    "duration": 143,
    "start_time": "2024-11-13T21:00:58.711Z"
   },
   {
    "duration": 27,
    "start_time": "2024-11-13T21:01:01.235Z"
   },
   {
    "duration": 8,
    "start_time": "2024-11-13T21:02:32.503Z"
   },
   {
    "duration": 7,
    "start_time": "2024-11-13T21:02:36.379Z"
   },
   {
    "duration": 6,
    "start_time": "2024-11-13T21:02:38.483Z"
   },
   {
    "duration": 6,
    "start_time": "2024-11-13T21:02:56.363Z"
   },
   {
    "duration": 9,
    "start_time": "2024-11-13T21:02:58.021Z"
   },
   {
    "duration": 28,
    "start_time": "2024-11-13T21:05:19.286Z"
   },
   {
    "duration": 23,
    "start_time": "2024-11-13T21:05:24.514Z"
   },
   {
    "duration": 22,
    "start_time": "2024-11-13T21:05:57.975Z"
   },
   {
    "duration": 26,
    "start_time": "2024-11-13T21:06:06.327Z"
   },
   {
    "duration": 28,
    "start_time": "2024-11-13T21:08:19.098Z"
   },
   {
    "duration": 26,
    "start_time": "2024-11-13T21:08:22.849Z"
   },
   {
    "duration": 22,
    "start_time": "2024-11-13T21:11:26.835Z"
   },
   {
    "duration": 17,
    "start_time": "2024-11-13T21:11:53.554Z"
   },
   {
    "duration": 12,
    "start_time": "2024-11-13T21:12:03.996Z"
   },
   {
    "duration": 2685,
    "start_time": "2024-11-13T21:38:21.213Z"
   },
   {
    "duration": 33,
    "start_time": "2024-11-13T22:36:56.709Z"
   },
   {
    "duration": 24,
    "start_time": "2024-11-13T22:37:00.748Z"
   },
   {
    "duration": 14,
    "start_time": "2024-11-13T22:40:30.742Z"
   },
   {
    "duration": 30,
    "start_time": "2024-11-13T22:43:03.327Z"
   },
   {
    "duration": 17,
    "start_time": "2024-11-13T22:43:17.095Z"
   },
   {
    "duration": 23,
    "start_time": "2024-11-13T22:56:27.299Z"
   },
   {
    "duration": 24,
    "start_time": "2024-11-13T22:56:29.411Z"
   },
   {
    "duration": 16,
    "start_time": "2024-11-13T22:56:30.595Z"
   },
   {
    "duration": 30,
    "start_time": "2024-11-13T22:58:16.652Z"
   },
   {
    "duration": 24,
    "start_time": "2024-11-13T22:58:18.532Z"
   },
   {
    "duration": 2692,
    "start_time": "2024-11-13T23:06:41.646Z"
   },
   {
    "duration": 824,
    "start_time": "2024-11-13T23:06:44.340Z"
   },
   {
    "duration": 5133,
    "start_time": "2024-11-13T23:06:55.919Z"
   },
   {
    "duration": 4870,
    "start_time": "2024-11-13T23:07:01.963Z"
   },
   {
    "duration": 27,
    "start_time": "2024-11-13T23:12:33.785Z"
   },
   {
    "duration": 382,
    "start_time": "2024-11-13T23:15:24.083Z"
   },
   {
    "duration": 386,
    "start_time": "2024-11-13T23:15:27.643Z"
   },
   {
    "duration": 66,
    "start_time": "2024-11-13T23:19:18.302Z"
   },
   {
    "duration": 13,
    "start_time": "2024-11-13T23:19:33.382Z"
   },
   {
    "duration": 14,
    "start_time": "2024-11-13T23:25:31.770Z"
   },
   {
    "duration": 59,
    "start_time": "2024-11-13T23:25:57.029Z"
   },
   {
    "duration": 13,
    "start_time": "2024-11-13T23:26:21.635Z"
   },
   {
    "duration": 4123,
    "start_time": "2024-11-13T23:27:30.467Z"
   },
   {
    "duration": 813,
    "start_time": "2024-11-13T23:27:34.592Z"
   },
   {
    "duration": 16,
    "start_time": "2024-11-13T23:27:35.406Z"
   },
   {
    "duration": 23,
    "start_time": "2024-11-13T23:27:35.424Z"
   },
   {
    "duration": 30,
    "start_time": "2024-11-13T23:27:35.449Z"
   },
   {
    "duration": 43,
    "start_time": "2024-11-13T23:27:35.481Z"
   },
   {
    "duration": 110,
    "start_time": "2024-11-13T23:27:35.526Z"
   },
   {
    "duration": 15,
    "start_time": "2024-11-13T23:27:35.639Z"
   },
   {
    "duration": 32,
    "start_time": "2024-11-13T23:27:35.656Z"
   },
   {
    "duration": 85,
    "start_time": "2024-11-13T23:27:35.690Z"
   },
   {
    "duration": 1313,
    "start_time": "2024-11-13T23:27:35.777Z"
   },
   {
    "duration": 1258,
    "start_time": "2024-11-13T23:27:37.091Z"
   },
   {
    "duration": 1258,
    "start_time": "2024-11-13T23:27:38.351Z"
   },
   {
    "duration": 46,
    "start_time": "2024-11-13T23:27:39.617Z"
   },
   {
    "duration": 1411,
    "start_time": "2024-11-13T23:27:39.665Z"
   },
   {
    "duration": 10,
    "start_time": "2024-11-13T23:27:41.078Z"
   },
   {
    "duration": 12,
    "start_time": "2024-11-13T23:27:41.089Z"
   },
   {
    "duration": 29,
    "start_time": "2024-11-13T23:27:41.102Z"
   },
   {
    "duration": 2726,
    "start_time": "2024-11-13T23:27:41.133Z"
   },
   {
    "duration": 12,
    "start_time": "2024-11-13T23:27:43.861Z"
   },
   {
    "duration": 21,
    "start_time": "2024-11-13T23:27:43.875Z"
   },
   {
    "duration": 10,
    "start_time": "2024-11-13T23:27:43.898Z"
   },
   {
    "duration": 21,
    "start_time": "2024-11-13T23:27:43.910Z"
   },
   {
    "duration": 133,
    "start_time": "2024-11-13T23:27:43.933Z"
   },
   {
    "duration": 0,
    "start_time": "2024-11-13T23:27:44.068Z"
   },
   {
    "duration": 26,
    "start_time": "2024-11-13T23:30:54.031Z"
   },
   {
    "duration": 26,
    "start_time": "2024-11-13T23:31:21.280Z"
   },
   {
    "duration": 24,
    "start_time": "2024-11-13T23:31:34.984Z"
   },
   {
    "duration": 27,
    "start_time": "2024-11-13T23:31:46.515Z"
   },
   {
    "duration": 34,
    "start_time": "2024-11-13T23:31:54.345Z"
   },
   {
    "duration": 17,
    "start_time": "2024-11-13T23:32:18.322Z"
   },
   {
    "duration": 4042,
    "start_time": "2024-11-13T23:32:39.498Z"
   },
   {
    "duration": 802,
    "start_time": "2024-11-13T23:32:43.542Z"
   },
   {
    "duration": 7,
    "start_time": "2024-11-13T23:32:44.345Z"
   },
   {
    "duration": 12,
    "start_time": "2024-11-13T23:32:44.353Z"
   },
   {
    "duration": 6,
    "start_time": "2024-11-13T23:32:44.367Z"
   },
   {
    "duration": 55,
    "start_time": "2024-11-13T23:32:44.374Z"
   },
   {
    "duration": 104,
    "start_time": "2024-11-13T23:32:44.430Z"
   },
   {
    "duration": 12,
    "start_time": "2024-11-13T23:32:44.535Z"
   },
   {
    "duration": 9,
    "start_time": "2024-11-13T23:32:44.548Z"
   },
   {
    "duration": 39,
    "start_time": "2024-11-13T23:32:44.558Z"
   },
   {
    "duration": 1300,
    "start_time": "2024-11-13T23:32:44.618Z"
   },
   {
    "duration": 1201,
    "start_time": "2024-11-13T23:32:45.919Z"
   },
   {
    "duration": 1264,
    "start_time": "2024-11-13T23:32:47.122Z"
   },
   {
    "duration": 46,
    "start_time": "2024-11-13T23:32:48.388Z"
   },
   {
    "duration": 1454,
    "start_time": "2024-11-13T23:32:48.436Z"
   },
   {
    "duration": 11,
    "start_time": "2024-11-13T23:32:49.891Z"
   },
   {
    "duration": 22,
    "start_time": "2024-11-13T23:32:49.904Z"
   },
   {
    "duration": 13,
    "start_time": "2024-11-13T23:32:49.928Z"
   },
   {
    "duration": 2637,
    "start_time": "2024-11-13T23:32:49.942Z"
   },
   {
    "duration": 12,
    "start_time": "2024-11-13T23:32:52.581Z"
   },
   {
    "duration": 25,
    "start_time": "2024-11-13T23:32:52.595Z"
   },
   {
    "duration": 9,
    "start_time": "2024-11-13T23:32:52.622Z"
   },
   {
    "duration": 20,
    "start_time": "2024-11-13T23:32:52.633Z"
   },
   {
    "duration": 19,
    "start_time": "2024-11-13T23:32:52.654Z"
   },
   {
    "duration": 244696,
    "start_time": "2024-11-13T23:32:52.675Z"
   },
   {
    "duration": 832,
    "start_time": "2024-11-13T23:38:00.697Z"
   },
   {
    "duration": 4153,
    "start_time": "2024-11-13T23:44:06.641Z"
   },
   {
    "duration": 838,
    "start_time": "2024-11-13T23:44:10.797Z"
   },
   {
    "duration": 7,
    "start_time": "2024-11-13T23:44:11.636Z"
   },
   {
    "duration": 13,
    "start_time": "2024-11-13T23:44:11.645Z"
   },
   {
    "duration": 6,
    "start_time": "2024-11-13T23:44:11.660Z"
   },
   {
    "duration": 57,
    "start_time": "2024-11-13T23:44:11.668Z"
   },
   {
    "duration": 110,
    "start_time": "2024-11-13T23:44:11.727Z"
   },
   {
    "duration": 12,
    "start_time": "2024-11-13T23:44:11.839Z"
   },
   {
    "duration": 9,
    "start_time": "2024-11-13T23:44:11.852Z"
   },
   {
    "duration": 31,
    "start_time": "2024-11-13T23:44:11.862Z"
   },
   {
    "duration": 1350,
    "start_time": "2024-11-13T23:44:11.917Z"
   },
   {
    "duration": 1260,
    "start_time": "2024-11-13T23:44:13.268Z"
   },
   {
    "duration": 1249,
    "start_time": "2024-11-13T23:44:14.529Z"
   },
   {
    "duration": 53,
    "start_time": "2024-11-13T23:44:15.781Z"
   },
   {
    "duration": 1440,
    "start_time": "2024-11-13T23:44:15.836Z"
   },
   {
    "duration": 9,
    "start_time": "2024-11-13T23:44:17.278Z"
   },
   {
    "duration": 10,
    "start_time": "2024-11-13T23:44:17.289Z"
   },
   {
    "duration": 29,
    "start_time": "2024-11-13T23:44:17.300Z"
   },
   {
    "duration": 2688,
    "start_time": "2024-11-13T23:44:17.331Z"
   },
   {
    "duration": 13,
    "start_time": "2024-11-13T23:44:20.021Z"
   },
   {
    "duration": 24,
    "start_time": "2024-11-13T23:44:20.036Z"
   },
   {
    "duration": 10,
    "start_time": "2024-11-13T23:44:20.062Z"
   },
   {
    "duration": 22,
    "start_time": "2024-11-13T23:44:20.074Z"
   },
   {
    "duration": 38,
    "start_time": "2024-11-13T23:44:20.097Z"
   },
   {
    "duration": 7485,
    "start_time": "2024-11-14T14:12:15.287Z"
   },
   {
    "duration": 3507,
    "start_time": "2024-11-14T14:12:22.774Z"
   },
   {
    "duration": 8,
    "start_time": "2024-11-14T14:12:26.282Z"
   },
   {
    "duration": 16,
    "start_time": "2024-11-14T14:12:26.292Z"
   },
   {
    "duration": 6,
    "start_time": "2024-11-14T14:12:26.311Z"
   },
   {
    "duration": 64,
    "start_time": "2024-11-14T14:12:26.319Z"
   },
   {
    "duration": 112,
    "start_time": "2024-11-14T14:12:26.385Z"
   },
   {
    "duration": 14,
    "start_time": "2024-11-14T14:12:26.498Z"
   },
   {
    "duration": 93,
    "start_time": "2024-11-14T14:12:26.514Z"
   },
   {
    "duration": 33,
    "start_time": "2024-11-14T14:12:26.609Z"
   },
   {
    "duration": 1232,
    "start_time": "2024-11-14T14:12:26.644Z"
   },
   {
    "duration": 1287,
    "start_time": "2024-11-14T14:12:27.878Z"
   },
   {
    "duration": 1261,
    "start_time": "2024-11-14T14:12:29.168Z"
   },
   {
    "duration": 54,
    "start_time": "2024-11-14T14:12:30.433Z"
   },
   {
    "duration": 1437,
    "start_time": "2024-11-14T14:12:30.489Z"
   },
   {
    "duration": 10,
    "start_time": "2024-11-14T14:12:31.927Z"
   },
   {
    "duration": 20,
    "start_time": "2024-11-14T14:12:31.938Z"
   },
   {
    "duration": 24,
    "start_time": "2024-11-14T14:12:31.959Z"
   },
   {
    "duration": 2656,
    "start_time": "2024-11-14T14:12:31.984Z"
   },
   {
    "duration": 16,
    "start_time": "2024-11-14T14:12:34.642Z"
   },
   {
    "duration": 31,
    "start_time": "2024-11-14T14:12:34.660Z"
   },
   {
    "duration": 10,
    "start_time": "2024-11-14T14:12:34.693Z"
   },
   {
    "duration": 24,
    "start_time": "2024-11-14T14:12:34.705Z"
   },
   {
    "duration": 20,
    "start_time": "2024-11-14T14:12:34.730Z"
   },
   {
    "duration": 149071,
    "start_time": "2024-11-14T14:12:34.777Z"
   },
   {
    "duration": 149246,
    "start_time": "2024-11-14T14:22:57.978Z"
   },
   {
    "duration": 835,
    "start_time": "2024-11-14T14:27:29.118Z"
   },
   {
    "duration": 825,
    "start_time": "2024-11-14T14:29:12.279Z"
   },
   {
    "duration": 2658,
    "start_time": "2024-11-14T14:32:22.250Z"
   },
   {
    "duration": 29638,
    "start_time": "2024-11-14T14:32:38.034Z"
   },
   {
    "duration": 8798,
    "start_time": "2024-11-14T14:33:46.707Z"
   },
   {
    "duration": 9038,
    "start_time": "2024-11-14T14:34:21.988Z"
   },
   {
    "duration": 50703,
    "start_time": "2024-11-14T14:39:26.313Z"
   },
   {
    "duration": 49262,
    "start_time": "2024-11-14T14:42:36.301Z"
   },
   {
    "duration": 623752,
    "start_time": "2024-11-14T14:45:04.535Z"
   },
   {
    "duration": 2820,
    "start_time": "2024-11-14T14:55:28.289Z"
   },
   {
    "duration": 49,
    "start_time": "2024-11-14T14:55:51.825Z"
   },
   {
    "duration": 3111,
    "start_time": "2024-11-14T14:55:56.609Z"
   },
   {
    "duration": 2990,
    "start_time": "2024-11-14T14:56:03.169Z"
   },
   {
    "duration": 23,
    "start_time": "2024-11-14T14:57:09.011Z"
   },
   {
    "duration": 2982,
    "start_time": "2024-11-14T14:57:21.890Z"
   },
   {
    "duration": 2989,
    "start_time": "2024-11-14T14:58:02.987Z"
   },
   {
    "duration": 23,
    "start_time": "2024-11-14T14:59:36.389Z"
   },
   {
    "duration": 16,
    "start_time": "2024-11-14T14:59:36.820Z"
   },
   {
    "duration": 6542,
    "start_time": "2024-11-14T15:01:00.286Z"
   },
   {
    "duration": 6283,
    "start_time": "2024-11-14T15:01:10.174Z"
   },
   {
    "duration": 8917,
    "start_time": "2024-11-14T15:01:38.024Z"
   },
   {
    "duration": 8907,
    "start_time": "2024-11-14T15:03:15.534Z"
   },
   {
    "duration": 0,
    "start_time": "2024-11-14T15:18:31.375Z"
   },
   {
    "duration": 2532,
    "start_time": "2024-11-14T15:18:37.159Z"
   },
   {
    "duration": 823,
    "start_time": "2024-11-14T15:18:39.693Z"
   },
   {
    "duration": 7,
    "start_time": "2024-11-14T15:18:40.517Z"
   },
   {
    "duration": 13,
    "start_time": "2024-11-14T15:18:40.525Z"
   },
   {
    "duration": 7,
    "start_time": "2024-11-14T15:18:40.540Z"
   },
   {
    "duration": 57,
    "start_time": "2024-11-14T15:18:40.548Z"
   },
   {
    "duration": 114,
    "start_time": "2024-11-14T15:18:40.606Z"
   },
   {
    "duration": 12,
    "start_time": "2024-11-14T15:18:40.721Z"
   },
   {
    "duration": 44,
    "start_time": "2024-11-14T15:18:40.734Z"
   },
   {
    "duration": 28,
    "start_time": "2024-11-14T15:18:40.780Z"
   },
   {
    "duration": 1284,
    "start_time": "2024-11-14T15:18:40.810Z"
   },
   {
    "duration": 1224,
    "start_time": "2024-11-14T15:18:42.097Z"
   },
   {
    "duration": 1226,
    "start_time": "2024-11-14T15:18:43.323Z"
   },
   {
    "duration": 43,
    "start_time": "2024-11-14T15:18:44.553Z"
   },
   {
    "duration": 1293,
    "start_time": "2024-11-14T15:18:44.598Z"
   },
   {
    "duration": 11,
    "start_time": "2024-11-14T15:18:45.893Z"
   },
   {
    "duration": 57,
    "start_time": "2024-11-14T15:18:45.906Z"
   },
   {
    "duration": 15,
    "start_time": "2024-11-14T15:18:45.965Z"
   },
   {
    "duration": 2750,
    "start_time": "2024-11-14T15:18:45.982Z"
   },
   {
    "duration": 13,
    "start_time": "2024-11-14T15:18:48.734Z"
   },
   {
    "duration": 40,
    "start_time": "2024-11-14T15:18:48.748Z"
   },
   {
    "duration": 10,
    "start_time": "2024-11-14T15:18:48.790Z"
   },
   {
    "duration": 82,
    "start_time": "2024-11-14T15:18:48.801Z"
   },
   {
    "duration": 17,
    "start_time": "2024-11-14T15:18:48.885Z"
   },
   {
    "duration": 8607,
    "start_time": "2024-11-14T15:18:48.903Z"
   },
   {
    "duration": 9464,
    "start_time": "2024-11-14T15:18:57.512Z"
   },
   {
    "duration": 1419754,
    "start_time": "2024-11-14T15:19:06.977Z"
   },
   {
    "duration": 2504,
    "start_time": "2024-11-14T15:46:35.793Z"
   },
   {
    "duration": 806,
    "start_time": "2024-11-14T15:46:38.300Z"
   },
   {
    "duration": 7,
    "start_time": "2024-11-14T15:46:39.107Z"
   },
   {
    "duration": 25,
    "start_time": "2024-11-14T15:46:39.116Z"
   },
   {
    "duration": 7,
    "start_time": "2024-11-14T15:46:39.144Z"
   },
   {
    "duration": 44,
    "start_time": "2024-11-14T15:46:39.153Z"
   },
   {
    "duration": 105,
    "start_time": "2024-11-14T15:46:39.198Z"
   },
   {
    "duration": 12,
    "start_time": "2024-11-14T15:46:39.305Z"
   },
   {
    "duration": 9,
    "start_time": "2024-11-14T15:46:39.319Z"
   },
   {
    "duration": 52,
    "start_time": "2024-11-14T15:46:39.330Z"
   },
   {
    "duration": 1372,
    "start_time": "2024-11-14T15:46:39.384Z"
   },
   {
    "duration": 1109,
    "start_time": "2024-11-14T15:46:40.757Z"
   },
   {
    "duration": 1275,
    "start_time": "2024-11-14T15:46:41.876Z"
   },
   {
    "duration": 46,
    "start_time": "2024-11-14T15:46:43.154Z"
   },
   {
    "duration": 1411,
    "start_time": "2024-11-14T15:46:43.201Z"
   },
   {
    "duration": 10,
    "start_time": "2024-11-14T15:46:44.613Z"
   },
   {
    "duration": 11,
    "start_time": "2024-11-14T15:46:44.624Z"
   },
   {
    "duration": 40,
    "start_time": "2024-11-14T15:46:44.636Z"
   },
   {
    "duration": 2551,
    "start_time": "2024-11-14T15:46:44.677Z"
   },
   {
    "duration": 13,
    "start_time": "2024-11-14T15:46:47.229Z"
   },
   {
    "duration": 31,
    "start_time": "2024-11-14T15:46:47.244Z"
   },
   {
    "duration": 11,
    "start_time": "2024-11-14T15:46:47.277Z"
   },
   {
    "duration": 24,
    "start_time": "2024-11-14T15:46:47.289Z"
   },
   {
    "duration": 16,
    "start_time": "2024-11-14T15:46:47.314Z"
   },
   {
    "duration": 8723,
    "start_time": "2024-11-14T15:46:47.332Z"
   },
   {
    "duration": 9376,
    "start_time": "2024-11-14T15:46:56.057Z"
   },
   {
    "duration": 572547,
    "start_time": "2024-11-14T15:47:05.435Z"
   },
   {
    "duration": 17,
    "start_time": "2024-11-14T15:56:44.528Z"
   },
   {
    "duration": 18,
    "start_time": "2024-11-14T15:56:49.295Z"
   },
   {
    "duration": 62384,
    "start_time": "2024-11-14T15:57:02.704Z"
   },
   {
    "duration": 351,
    "start_time": "2024-11-14T17:01:23.628Z"
   },
   {
    "duration": 36941,
    "start_time": "2024-11-14T17:02:15.509Z"
   },
   {
    "duration": 37507,
    "start_time": "2024-11-14T17:03:01.933Z"
   },
   {
    "duration": 85323,
    "start_time": "2024-11-14T17:24:14.609Z"
   },
   {
    "duration": 82259,
    "start_time": "2024-11-14T17:27:36.204Z"
   },
   {
    "duration": 60124,
    "start_time": "2024-11-14T17:29:27.910Z"
   },
   {
    "duration": 70752,
    "start_time": "2024-11-14T17:30:48.688Z"
   },
   {
    "duration": 81958,
    "start_time": "2024-11-14T17:32:23.512Z"
   },
   {
    "duration": 144683,
    "start_time": "2024-11-14T17:34:36.643Z"
   },
   {
    "duration": 161031,
    "start_time": "2024-11-14T17:37:56.102Z"
   },
   {
    "duration": 18,
    "start_time": "2024-11-14T17:41:23.113Z"
   },
   {
    "duration": 19,
    "start_time": "2024-11-14T17:41:36.929Z"
   },
   {
    "duration": 19,
    "start_time": "2024-11-14T17:41:49.921Z"
   },
   {
    "duration": 166350,
    "start_time": "2024-11-14T17:42:21.426Z"
   },
   {
    "duration": 104524,
    "start_time": "2024-11-14T17:50:13.730Z"
   },
   {
    "duration": 15,
    "start_time": "2024-11-14T18:12:23.879Z"
   },
   {
    "duration": 12,
    "start_time": "2024-11-14T18:12:59.031Z"
   },
   {
    "duration": 15873,
    "start_time": "2024-11-14T18:29:36.206Z"
   },
   {
    "duration": 116339,
    "start_time": "2024-11-14T18:35:08.956Z"
   },
   {
    "duration": 103,
    "start_time": "2024-11-14T18:51:42.005Z"
   },
   {
    "duration": 101,
    "start_time": "2024-11-14T18:52:12.780Z"
   },
   {
    "duration": 58,
    "start_time": "2024-11-14T18:52:15.276Z"
   },
   {
    "duration": 60,
    "start_time": "2024-11-14T18:52:18.396Z"
   },
   {
    "duration": 120338,
    "start_time": "2024-11-14T18:52:33.621Z"
   },
   {
    "duration": 119756,
    "start_time": "2024-11-14T18:55:23.503Z"
   },
   {
    "duration": 15,
    "start_time": "2024-11-14T19:03:11.350Z"
   },
   {
    "duration": 16,
    "start_time": "2024-11-14T19:03:20.430Z"
   },
   {
    "duration": 14,
    "start_time": "2024-11-14T19:03:23.990Z"
   },
   {
    "duration": 5,
    "start_time": "2024-11-14T19:05:28.431Z"
   },
   {
    "duration": 16,
    "start_time": "2024-11-14T19:05:33.128Z"
   },
   {
    "duration": 116694,
    "start_time": "2024-11-14T19:05:49.648Z"
   },
   {
    "duration": 4235,
    "start_time": "2024-11-14T19:17:56.427Z"
   },
   {
    "duration": 842,
    "start_time": "2024-11-14T19:18:00.664Z"
   },
   {
    "duration": 7,
    "start_time": "2024-11-14T19:18:01.510Z"
   },
   {
    "duration": 19,
    "start_time": "2024-11-14T19:18:01.519Z"
   },
   {
    "duration": 11,
    "start_time": "2024-11-14T19:18:01.540Z"
   },
   {
    "duration": 29,
    "start_time": "2024-11-14T19:18:01.576Z"
   },
   {
    "duration": 122,
    "start_time": "2024-11-14T19:18:01.607Z"
   },
   {
    "duration": 17,
    "start_time": "2024-11-14T19:18:01.731Z"
   },
   {
    "duration": 25,
    "start_time": "2024-11-14T19:18:01.753Z"
   },
   {
    "duration": 81,
    "start_time": "2024-11-14T19:18:01.780Z"
   },
   {
    "duration": 1347,
    "start_time": "2024-11-14T19:18:01.863Z"
   },
   {
    "duration": 1274,
    "start_time": "2024-11-14T19:18:03.212Z"
   },
   {
    "duration": 1304,
    "start_time": "2024-11-14T19:18:04.487Z"
   },
   {
    "duration": 42,
    "start_time": "2024-11-14T19:18:05.793Z"
   },
   {
    "duration": 1625,
    "start_time": "2024-11-14T19:18:05.837Z"
   },
   {
    "duration": 20,
    "start_time": "2024-11-14T19:18:07.464Z"
   },
   {
    "duration": 39,
    "start_time": "2024-11-14T19:18:07.486Z"
   },
   {
    "duration": 16,
    "start_time": "2024-11-14T19:18:07.527Z"
   },
   {
    "duration": 2723,
    "start_time": "2024-11-14T19:18:07.545Z"
   },
   {
    "duration": 15,
    "start_time": "2024-11-14T19:18:10.270Z"
   },
   {
    "duration": 22,
    "start_time": "2024-11-14T19:18:10.286Z"
   },
   {
    "duration": 9,
    "start_time": "2024-11-14T19:18:10.310Z"
   },
   {
    "duration": 22,
    "start_time": "2024-11-14T19:18:10.321Z"
   },
   {
    "duration": 41,
    "start_time": "2024-11-14T19:18:10.345Z"
   },
   {
    "duration": 8855,
    "start_time": "2024-11-14T19:18:10.388Z"
   },
   {
    "duration": 63462,
    "start_time": "2024-11-14T19:18:19.244Z"
   },
   {
    "duration": 278,
    "start_time": "2024-11-14T19:19:22.711Z"
   },
   {
    "duration": 9289,
    "start_time": "2024-11-14T19:19:22.991Z"
   },
   {
    "duration": 138,
    "start_time": "2024-11-14T19:19:32.282Z"
   },
   {
    "duration": 0,
    "start_time": "2024-11-14T19:19:32.422Z"
   },
   {
    "duration": 0,
    "start_time": "2024-11-14T19:19:32.424Z"
   },
   {
    "duration": 9208,
    "start_time": "2024-11-14T19:21:35.216Z"
   },
   {
    "duration": 104444,
    "start_time": "2024-11-14T19:21:44.426Z"
   },
   {
    "duration": 203,
    "start_time": "2024-11-14T19:23:28.876Z"
   },
   {
    "duration": 116425,
    "start_time": "2024-11-14T19:23:29.081Z"
   },
   {
    "duration": 116554,
    "start_time": "2024-11-14T19:27:34.287Z"
   },
   {
    "duration": 114835,
    "start_time": "2024-11-14T19:31:15.811Z"
   },
   {
    "duration": 34,
    "start_time": "2024-11-14T19:35:49.071Z"
   },
   {
    "duration": 24,
    "start_time": "2024-11-14T19:35:52.143Z"
   },
   {
    "duration": 11,
    "start_time": "2024-11-14T19:41:47.652Z"
   },
   {
    "duration": 11,
    "start_time": "2024-11-14T19:42:07.092Z"
   },
   {
    "duration": 5,
    "start_time": "2024-11-14T19:42:34.101Z"
   },
   {
    "duration": 16,
    "start_time": "2024-11-14T19:42:46.900Z"
   },
   {
    "duration": 10,
    "start_time": "2024-11-14T19:43:02.837Z"
   },
   {
    "duration": 10,
    "start_time": "2024-11-14T19:45:17.113Z"
   },
   {
    "duration": 277,
    "start_time": "2024-11-14T19:56:36.065Z"
   },
   {
    "duration": 143,
    "start_time": "2024-11-14T19:56:42.577Z"
   },
   {
    "duration": 5,
    "start_time": "2024-11-14T19:58:36.003Z"
   },
   {
    "duration": 20,
    "start_time": "2024-11-14T20:04:15.776Z"
   },
   {
    "duration": 19,
    "start_time": "2024-11-14T20:04:19.816Z"
   },
   {
    "duration": 21,
    "start_time": "2024-11-14T20:04:31.056Z"
   },
   {
    "duration": 16,
    "start_time": "2024-11-14T20:05:05.185Z"
   },
   {
    "duration": 15,
    "start_time": "2024-11-14T20:08:51.716Z"
   },
   {
    "duration": 15,
    "start_time": "2024-11-14T20:08:53.676Z"
   },
   {
    "duration": 104,
    "start_time": "2024-11-14T20:09:33.877Z"
   },
   {
    "duration": 21,
    "start_time": "2024-11-14T20:10:46.694Z"
   },
   {
    "duration": 1223018,
    "start_time": "2024-11-14T20:13:03.743Z"
   },
   {
    "duration": 109104,
    "start_time": "2024-11-14T20:39:56.812Z"
   },
   {
    "duration": 141,
    "start_time": "2024-11-14T20:41:45.918Z"
   },
   {
    "duration": 15,
    "start_time": "2024-11-14T20:41:46.060Z"
   },
   {
    "duration": 109298,
    "start_time": "2024-11-14T20:43:26.716Z"
   },
   {
    "duration": 140,
    "start_time": "2024-11-14T20:45:16.016Z"
   },
   {
    "duration": 18,
    "start_time": "2024-11-14T20:45:16.158Z"
   },
   {
    "duration": 1412664,
    "start_time": "2024-11-14T20:46:33.361Z"
   },
   {
    "duration": 140939,
    "start_time": "2024-11-14T21:12:48.541Z"
   },
   {
    "duration": 177,
    "start_time": "2024-11-14T21:15:09.482Z"
   },
   {
    "duration": 21,
    "start_time": "2024-11-14T21:15:09.661Z"
   },
   {
    "duration": 14,
    "start_time": "2024-11-15T09:52:36.933Z"
   },
   {
    "duration": 4,
    "start_time": "2024-11-15T09:52:40.655Z"
   },
   {
    "duration": 7757,
    "start_time": "2024-11-15T19:18:03.145Z"
   },
   {
    "duration": 1255,
    "start_time": "2024-11-15T19:18:10.904Z"
   },
   {
    "duration": 6,
    "start_time": "2024-11-15T19:18:12.160Z"
   },
   {
    "duration": 80,
    "start_time": "2024-11-15T19:18:12.167Z"
   },
   {
    "duration": 6,
    "start_time": "2024-11-15T19:18:12.248Z"
   },
   {
    "duration": 25,
    "start_time": "2024-11-15T19:18:12.255Z"
   },
   {
    "duration": 94,
    "start_time": "2024-11-15T19:18:12.281Z"
   },
   {
    "duration": 11,
    "start_time": "2024-11-15T19:18:12.376Z"
   },
   {
    "duration": 61,
    "start_time": "2024-11-15T19:18:12.388Z"
   },
   {
    "duration": 93,
    "start_time": "2024-11-15T19:18:12.451Z"
   },
   {
    "duration": 1007,
    "start_time": "2024-11-15T19:18:12.546Z"
   },
   {
    "duration": 1014,
    "start_time": "2024-11-15T19:18:13.554Z"
   },
   {
    "duration": 1014,
    "start_time": "2024-11-15T19:18:14.570Z"
   },
   {
    "duration": 42,
    "start_time": "2024-11-15T19:18:15.585Z"
   },
   {
    "duration": 1175,
    "start_time": "2024-11-15T19:18:15.629Z"
   },
   {
    "duration": 11,
    "start_time": "2024-11-15T19:18:16.806Z"
   },
   {
    "duration": 13,
    "start_time": "2024-11-15T19:18:16.818Z"
   },
   {
    "duration": 17,
    "start_time": "2024-11-15T19:18:16.833Z"
   },
   {
    "duration": 2147,
    "start_time": "2024-11-15T19:18:16.851Z"
   },
   {
    "duration": 11,
    "start_time": "2024-11-15T19:18:18.999Z"
   },
   {
    "duration": 31,
    "start_time": "2024-11-15T19:18:19.012Z"
   },
   {
    "duration": 8,
    "start_time": "2024-11-15T19:18:19.044Z"
   },
   {
    "duration": 18,
    "start_time": "2024-11-15T19:18:19.054Z"
   },
   {
    "duration": 4,
    "start_time": "2024-11-15T19:18:19.074Z"
   },
   {
    "duration": 16,
    "start_time": "2024-11-15T19:18:19.079Z"
   },
   {
    "duration": 9126,
    "start_time": "2024-11-15T19:18:19.096Z"
   },
   {
    "duration": 4,
    "start_time": "2024-11-15T19:18:28.224Z"
   },
   {
    "duration": 138,
    "start_time": "2024-11-15T19:19:53.177Z"
   },
   {
    "duration": 3070201,
    "start_time": "2024-11-15T19:20:08.126Z"
   },
   {
    "duration": 3065014,
    "start_time": "2024-11-15T20:56:08.336Z"
   },
   {
    "duration": 9,
    "start_time": "2024-11-15T22:02:16.239Z"
   },
   {
    "duration": 10,
    "start_time": "2024-11-15T22:02:23.215Z"
   },
   {
    "duration": 11,
    "start_time": "2024-11-15T22:02:46.183Z"
   },
   {
    "duration": 8,
    "start_time": "2024-11-15T22:02:51.463Z"
   },
   {
    "duration": 11,
    "start_time": "2024-11-15T22:02:58.695Z"
   },
   {
    "duration": 8,
    "start_time": "2024-11-15T22:03:12.336Z"
   },
   {
    "duration": 11,
    "start_time": "2024-11-15T22:13:41.001Z"
   },
   {
    "duration": 12,
    "start_time": "2024-11-15T22:13:44.760Z"
   },
   {
    "duration": 7454,
    "start_time": "2024-11-17T14:55:14.445Z"
   },
   {
    "duration": 1506,
    "start_time": "2024-11-17T14:55:21.901Z"
   },
   {
    "duration": 7,
    "start_time": "2024-11-17T14:55:23.409Z"
   },
   {
    "duration": 68,
    "start_time": "2024-11-17T14:55:23.417Z"
   },
   {
    "duration": 7,
    "start_time": "2024-11-17T14:55:23.487Z"
   },
   {
    "duration": 29,
    "start_time": "2024-11-17T14:55:23.496Z"
   },
   {
    "duration": 102,
    "start_time": "2024-11-17T14:55:23.527Z"
   },
   {
    "duration": 14,
    "start_time": "2024-11-17T14:55:23.631Z"
   },
   {
    "duration": 87,
    "start_time": "2024-11-17T14:55:23.647Z"
   },
   {
    "duration": 32,
    "start_time": "2024-11-17T14:55:23.736Z"
   },
   {
    "duration": 1212,
    "start_time": "2024-11-17T14:55:23.769Z"
   },
   {
    "duration": 1263,
    "start_time": "2024-11-17T14:55:24.983Z"
   },
   {
    "duration": 1285,
    "start_time": "2024-11-17T14:55:26.247Z"
   },
   {
    "duration": 39,
    "start_time": "2024-11-17T14:55:27.534Z"
   },
   {
    "duration": 1391,
    "start_time": "2024-11-17T14:55:31.599Z"
   },
   {
    "duration": 1362,
    "start_time": "2024-11-17T14:55:58.207Z"
   },
   {
    "duration": 1282,
    "start_time": "2024-11-17T14:56:02.807Z"
   },
   {
    "duration": 7,
    "start_time": "2024-11-17T17:13:19.532Z"
   },
   {
    "duration": 8,
    "start_time": "2024-11-17T17:13:30.475Z"
   },
   {
    "duration": 60,
    "start_time": "2024-11-17T17:13:42.099Z"
   },
   {
    "duration": 76,
    "start_time": "2024-11-17T17:13:47.755Z"
   },
   {
    "duration": 82,
    "start_time": "2024-11-17T17:14:31.811Z"
   },
   {
    "duration": 62,
    "start_time": "2024-11-17T17:14:39.355Z"
   },
   {
    "duration": 63,
    "start_time": "2024-11-17T17:14:43.492Z"
   },
   {
    "duration": 62,
    "start_time": "2024-11-17T17:15:03.573Z"
   },
   {
    "duration": 122,
    "start_time": "2024-11-17T17:15:15.901Z"
   },
   {
    "duration": 120,
    "start_time": "2024-11-17T17:15:45.405Z"
   },
   {
    "duration": 124,
    "start_time": "2024-11-17T17:15:51.052Z"
   },
   {
    "duration": 118,
    "start_time": "2024-11-17T17:18:46.783Z"
   },
   {
    "duration": 139,
    "start_time": "2024-11-17T17:19:01.670Z"
   },
   {
    "duration": 120,
    "start_time": "2024-11-17T17:19:40.231Z"
   },
   {
    "duration": 119,
    "start_time": "2024-11-17T17:19:56.040Z"
   },
   {
    "duration": 1587,
    "start_time": "2024-11-17T17:21:28.656Z"
   },
   {
    "duration": 1479,
    "start_time": "2024-11-17T17:21:32.009Z"
   },
   {
    "duration": 1336,
    "start_time": "2024-11-17T17:23:39.986Z"
   },
   {
    "duration": 135,
    "start_time": "2024-11-17T17:27:49.437Z"
   },
   {
    "duration": 151,
    "start_time": "2024-11-17T17:28:06.454Z"
   },
   {
    "duration": 148,
    "start_time": "2024-11-17T17:31:31.289Z"
   },
   {
    "duration": 3109,
    "start_time": "2024-11-17T17:31:44.433Z"
   },
   {
    "duration": 3151,
    "start_time": "2024-11-17T17:31:54.114Z"
   },
   {
    "duration": 3281,
    "start_time": "2024-11-17T17:32:24.217Z"
   },
   {
    "duration": 3123,
    "start_time": "2024-11-17T17:32:54.186Z"
   },
   {
    "duration": 2803,
    "start_time": "2024-11-17T19:40:14.337Z"
   },
   {
    "duration": 17,
    "start_time": "2024-11-17T19:43:09.026Z"
   },
   {
    "duration": 16,
    "start_time": "2024-11-17T19:43:17.562Z"
   },
   {
    "duration": 19,
    "start_time": "2024-11-17T19:43:53.891Z"
   },
   {
    "duration": 15,
    "start_time": "2024-11-17T19:43:59.042Z"
   },
   {
    "duration": 2681,
    "start_time": "2024-11-17T19:44:25.659Z"
   },
   {
    "duration": 2702,
    "start_time": "2024-11-17T19:45:29.301Z"
   },
   {
    "duration": 24,
    "start_time": "2024-11-17T19:45:40.717Z"
   },
   {
    "duration": 2602,
    "start_time": "2024-11-17T19:45:57.909Z"
   },
   {
    "duration": 851,
    "start_time": "2024-11-17T19:46:00.514Z"
   },
   {
    "duration": 7,
    "start_time": "2024-11-17T19:46:01.367Z"
   },
   {
    "duration": 32,
    "start_time": "2024-11-17T19:46:01.377Z"
   },
   {
    "duration": 25,
    "start_time": "2024-11-17T19:46:01.411Z"
   },
   {
    "duration": 44,
    "start_time": "2024-11-17T19:46:01.437Z"
   },
   {
    "duration": 95,
    "start_time": "2024-11-17T19:46:01.482Z"
   },
   {
    "duration": 13,
    "start_time": "2024-11-17T19:46:01.578Z"
   },
   {
    "duration": 11,
    "start_time": "2024-11-17T19:46:01.593Z"
   },
   {
    "duration": 28,
    "start_time": "2024-11-17T19:46:01.617Z"
   },
   {
    "duration": 1513,
    "start_time": "2024-11-17T19:46:01.647Z"
   },
   {
    "duration": 1303,
    "start_time": "2024-11-17T19:46:03.162Z"
   },
   {
    "duration": 1328,
    "start_time": "2024-11-17T19:46:04.467Z"
   },
   {
    "duration": 44,
    "start_time": "2024-11-17T19:46:05.797Z"
   },
   {
    "duration": 1462,
    "start_time": "2024-11-17T19:46:05.843Z"
   },
   {
    "duration": 14,
    "start_time": "2024-11-17T19:46:07.307Z"
   },
   {
    "duration": 15,
    "start_time": "2024-11-17T19:46:07.323Z"
   },
   {
    "duration": 20,
    "start_time": "2024-11-17T19:46:07.339Z"
   },
   {
    "duration": 3368,
    "start_time": "2024-11-17T19:46:07.360Z"
   },
   {
    "duration": 20,
    "start_time": "2024-11-17T19:46:10.731Z"
   },
   {
    "duration": 34,
    "start_time": "2024-11-17T19:46:10.753Z"
   },
   {
    "duration": 10,
    "start_time": "2024-11-17T19:46:10.789Z"
   },
   {
    "duration": 33,
    "start_time": "2024-11-17T19:46:10.801Z"
   },
   {
    "duration": 5,
    "start_time": "2024-11-17T19:46:10.836Z"
   },
   {
    "duration": 17,
    "start_time": "2024-11-17T19:46:10.843Z"
   },
   {
    "duration": 24,
    "start_time": "2024-11-17T19:46:17.628Z"
   },
   {
    "duration": 18,
    "start_time": "2024-11-17T19:49:29.576Z"
   },
   {
    "duration": 29,
    "start_time": "2024-11-17T19:49:37.768Z"
   },
   {
    "duration": 199446,
    "start_time": "2024-11-17T19:53:18.572Z"
   },
   {
    "duration": 257040,
    "start_time": "2024-11-17T20:03:54.790Z"
   },
   {
    "duration": 284562,
    "start_time": "2024-11-17T20:12:14.757Z"
   },
   {
    "duration": 634,
    "start_time": "2024-11-17T20:18:41.386Z"
   },
   {
    "duration": 23,
    "start_time": "2024-11-17T20:23:56.295Z"
   },
   {
    "duration": 22,
    "start_time": "2024-11-17T20:35:15.963Z"
   },
   {
    "duration": 10690,
    "start_time": "2024-11-17T20:36:03.939Z"
   },
   {
    "duration": 10480,
    "start_time": "2024-11-17T20:40:15.039Z"
   },
   {
    "duration": 11005,
    "start_time": "2024-11-17T20:41:01.623Z"
   },
   {
    "duration": 16967,
    "start_time": "2024-11-17T20:42:09.056Z"
   },
   {
    "duration": 130525,
    "start_time": "2024-11-17T20:43:21.497Z"
   },
   {
    "duration": 75709,
    "start_time": "2024-11-17T20:48:33.515Z"
   },
   {
    "duration": 1788,
    "start_time": "2024-11-17T21:09:25.637Z"
   },
   {
    "duration": 694005,
    "start_time": "2024-11-17T21:10:09.613Z"
   },
   {
    "duration": 5,
    "start_time": "2024-11-17T21:28:42.343Z"
   },
   {
    "duration": 376600,
    "start_time": "2024-11-17T21:28:46.822Z"
   },
   {
    "duration": 7115,
    "start_time": "2024-11-17T21:37:06.408Z"
   },
   {
    "duration": 1909,
    "start_time": "2024-11-17T21:37:43.728Z"
   },
   {
    "duration": 145,
    "start_time": "2024-11-17T21:40:46.280Z"
   },
   {
    "duration": 537797,
    "start_time": "2024-11-17T21:40:46.429Z"
   },
   {
    "duration": 122495,
    "start_time": "2024-11-17T21:49:44.227Z"
   },
   {
    "duration": 2800,
    "start_time": "2024-11-17T21:51:46.724Z"
   },
   {
    "duration": 16,
    "start_time": "2024-11-17T21:51:49.526Z"
   },
   {
    "duration": 5306,
    "start_time": "2024-11-17T21:56:34.232Z"
   },
   {
    "duration": 4316,
    "start_time": "2024-11-17T21:57:18.808Z"
   },
   {
    "duration": 18,
    "start_time": "2024-11-17T21:59:45.313Z"
   },
   {
    "duration": 271,
    "start_time": "2024-11-17T22:01:18.651Z"
   },
   {
    "duration": 1254293,
    "start_time": "2024-11-17T22:01:18.924Z"
   },
   {
    "duration": 210115,
    "start_time": "2024-11-17T22:22:13.220Z"
   },
   {
    "duration": 0,
    "start_time": "2024-11-17T22:25:43.337Z"
   },
   {
    "duration": 0,
    "start_time": "2024-11-17T22:25:43.338Z"
   },
   {
    "duration": 25155,
    "start_time": "2024-11-17T22:26:10.265Z"
   },
   {
    "duration": 1,
    "start_time": "2024-11-17T22:26:35.421Z"
   },
   {
    "duration": 0,
    "start_time": "2024-11-17T22:26:35.423Z"
   },
   {
    "duration": 143426,
    "start_time": "2024-11-17T22:26:42.402Z"
   },
   {
    "duration": 295,
    "start_time": "2024-11-17T22:29:05.829Z"
   },
   {
    "duration": 18,
    "start_time": "2024-11-17T22:29:06.126Z"
   },
   {
    "duration": 125,
    "start_time": "2024-11-17T22:48:43.777Z"
   },
   {
    "duration": 137,
    "start_time": "2024-11-17T22:49:24.696Z"
   },
   {
    "duration": 117,
    "start_time": "2024-11-17T22:49:38.480Z"
   },
   {
    "duration": 50,
    "start_time": "2024-11-18T07:39:26.838Z"
   },
   {
    "duration": 7786,
    "start_time": "2024-11-18T07:39:39.504Z"
   },
   {
    "duration": 1473,
    "start_time": "2024-11-18T07:39:47.292Z"
   },
   {
    "duration": 9,
    "start_time": "2024-11-18T07:39:48.767Z"
   },
   {
    "duration": 15,
    "start_time": "2024-11-18T07:39:48.778Z"
   },
   {
    "duration": 7,
    "start_time": "2024-11-18T07:39:48.795Z"
   },
   {
    "duration": 53,
    "start_time": "2024-11-18T07:39:48.803Z"
   },
   {
    "duration": 178,
    "start_time": "2024-11-18T07:39:48.858Z"
   },
   {
    "duration": 12,
    "start_time": "2024-11-18T07:39:49.038Z"
   },
   {
    "duration": 68,
    "start_time": "2024-11-18T07:39:49.051Z"
   },
   {
    "duration": 32,
    "start_time": "2024-11-18T07:39:49.121Z"
   },
   {
    "duration": 1266,
    "start_time": "2024-11-18T07:39:49.155Z"
   },
   {
    "duration": 1271,
    "start_time": "2024-11-18T07:39:50.423Z"
   },
   {
    "duration": 1221,
    "start_time": "2024-11-18T07:39:51.696Z"
   },
   {
    "duration": 45,
    "start_time": "2024-11-18T07:39:52.920Z"
   },
   {
    "duration": 1402,
    "start_time": "2024-11-18T07:39:52.967Z"
   },
   {
    "duration": 16,
    "start_time": "2024-11-18T07:39:54.371Z"
   },
   {
    "duration": 76,
    "start_time": "2024-11-18T07:39:54.389Z"
   },
   {
    "duration": 29,
    "start_time": "2024-11-18T07:39:54.467Z"
   },
   {
    "duration": 3153,
    "start_time": "2024-11-18T07:39:54.498Z"
   },
   {
    "duration": 13,
    "start_time": "2024-11-18T07:39:57.653Z"
   },
   {
    "duration": 34,
    "start_time": "2024-11-18T07:39:57.668Z"
   },
   {
    "duration": 14,
    "start_time": "2024-11-18T07:39:57.704Z"
   },
   {
    "duration": 28,
    "start_time": "2024-11-18T07:39:57.720Z"
   },
   {
    "duration": 5,
    "start_time": "2024-11-18T07:39:57.750Z"
   },
   {
    "duration": 17,
    "start_time": "2024-11-18T07:39:57.756Z"
   },
   {
    "duration": 789,
    "start_time": "2024-11-18T07:40:39.414Z"
   },
   {
    "duration": 273,
    "start_time": "2024-11-18T07:40:46.878Z"
   },
   {
    "duration": 481,
    "start_time": "2024-11-18T07:41:17.063Z"
   },
   {
    "duration": 21882644,
    "start_time": "2024-11-18T07:41:27.023Z"
   },
   {
    "duration": 4154,
    "start_time": "2024-11-18T13:54:10.857Z"
   },
   {
    "duration": 801,
    "start_time": "2024-11-18T13:54:15.013Z"
   },
   {
    "duration": 7,
    "start_time": "2024-11-18T13:54:15.816Z"
   },
   {
    "duration": 23,
    "start_time": "2024-11-18T13:54:15.825Z"
   },
   {
    "duration": 6,
    "start_time": "2024-11-18T13:54:15.850Z"
   },
   {
    "duration": 31,
    "start_time": "2024-11-18T13:54:15.858Z"
   },
   {
    "duration": 130,
    "start_time": "2024-11-18T13:54:15.891Z"
   },
   {
    "duration": 23,
    "start_time": "2024-11-18T13:54:16.022Z"
   },
   {
    "duration": 9,
    "start_time": "2024-11-18T13:54:16.046Z"
   },
   {
    "duration": 46,
    "start_time": "2024-11-18T13:54:16.057Z"
   },
   {
    "duration": 1339,
    "start_time": "2024-11-18T13:54:16.105Z"
   },
   {
    "duration": 1252,
    "start_time": "2024-11-18T13:54:17.446Z"
   },
   {
    "duration": 1397,
    "start_time": "2024-11-18T13:54:18.700Z"
   },
   {
    "duration": 49,
    "start_time": "2024-11-18T13:54:20.098Z"
   },
   {
    "duration": 1384,
    "start_time": "2024-11-18T13:54:20.148Z"
   },
   {
    "duration": 15,
    "start_time": "2024-11-18T13:54:21.534Z"
   },
   {
    "duration": 23,
    "start_time": "2024-11-18T13:54:21.550Z"
   },
   {
    "duration": 17,
    "start_time": "2024-11-18T13:54:21.575Z"
   },
   {
    "duration": 3061,
    "start_time": "2024-11-18T13:54:21.594Z"
   },
   {
    "duration": 15,
    "start_time": "2024-11-18T13:54:24.657Z"
   },
   {
    "duration": 23,
    "start_time": "2024-11-18T13:54:24.673Z"
   },
   {
    "duration": 10,
    "start_time": "2024-11-18T13:54:24.697Z"
   },
   {
    "duration": 20,
    "start_time": "2024-11-18T13:54:24.709Z"
   },
   {
    "duration": 14,
    "start_time": "2024-11-18T13:54:24.731Z"
   },
   {
    "duration": 29,
    "start_time": "2024-11-18T13:54:24.746Z"
   },
   {
    "duration": 2893,
    "start_time": "2024-11-18T13:54:28.854Z"
   },
   {
    "duration": 2895,
    "start_time": "2024-11-18T13:55:42.255Z"
   },
   {
    "duration": 428303,
    "start_time": "2024-11-18T13:56:12.353Z"
   },
   {
    "duration": 1240962,
    "start_time": "2024-11-18T14:05:16.106Z"
   },
   {
    "duration": 240419,
    "start_time": "2024-11-18T14:26:06.143Z"
   },
   {
    "duration": 4369,
    "start_time": "2024-11-18T14:30:29.661Z"
   },
   {
    "duration": 873,
    "start_time": "2024-11-18T14:30:34.032Z"
   },
   {
    "duration": 8,
    "start_time": "2024-11-18T14:30:34.908Z"
   },
   {
    "duration": 28,
    "start_time": "2024-11-18T14:30:34.917Z"
   },
   {
    "duration": 7,
    "start_time": "2024-11-18T14:30:34.948Z"
   },
   {
    "duration": 37,
    "start_time": "2024-11-18T14:30:34.956Z"
   },
   {
    "duration": 121,
    "start_time": "2024-11-18T14:30:34.995Z"
   },
   {
    "duration": 12,
    "start_time": "2024-11-18T14:30:35.118Z"
   },
   {
    "duration": 22,
    "start_time": "2024-11-18T14:30:35.143Z"
   },
   {
    "duration": 47,
    "start_time": "2024-11-18T14:30:35.167Z"
   },
   {
    "duration": 1382,
    "start_time": "2024-11-18T14:30:35.217Z"
   },
   {
    "duration": 1334,
    "start_time": "2024-11-18T14:30:36.601Z"
   },
   {
    "duration": 1348,
    "start_time": "2024-11-18T14:30:37.937Z"
   },
   {
    "duration": 39,
    "start_time": "2024-11-18T14:30:39.289Z"
   },
   {
    "duration": 1530,
    "start_time": "2024-11-18T14:30:39.329Z"
   },
   {
    "duration": 16,
    "start_time": "2024-11-18T14:30:40.860Z"
   },
   {
    "duration": 11,
    "start_time": "2024-11-18T14:30:40.878Z"
   },
   {
    "duration": 18,
    "start_time": "2024-11-18T14:30:40.891Z"
   },
   {
    "duration": 3248,
    "start_time": "2024-11-18T14:30:40.911Z"
   },
   {
    "duration": 14,
    "start_time": "2024-11-18T14:30:44.160Z"
   },
   {
    "duration": 28,
    "start_time": "2024-11-18T14:30:44.176Z"
   },
   {
    "duration": 11,
    "start_time": "2024-11-18T14:30:44.205Z"
   },
   {
    "duration": 29,
    "start_time": "2024-11-18T14:30:44.217Z"
   },
   {
    "duration": 5,
    "start_time": "2024-11-18T14:30:44.247Z"
   },
   {
    "duration": 18,
    "start_time": "2024-11-18T14:30:44.254Z"
   },
   {
    "duration": 3032900,
    "start_time": "2024-11-18T14:31:14.557Z"
   },
   {
    "duration": 4554,
    "start_time": "2024-11-18T15:23:46.598Z"
   },
   {
    "duration": 921,
    "start_time": "2024-11-18T15:23:51.154Z"
   },
   {
    "duration": 7,
    "start_time": "2024-11-18T15:23:52.077Z"
   },
   {
    "duration": 29,
    "start_time": "2024-11-18T15:23:52.085Z"
   },
   {
    "duration": 28,
    "start_time": "2024-11-18T15:23:52.117Z"
   },
   {
    "duration": 59,
    "start_time": "2024-11-18T15:23:52.147Z"
   },
   {
    "duration": 130,
    "start_time": "2024-11-18T15:23:52.208Z"
   },
   {
    "duration": 22,
    "start_time": "2024-11-18T15:23:52.339Z"
   },
   {
    "duration": 43,
    "start_time": "2024-11-18T15:23:52.363Z"
   },
   {
    "duration": 63,
    "start_time": "2024-11-18T15:23:52.407Z"
   },
   {
    "duration": 1387,
    "start_time": "2024-11-18T15:23:52.472Z"
   },
   {
    "duration": 1314,
    "start_time": "2024-11-18T15:23:53.861Z"
   },
   {
    "duration": 1389,
    "start_time": "2024-11-18T15:23:55.177Z"
   },
   {
    "duration": 42,
    "start_time": "2024-11-18T15:23:56.569Z"
   },
   {
    "duration": 1501,
    "start_time": "2024-11-18T15:23:56.613Z"
   },
   {
    "duration": 12,
    "start_time": "2024-11-18T15:23:58.116Z"
   },
   {
    "duration": 28,
    "start_time": "2024-11-18T15:23:58.130Z"
   },
   {
    "duration": 43,
    "start_time": "2024-11-18T15:23:58.160Z"
   },
   {
    "duration": 3602,
    "start_time": "2024-11-18T15:23:58.205Z"
   },
   {
    "duration": 14,
    "start_time": "2024-11-18T15:24:01.809Z"
   },
   {
    "duration": 51,
    "start_time": "2024-11-18T15:24:01.825Z"
   },
   {
    "duration": 135,
    "start_time": "2024-11-18T15:24:01.879Z"
   },
   {
    "duration": 97,
    "start_time": "2024-11-18T15:24:02.016Z"
   },
   {
    "duration": 41,
    "start_time": "2024-11-18T15:24:02.114Z"
   },
   {
    "duration": 57,
    "start_time": "2024-11-18T15:24:02.157Z"
   },
   {
    "duration": 2035165,
    "start_time": "2024-11-18T15:24:25.456Z"
   },
   {
    "duration": 8076,
    "start_time": "2024-11-18T20:33:01.048Z"
   },
   {
    "duration": 3437,
    "start_time": "2024-11-18T20:33:09.126Z"
   },
   {
    "duration": 8,
    "start_time": "2024-11-18T20:33:12.565Z"
   },
   {
    "duration": 17,
    "start_time": "2024-11-18T20:33:12.576Z"
   },
   {
    "duration": 7,
    "start_time": "2024-11-18T20:33:12.595Z"
   },
   {
    "duration": 66,
    "start_time": "2024-11-18T20:33:12.604Z"
   },
   {
    "duration": 188,
    "start_time": "2024-11-18T20:33:12.671Z"
   },
   {
    "duration": 15,
    "start_time": "2024-11-18T20:33:12.861Z"
   },
   {
    "duration": 11,
    "start_time": "2024-11-18T20:33:12.879Z"
   },
   {
    "duration": 33,
    "start_time": "2024-11-18T20:33:12.891Z"
   },
   {
    "duration": 1467,
    "start_time": "2024-11-18T20:33:12.925Z"
   },
   {
    "duration": 1351,
    "start_time": "2024-11-18T20:33:14.394Z"
   },
   {
    "duration": 1356,
    "start_time": "2024-11-18T20:33:15.747Z"
   },
   {
    "duration": 49,
    "start_time": "2024-11-18T20:33:17.105Z"
   },
   {
    "duration": 1647,
    "start_time": "2024-11-18T20:33:17.157Z"
   },
   {
    "duration": 13,
    "start_time": "2024-11-18T20:33:18.806Z"
   },
   {
    "duration": 11,
    "start_time": "2024-11-18T20:33:18.821Z"
   },
   {
    "duration": 39,
    "start_time": "2024-11-18T20:33:18.834Z"
   },
   {
    "duration": 3357,
    "start_time": "2024-11-18T20:33:18.875Z"
   },
   {
    "duration": 14,
    "start_time": "2024-11-18T20:33:22.234Z"
   },
   {
    "duration": 55,
    "start_time": "2024-11-18T20:33:22.250Z"
   },
   {
    "duration": 11,
    "start_time": "2024-11-18T20:33:22.306Z"
   },
   {
    "duration": 31,
    "start_time": "2024-11-18T20:33:22.319Z"
   },
   {
    "duration": 6,
    "start_time": "2024-11-18T20:33:22.352Z"
   },
   {
    "duration": 25,
    "start_time": "2024-11-18T20:33:22.360Z"
   },
   {
    "duration": 814781,
    "start_time": "2024-11-18T20:36:32.605Z"
   },
   {
    "duration": 4863,
    "start_time": "2024-11-19T18:15:07.350Z"
   },
   {
    "duration": 1553,
    "start_time": "2024-11-19T18:15:12.216Z"
   },
   {
    "duration": 7,
    "start_time": "2024-11-19T18:15:13.771Z"
   },
   {
    "duration": 14,
    "start_time": "2024-11-19T18:15:13.781Z"
   },
   {
    "duration": 8,
    "start_time": "2024-11-19T18:15:13.796Z"
   },
   {
    "duration": 31,
    "start_time": "2024-11-19T18:15:13.819Z"
   },
   {
    "duration": 137,
    "start_time": "2024-11-19T18:15:13.852Z"
   },
   {
    "duration": 12,
    "start_time": "2024-11-19T18:15:13.991Z"
   },
   {
    "duration": 9,
    "start_time": "2024-11-19T18:15:14.018Z"
   },
   {
    "duration": 30,
    "start_time": "2024-11-19T18:15:14.030Z"
   },
   {
    "duration": 1388,
    "start_time": "2024-11-19T18:15:14.062Z"
   },
   {
    "duration": 1324,
    "start_time": "2024-11-19T18:15:15.452Z"
   },
   {
    "duration": 1329,
    "start_time": "2024-11-19T18:15:16.778Z"
   },
   {
    "duration": 43,
    "start_time": "2024-11-19T18:15:18.109Z"
   },
   {
    "duration": 1481,
    "start_time": "2024-11-19T18:15:18.154Z"
   },
   {
    "duration": 14,
    "start_time": "2024-11-19T18:15:19.636Z"
   },
   {
    "duration": 40,
    "start_time": "2024-11-19T18:15:19.652Z"
   },
   {
    "duration": 17,
    "start_time": "2024-11-19T18:15:19.694Z"
   },
   {
    "duration": 3237,
    "start_time": "2024-11-19T18:15:19.713Z"
   },
   {
    "duration": 15,
    "start_time": "2024-11-19T18:15:22.952Z"
   },
   {
    "duration": 26,
    "start_time": "2024-11-19T18:15:22.969Z"
   },
   {
    "duration": 28,
    "start_time": "2024-11-19T18:15:22.997Z"
   },
   {
    "duration": 35,
    "start_time": "2024-11-19T18:15:23.028Z"
   },
   {
    "duration": 5,
    "start_time": "2024-11-19T18:15:23.065Z"
   },
   {
    "duration": 20,
    "start_time": "2024-11-19T18:15:23.072Z"
   },
   {
    "duration": 5784,
    "start_time": "2024-11-19T18:15:23.118Z"
   },
   {
    "duration": 365653,
    "start_time": "2024-11-19T18:15:28.904Z"
   },
   {
    "duration": 362,
    "start_time": "2024-11-19T18:21:34.561Z"
   },
   {
    "duration": 10149,
    "start_time": "2024-11-19T18:21:34.926Z"
   },
   {
    "duration": 179327,
    "start_time": "2024-11-19T18:21:45.076Z"
   },
   {
    "duration": 217,
    "start_time": "2024-11-19T18:24:44.405Z"
   },
   {
    "duration": 145309,
    "start_time": "2024-11-19T18:24:44.624Z"
   },
   {
    "duration": 192,
    "start_time": "2024-11-19T18:27:09.935Z"
   },
   {
    "duration": 19,
    "start_time": "2024-11-19T18:27:10.129Z"
   },
   {
    "duration": 20,
    "start_time": "2024-11-19T18:27:10.151Z"
   },
   {
    "duration": 5,
    "start_time": "2024-11-19T18:33:45.800Z"
   },
   {
    "duration": 27,
    "start_time": "2024-11-19T18:33:56.150Z"
   },
   {
    "duration": 25,
    "start_time": "2024-11-19T18:33:57.614Z"
   },
   {
    "duration": 24,
    "start_time": "2024-11-19T18:34:07.491Z"
   },
   {
    "duration": 2856,
    "start_time": "2024-11-19T18:34:24.394Z"
   },
   {
    "duration": 1383,
    "start_time": "2024-11-19T18:34:27.253Z"
   },
   {
    "duration": 228,
    "start_time": "2024-11-19T18:34:28.637Z"
   },
   {
    "duration": 26,
    "start_time": "2024-11-19T18:34:28.867Z"
   },
   {
    "duration": 7,
    "start_time": "2024-11-19T18:34:28.894Z"
   },
   {
    "duration": 38,
    "start_time": "2024-11-19T18:34:28.903Z"
   },
   {
    "duration": 123,
    "start_time": "2024-11-19T18:34:28.943Z"
   },
   {
    "duration": 13,
    "start_time": "2024-11-19T18:34:29.068Z"
   },
   {
    "duration": 11,
    "start_time": "2024-11-19T18:34:29.083Z"
   },
   {
    "duration": 43,
    "start_time": "2024-11-19T18:34:29.096Z"
   },
   {
    "duration": 1271,
    "start_time": "2024-11-19T18:34:29.140Z"
   },
   {
    "duration": 1386,
    "start_time": "2024-11-19T18:34:30.417Z"
   },
   {
    "duration": 1384,
    "start_time": "2024-11-19T18:34:31.805Z"
   },
   {
    "duration": 50,
    "start_time": "2024-11-19T18:34:33.191Z"
   },
   {
    "duration": 1551,
    "start_time": "2024-11-19T18:34:33.243Z"
   },
   {
    "duration": 13,
    "start_time": "2024-11-19T18:34:34.796Z"
   },
   {
    "duration": 4696,
    "start_time": "2024-11-19T18:34:48.980Z"
   },
   {
    "duration": 916,
    "start_time": "2024-11-19T18:34:53.678Z"
   },
   {
    "duration": 7,
    "start_time": "2024-11-19T18:34:54.596Z"
   },
   {
    "duration": 51,
    "start_time": "2024-11-19T18:34:54.604Z"
   },
   {
    "duration": 62,
    "start_time": "2024-11-19T18:34:54.659Z"
   },
   {
    "duration": 64,
    "start_time": "2024-11-19T18:34:54.723Z"
   },
   {
    "duration": 105,
    "start_time": "2024-11-19T18:34:54.788Z"
   },
   {
    "duration": 23,
    "start_time": "2024-11-19T18:34:54.895Z"
   },
   {
    "duration": 10,
    "start_time": "2024-11-19T18:34:54.919Z"
   },
   {
    "duration": 50,
    "start_time": "2024-11-19T18:34:54.931Z"
   },
   {
    "duration": 1498,
    "start_time": "2024-11-19T18:34:54.983Z"
   },
   {
    "duration": 1314,
    "start_time": "2024-11-19T18:34:56.483Z"
   },
   {
    "duration": 1311,
    "start_time": "2024-11-19T18:34:57.799Z"
   },
   {
    "duration": 39,
    "start_time": "2024-11-19T18:34:59.112Z"
   },
   {
    "duration": 1503,
    "start_time": "2024-11-19T18:34:59.153Z"
   },
   {
    "duration": 16,
    "start_time": "2024-11-19T18:35:00.658Z"
   },
   {
    "duration": 6775,
    "start_time": "2024-11-19T18:56:52.539Z"
   },
   {
    "duration": 3469,
    "start_time": "2024-11-19T18:56:59.316Z"
   },
   {
    "duration": 7,
    "start_time": "2024-11-19T18:57:02.786Z"
   },
   {
    "duration": 34,
    "start_time": "2024-11-19T18:57:02.795Z"
   },
   {
    "duration": 30,
    "start_time": "2024-11-19T18:57:02.831Z"
   },
   {
    "duration": 51,
    "start_time": "2024-11-19T18:57:02.862Z"
   },
   {
    "duration": 96,
    "start_time": "2024-11-19T18:57:02.915Z"
   },
   {
    "duration": 16,
    "start_time": "2024-11-19T18:57:03.013Z"
   },
   {
    "duration": 82,
    "start_time": "2024-11-19T18:57:03.031Z"
   },
   {
    "duration": 31,
    "start_time": "2024-11-19T18:57:03.127Z"
   },
   {
    "duration": 1235,
    "start_time": "2024-11-19T18:57:03.160Z"
   },
   {
    "duration": 1306,
    "start_time": "2024-11-19T18:57:04.397Z"
   },
   {
    "duration": 1182,
    "start_time": "2024-11-19T18:57:05.704Z"
   },
   {
    "duration": 48,
    "start_time": "2024-11-19T18:57:06.887Z"
   },
   {
    "duration": 1381,
    "start_time": "2024-11-19T18:57:06.936Z"
   },
   {
    "duration": 13,
    "start_time": "2024-11-19T18:57:08.326Z"
   },
   {
    "duration": 33,
    "start_time": "2024-11-19T18:57:08.340Z"
   },
   {
    "duration": 894,
    "start_time": "2024-11-19T18:57:08.374Z"
   },
   {
    "duration": 1043,
    "start_time": "2024-11-19T18:57:43.263Z"
   },
   {
    "duration": 831,
    "start_time": "2024-11-19T18:57:49.550Z"
   },
   {
    "duration": 1029,
    "start_time": "2024-11-19T18:58:44.687Z"
   },
   {
    "duration": 13,
    "start_time": "2024-11-19T18:59:35.808Z"
   },
   {
    "duration": 11,
    "start_time": "2024-11-19T19:02:11.107Z"
   },
   {
    "duration": 12,
    "start_time": "2024-11-19T19:02:40.491Z"
   },
   {
    "duration": 13,
    "start_time": "2024-11-19T19:02:46.738Z"
   },
   {
    "duration": 12,
    "start_time": "2024-11-19T19:02:51.491Z"
   },
   {
    "duration": 12,
    "start_time": "2024-11-19T19:02:56.667Z"
   },
   {
    "duration": 12,
    "start_time": "2024-11-19T19:03:07.339Z"
   }
  ],
  "kernelspec": {
   "display_name": "Python 3 (ipykernel)",
   "language": "python",
   "name": "python3"
  },
  "language_info": {
   "codemirror_mode": {
    "name": "ipython",
    "version": 3
   },
   "file_extension": ".py",
   "mimetype": "text/x-python",
   "name": "python",
   "nbconvert_exporter": "python",
   "pygments_lexer": "ipython3",
   "version": "3.12.4"
  },
  "toc": {
   "base_numbering": 1,
   "nav_menu": {},
   "number_sections": true,
   "sideBar": true,
   "skip_h1_title": true,
   "title_cell": "Содержание",
   "title_sidebar": "Contents",
   "toc_cell": true,
   "toc_position": {
    "height": "calc(100% - 180px)",
    "left": "10px",
    "top": "150px",
    "width": "465.455px"
   },
   "toc_section_display": true,
   "toc_window_display": false
  }
 },
 "nbformat": 4,
 "nbformat_minor": 4
}
